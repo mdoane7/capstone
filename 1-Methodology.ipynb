{
 "cells": [
  {
   "cell_type": "markdown",
   "id": "7638854d-235e-43b9-b6e4-436038458dd4",
   "metadata": {},
   "source": [
    "# DIABETES PREDICTOR TOOL PROJECT"
   ]
  },
  {
   "cell_type": "markdown",
   "id": "92153734-f734-4c2d-b2ee-85a726b24aac",
   "metadata": {},
   "source": [
    "#### By Mona Doane, BMath, BSCS"
   ]
  },
  {
   "cell_type": "markdown",
   "id": "987282bd-3321-4ff4-9049-fb587ca59a30",
   "metadata": {},
   "source": [
    "# A. METHODOLOGY FOR DEVELOPING THE DIABETES PREDICTOR TOOL"
   ]
  },
  {
   "cell_type": "markdown",
   "id": "28afc7c1-5d65-47d6-bcf7-fded1591cb39",
   "metadata": {},
   "source": [
    "The following steps comprise the methodology used for developing the diabetes predictor tool: \n",
    "*  **Step 1:**  Import all relevant libraries to be used for data analysis\n",
    "*  **Step 2:**  Get the data and set up the data for preliminary analysis \n",
    "*  **Step 3:**  Clean the data set\n",
    "*  **Step 4:**  Visualize the data set\n",
    "*  **Step 5:**  Reduce and balance the data set\n",
    "*  **Step 6:**  Create testing and training data sets\n",
    "*  **Step 7:**  Select, train and evaluate models\n",
    "*  **Step 8:**  Select the most precise model and finetune it"
   ]
  },
  {
   "cell_type": "markdown",
   "id": "1e04a5e2-6081-4b4b-bc01-003fe37f5582",
   "metadata": {},
   "source": [
    "## STEP 1:  IMPORT ALL RELEVANT LIBRARIES TO BE USED FOR DATA ANALYSIS"
   ]
  },
  {
   "cell_type": "code",
   "execution_count": 1,
   "id": "381ca79e-b966-4254-8831-a931d031af73",
   "metadata": {},
   "outputs": [],
   "source": [
    "#Import libraries\n",
    "import pandas as pd\n",
    "import numpy as np\n",
    "import matplotlib.pyplot as plt\n",
    "import seaborn as sns\n",
    "import pickle\n",
    "\n",
    "# Plots will appear inline in notebook\n",
    "%matplotlib inline \n",
    "\n",
    "# Models from Scikit-Learn\n",
    "from sklearn.tree import DecisionTreeClassifier\n",
    "from sklearn.naive_bayes import GaussianNB\n",
    "from sklearn.ensemble import RandomForestClassifier\n",
    "\n",
    "# Model Evaluations\n",
    "from sklearn.inspection import permutation_importance\n",
    "from sklearn.model_selection import train_test_split\n",
    "from sklearn import metrics\n",
    "from sklearn.metrics import confusion_matrix, classification_report\n",
    "from sklearn.metrics import precision_score, recall_score, f1_score\n",
    "\n",
    "# Standardize any random options for duplication\n",
    "seed = 42\n",
    "np.random.seed(seed)"
   ]
  },
  {
   "cell_type": "markdown",
   "id": "cf0e73ca-3bf1-4483-b96b-1d3d4c6f13a4",
   "metadata": {},
   "source": [
    "## STEP 2: GET THE DATA AND SET UP THE DATA FOR PRELIMINARY ANALYSIS\n",
    "\n",
    "The following steps are used to get the data and set up the dataset for preliminary analysis:\n",
    "\n",
    "* **2a.**  Import the data\n",
    "* **2b.**  Inspect the data\n",
    "* **2c.**  Reduce the number of factors to study to a reasonable number"
   ]
  },
  {
   "cell_type": "markdown",
   "id": "0e49ae13-6e94-49cf-876e-96af54d56161",
   "metadata": {},
   "source": [
    "### 2a. Import the data"
   ]
  },
  {
   "cell_type": "markdown",
   "id": "70a3ff56-48e6-4f90-9cce-8619170ae160",
   "metadata": {},
   "source": [
    "**DATA SOURCE**\n",
    "\n",
    "The original data came from the US Center for Disease Control and Prevention (CDC) and was conducted by the Behavioral Risk Factor Surveillance System (BRFSS) in 2021. According to the CDC, BRFSS conducts over 400,000 adult health-related telephone surveys with U.S. residents in all 50 states and DC and the US territories regarding their health-related risk behaviors, chronic health conditions, and use of preventive services.  \n",
    "\n",
    "The original data can be found here.  \n",
    "> https://www.cdc.gov/brfss/annual_data/annual_2021.html\n",
    "\n",
    "The version of the data used in this project is also available on Kaggle.  The version used in this notebook is found here.    \n",
    "> https://www.kaggle.com/datasets/dariushbahrami/cdc-brfss-survey-2021\n",
    "\n",
    "A description of the features is contained in the following Codebook.  The Codebook contains the complete list of data variable names and methodology used to obtain and classify the data.  \n",
    "> https://www.cdc.gov/brfss/annual_data/2021/pdf/codebook21_llcp-v2-508.pdf"
   ]
  },
  {
   "cell_type": "code",
   "execution_count": 2,
   "id": "bfea6366-7cf0-4018-bd8b-7035ad97e3b5",
   "metadata": {},
   "outputs": [],
   "source": [
    "# Load the dataset\n",
    "CDC_Diabetes_DataSet = pd.read_csv('Diabetes_Dataset_2021.csv')"
   ]
  },
  {
   "cell_type": "markdown",
   "id": "57794729-aff5-47e0-995a-d6b98365fdce",
   "metadata": {},
   "source": [
    "### 2b. Inspect the data"
   ]
  },
  {
   "cell_type": "code",
   "execution_count": 3,
   "id": "ace07ac3-3c17-42e1-8bb7-c086c8804e78",
   "metadata": {},
   "outputs": [
    {
     "data": {
      "text/plain": [
       "(438693, 303)"
      ]
     },
     "execution_count": 3,
     "metadata": {},
     "output_type": "execute_result"
    }
   ],
   "source": [
    "# View the number of rows and columns in dataset\n",
    "CDC_Diabetes_DataSet.shape"
   ]
  },
  {
   "cell_type": "markdown",
   "id": "6e8d1dae-aed4-4b39-8e9f-0aa940c486d0",
   "metadata": {
    "jp-MarkdownHeadingCollapsed": true
   },
   "source": [
    "**COMMENTS**  \n",
    "\n",
    "> There are 438,693 rows and 303 columns.  I will need to reduce the number of rows and identify key features (or columns) to train the machine model without losing accuracy."
   ]
  },
  {
   "cell_type": "code",
   "execution_count": 4,
   "id": "67a3a240-7b85-47a9-aeff-7688db6d9f87",
   "metadata": {},
   "outputs": [
    {
     "data": {
      "text/html": [
       "<div>\n",
       "<style scoped>\n",
       "    .dataframe tbody tr th:only-of-type {\n",
       "        vertical-align: middle;\n",
       "    }\n",
       "\n",
       "    .dataframe tbody tr th {\n",
       "        vertical-align: top;\n",
       "    }\n",
       "\n",
       "    .dataframe thead th {\n",
       "        text-align: right;\n",
       "    }\n",
       "</style>\n",
       "<table border=\"1\" class=\"dataframe\">\n",
       "  <thead>\n",
       "    <tr style=\"text-align: right;\">\n",
       "      <th></th>\n",
       "      <th>_STATE</th>\n",
       "      <th>FMONTH</th>\n",
       "      <th>IDATE</th>\n",
       "      <th>IMONTH</th>\n",
       "      <th>IDAY</th>\n",
       "      <th>IYEAR</th>\n",
       "      <th>DISPCODE</th>\n",
       "      <th>SEQNO</th>\n",
       "      <th>_PSU</th>\n",
       "      <th>CTELENM1</th>\n",
       "      <th>...</th>\n",
       "      <th>_FRTRES1</th>\n",
       "      <th>_VEGRES1</th>\n",
       "      <th>_FRUTSU1</th>\n",
       "      <th>_VEGESU1</th>\n",
       "      <th>_FRTLT1A</th>\n",
       "      <th>_VEGLT1A</th>\n",
       "      <th>_FRT16A</th>\n",
       "      <th>_VEG23A</th>\n",
       "      <th>_FRUITE1</th>\n",
       "      <th>_VEGETE1</th>\n",
       "    </tr>\n",
       "  </thead>\n",
       "  <tbody>\n",
       "    <tr>\n",
       "      <th>0</th>\n",
       "      <td>1</td>\n",
       "      <td>1</td>\n",
       "      <td>1192021</td>\n",
       "      <td>1</td>\n",
       "      <td>19</td>\n",
       "      <td>2021</td>\n",
       "      <td>1100</td>\n",
       "      <td>2021000001</td>\n",
       "      <td>2021000001</td>\n",
       "      <td>1.0</td>\n",
       "      <td>...</td>\n",
       "      <td>1</td>\n",
       "      <td>1</td>\n",
       "      <td>100.0</td>\n",
       "      <td>214.0</td>\n",
       "      <td>1</td>\n",
       "      <td>1</td>\n",
       "      <td>1</td>\n",
       "      <td>1</td>\n",
       "      <td>0</td>\n",
       "      <td>0</td>\n",
       "    </tr>\n",
       "    <tr>\n",
       "      <th>1</th>\n",
       "      <td>1</td>\n",
       "      <td>1</td>\n",
       "      <td>1212021</td>\n",
       "      <td>1</td>\n",
       "      <td>21</td>\n",
       "      <td>2021</td>\n",
       "      <td>1100</td>\n",
       "      <td>2021000002</td>\n",
       "      <td>2021000002</td>\n",
       "      <td>1.0</td>\n",
       "      <td>...</td>\n",
       "      <td>1</td>\n",
       "      <td>1</td>\n",
       "      <td>100.0</td>\n",
       "      <td>128.0</td>\n",
       "      <td>1</td>\n",
       "      <td>1</td>\n",
       "      <td>1</td>\n",
       "      <td>1</td>\n",
       "      <td>0</td>\n",
       "      <td>0</td>\n",
       "    </tr>\n",
       "    <tr>\n",
       "      <th>2</th>\n",
       "      <td>1</td>\n",
       "      <td>1</td>\n",
       "      <td>1212021</td>\n",
       "      <td>1</td>\n",
       "      <td>21</td>\n",
       "      <td>2021</td>\n",
       "      <td>1100</td>\n",
       "      <td>2021000003</td>\n",
       "      <td>2021000003</td>\n",
       "      <td>1.0</td>\n",
       "      <td>...</td>\n",
       "      <td>1</td>\n",
       "      <td>1</td>\n",
       "      <td>100.0</td>\n",
       "      <td>71.0</td>\n",
       "      <td>1</td>\n",
       "      <td>2</td>\n",
       "      <td>1</td>\n",
       "      <td>1</td>\n",
       "      <td>0</td>\n",
       "      <td>0</td>\n",
       "    </tr>\n",
       "    <tr>\n",
       "      <th>3</th>\n",
       "      <td>1</td>\n",
       "      <td>1</td>\n",
       "      <td>1172021</td>\n",
       "      <td>1</td>\n",
       "      <td>17</td>\n",
       "      <td>2021</td>\n",
       "      <td>1100</td>\n",
       "      <td>2021000004</td>\n",
       "      <td>2021000004</td>\n",
       "      <td>1.0</td>\n",
       "      <td>...</td>\n",
       "      <td>1</td>\n",
       "      <td>1</td>\n",
       "      <td>114.0</td>\n",
       "      <td>165.0</td>\n",
       "      <td>1</td>\n",
       "      <td>1</td>\n",
       "      <td>1</td>\n",
       "      <td>1</td>\n",
       "      <td>0</td>\n",
       "      <td>0</td>\n",
       "    </tr>\n",
       "    <tr>\n",
       "      <th>4</th>\n",
       "      <td>1</td>\n",
       "      <td>1</td>\n",
       "      <td>1152021</td>\n",
       "      <td>1</td>\n",
       "      <td>15</td>\n",
       "      <td>2021</td>\n",
       "      <td>1100</td>\n",
       "      <td>2021000005</td>\n",
       "      <td>2021000005</td>\n",
       "      <td>1.0</td>\n",
       "      <td>...</td>\n",
       "      <td>1</td>\n",
       "      <td>1</td>\n",
       "      <td>100.0</td>\n",
       "      <td>258.0</td>\n",
       "      <td>1</td>\n",
       "      <td>1</td>\n",
       "      <td>1</td>\n",
       "      <td>1</td>\n",
       "      <td>0</td>\n",
       "      <td>0</td>\n",
       "    </tr>\n",
       "  </tbody>\n",
       "</table>\n",
       "<p>5 rows × 303 columns</p>\n",
       "</div>"
      ],
      "text/plain": [
       "   _STATE  FMONTH    IDATE  IMONTH  IDAY  IYEAR  DISPCODE       SEQNO  \\\n",
       "0       1       1  1192021       1    19   2021      1100  2021000001   \n",
       "1       1       1  1212021       1    21   2021      1100  2021000002   \n",
       "2       1       1  1212021       1    21   2021      1100  2021000003   \n",
       "3       1       1  1172021       1    17   2021      1100  2021000004   \n",
       "4       1       1  1152021       1    15   2021      1100  2021000005   \n",
       "\n",
       "         _PSU  CTELENM1  ...  _FRTRES1  _VEGRES1  _FRUTSU1  _VEGESU1  \\\n",
       "0  2021000001       1.0  ...         1         1     100.0     214.0   \n",
       "1  2021000002       1.0  ...         1         1     100.0     128.0   \n",
       "2  2021000003       1.0  ...         1         1     100.0      71.0   \n",
       "3  2021000004       1.0  ...         1         1     114.0     165.0   \n",
       "4  2021000005       1.0  ...         1         1     100.0     258.0   \n",
       "\n",
       "   _FRTLT1A  _VEGLT1A  _FRT16A  _VEG23A  _FRUITE1  _VEGETE1  \n",
       "0         1         1        1        1         0         0  \n",
       "1         1         1        1        1         0         0  \n",
       "2         1         2        1        1         0         0  \n",
       "3         1         1        1        1         0         0  \n",
       "4         1         1        1        1         0         0  \n",
       "\n",
       "[5 rows x 303 columns]"
      ]
     },
     "execution_count": 4,
     "metadata": {},
     "output_type": "execute_result"
    }
   ],
   "source": [
    "# View the dataset to gain a basic understanding of the data\n",
    "CDC_Diabetes_DataSet.head()"
   ]
  },
  {
   "cell_type": "code",
   "execution_count": 5,
   "id": "5f4b1cc4-f5bb-47ec-a28b-0e1c05894595",
   "metadata": {},
   "outputs": [
    {
     "name": "stdout",
     "output_type": "stream",
     "text": [
      "<class 'pandas.core.frame.DataFrame'>\n",
      "RangeIndex: 438693 entries, 0 to 438692\n",
      "Columns: 303 entries, _STATE to _VEGETE1\n",
      "dtypes: float64(245), int64(58)\n",
      "memory usage: 1014.1 MB\n"
     ]
    }
   ],
   "source": [
    "# Attempt to get some information on the data\n",
    "CDC_Diabetes_DataSet.info()"
   ]
  },
  {
   "cell_type": "code",
   "execution_count": 6,
   "id": "2f4db147-5b10-4e95-81fb-70366b140309",
   "metadata": {},
   "outputs": [
    {
     "data": {
      "text/html": [
       "<div>\n",
       "<style scoped>\n",
       "    .dataframe tbody tr th:only-of-type {\n",
       "        vertical-align: middle;\n",
       "    }\n",
       "\n",
       "    .dataframe tbody tr th {\n",
       "        vertical-align: top;\n",
       "    }\n",
       "\n",
       "    .dataframe thead th {\n",
       "        text-align: right;\n",
       "    }\n",
       "</style>\n",
       "<table border=\"1\" class=\"dataframe\">\n",
       "  <thead>\n",
       "    <tr style=\"text-align: right;\">\n",
       "      <th></th>\n",
       "      <th>_STATE</th>\n",
       "      <th>FMONTH</th>\n",
       "      <th>IDATE</th>\n",
       "      <th>IMONTH</th>\n",
       "      <th>IDAY</th>\n",
       "      <th>IYEAR</th>\n",
       "      <th>DISPCODE</th>\n",
       "      <th>SEQNO</th>\n",
       "      <th>_PSU</th>\n",
       "      <th>CTELENM1</th>\n",
       "      <th>...</th>\n",
       "      <th>_FRTRES1</th>\n",
       "      <th>_VEGRES1</th>\n",
       "      <th>_FRUTSU1</th>\n",
       "      <th>_VEGESU1</th>\n",
       "      <th>_FRTLT1A</th>\n",
       "      <th>_VEGLT1A</th>\n",
       "      <th>_FRT16A</th>\n",
       "      <th>_VEG23A</th>\n",
       "      <th>_FRUITE1</th>\n",
       "      <th>_VEGETE1</th>\n",
       "    </tr>\n",
       "  </thead>\n",
       "  <tbody>\n",
       "    <tr>\n",
       "      <th>count</th>\n",
       "      <td>438693.000000</td>\n",
       "      <td>438693.000000</td>\n",
       "      <td>4.386930e+05</td>\n",
       "      <td>438693.000000</td>\n",
       "      <td>438693.000000</td>\n",
       "      <td>438693.000000</td>\n",
       "      <td>438693.000000</td>\n",
       "      <td>4.386930e+05</td>\n",
       "      <td>4.386930e+05</td>\n",
       "      <td>117786.000000</td>\n",
       "      <td>...</td>\n",
       "      <td>438693.000000</td>\n",
       "      <td>438693.000000</td>\n",
       "      <td>387606.000000</td>\n",
       "      <td>378566.000000</td>\n",
       "      <td>438693.000000</td>\n",
       "      <td>438693.000000</td>\n",
       "      <td>438693.000000</td>\n",
       "      <td>438693.000000</td>\n",
       "      <td>438693.000000</td>\n",
       "      <td>438693.000000</td>\n",
       "    </tr>\n",
       "    <tr>\n",
       "      <th>mean</th>\n",
       "      <td>30.742155</td>\n",
       "      <td>6.405680</td>\n",
       "      <td>6.688758e+06</td>\n",
       "      <td>6.535354</td>\n",
       "      <td>15.138261</td>\n",
       "      <td>2021.053586</td>\n",
       "      <td>1118.189030</td>\n",
       "      <td>2.021006e+09</td>\n",
       "      <td>2.021006e+09</td>\n",
       "      <td>1.000017</td>\n",
       "      <td>...</td>\n",
       "      <td>0.883547</td>\n",
       "      <td>0.862941</td>\n",
       "      <td>178.342954</td>\n",
       "      <td>271.544175</td>\n",
       "      <td>2.270561</td>\n",
       "      <td>2.257184</td>\n",
       "      <td>0.994967</td>\n",
       "      <td>0.992699</td>\n",
       "      <td>0.126519</td>\n",
       "      <td>0.151662</td>\n",
       "    </tr>\n",
       "    <tr>\n",
       "      <th>std</th>\n",
       "      <td>15.334888</td>\n",
       "      <td>3.421731</td>\n",
       "      <td>3.444137e+06</td>\n",
       "      <td>3.443480</td>\n",
       "      <td>8.614820</td>\n",
       "      <td>0.225200</td>\n",
       "      <td>38.575453</td>\n",
       "      <td>6.383751e+03</td>\n",
       "      <td>6.383751e+03</td>\n",
       "      <td>0.004121</td>\n",
       "      <td>...</td>\n",
       "      <td>0.320767</td>\n",
       "      <td>0.343910</td>\n",
       "      <td>691.293103</td>\n",
       "      <td>1036.227213</td>\n",
       "      <td>2.485479</td>\n",
       "      <td>2.711460</td>\n",
       "      <td>0.070766</td>\n",
       "      <td>0.085135</td>\n",
       "      <td>0.347244</td>\n",
       "      <td>0.378501</td>\n",
       "    </tr>\n",
       "    <tr>\n",
       "      <th>min</th>\n",
       "      <td>1.000000</td>\n",
       "      <td>1.000000</td>\n",
       "      <td>1.012022e+06</td>\n",
       "      <td>1.000000</td>\n",
       "      <td>1.000000</td>\n",
       "      <td>2021.000000</td>\n",
       "      <td>1100.000000</td>\n",
       "      <td>2.021000e+09</td>\n",
       "      <td>2.021000e+09</td>\n",
       "      <td>1.000000</td>\n",
       "      <td>...</td>\n",
       "      <td>0.000000</td>\n",
       "      <td>0.000000</td>\n",
       "      <td>0.000000</td>\n",
       "      <td>0.000000</td>\n",
       "      <td>1.000000</td>\n",
       "      <td>1.000000</td>\n",
       "      <td>0.000000</td>\n",
       "      <td>0.000000</td>\n",
       "      <td>0.000000</td>\n",
       "      <td>0.000000</td>\n",
       "    </tr>\n",
       "    <tr>\n",
       "      <th>25%</th>\n",
       "      <td>20.000000</td>\n",
       "      <td>3.000000</td>\n",
       "      <td>3.302021e+06</td>\n",
       "      <td>3.000000</td>\n",
       "      <td>8.000000</td>\n",
       "      <td>2021.000000</td>\n",
       "      <td>1100.000000</td>\n",
       "      <td>2.021002e+09</td>\n",
       "      <td>2.021002e+09</td>\n",
       "      <td>1.000000</td>\n",
       "      <td>...</td>\n",
       "      <td>1.000000</td>\n",
       "      <td>1.000000</td>\n",
       "      <td>57.000000</td>\n",
       "      <td>114.000000</td>\n",
       "      <td>1.000000</td>\n",
       "      <td>1.000000</td>\n",
       "      <td>1.000000</td>\n",
       "      <td>1.000000</td>\n",
       "      <td>0.000000</td>\n",
       "      <td>0.000000</td>\n",
       "    </tr>\n",
       "    <tr>\n",
       "      <th>50%</th>\n",
       "      <td>31.000000</td>\n",
       "      <td>6.000000</td>\n",
       "      <td>7.032021e+06</td>\n",
       "      <td>7.000000</td>\n",
       "      <td>15.000000</td>\n",
       "      <td>2021.000000</td>\n",
       "      <td>1100.000000</td>\n",
       "      <td>2.021004e+09</td>\n",
       "      <td>2.021004e+09</td>\n",
       "      <td>1.000000</td>\n",
       "      <td>...</td>\n",
       "      <td>1.000000</td>\n",
       "      <td>1.000000</td>\n",
       "      <td>100.000000</td>\n",
       "      <td>167.000000</td>\n",
       "      <td>1.000000</td>\n",
       "      <td>1.000000</td>\n",
       "      <td>1.000000</td>\n",
       "      <td>1.000000</td>\n",
       "      <td>0.000000</td>\n",
       "      <td>0.000000</td>\n",
       "    </tr>\n",
       "    <tr>\n",
       "      <th>75%</th>\n",
       "      <td>41.000000</td>\n",
       "      <td>9.000000</td>\n",
       "      <td>1.003202e+07</td>\n",
       "      <td>10.000000</td>\n",
       "      <td>22.000000</td>\n",
       "      <td>2021.000000</td>\n",
       "      <td>1100.000000</td>\n",
       "      <td>2.021008e+09</td>\n",
       "      <td>2.021008e+09</td>\n",
       "      <td>1.000000</td>\n",
       "      <td>...</td>\n",
       "      <td>1.000000</td>\n",
       "      <td>1.000000</td>\n",
       "      <td>200.000000</td>\n",
       "      <td>229.000000</td>\n",
       "      <td>2.000000</td>\n",
       "      <td>2.000000</td>\n",
       "      <td>1.000000</td>\n",
       "      <td>1.000000</td>\n",
       "      <td>0.000000</td>\n",
       "      <td>0.000000</td>\n",
       "    </tr>\n",
       "    <tr>\n",
       "      <th>max</th>\n",
       "      <td>78.000000</td>\n",
       "      <td>12.000000</td>\n",
       "      <td>1.231202e+07</td>\n",
       "      <td>12.000000</td>\n",
       "      <td>31.000000</td>\n",
       "      <td>2022.000000</td>\n",
       "      <td>1200.000000</td>\n",
       "      <td>2.021039e+09</td>\n",
       "      <td>2.021039e+09</td>\n",
       "      <td>2.000000</td>\n",
       "      <td>...</td>\n",
       "      <td>1.000000</td>\n",
       "      <td>1.000000</td>\n",
       "      <td>19800.000000</td>\n",
       "      <td>39600.000000</td>\n",
       "      <td>9.000000</td>\n",
       "      <td>9.000000</td>\n",
       "      <td>1.000000</td>\n",
       "      <td>1.000000</td>\n",
       "      <td>2.000000</td>\n",
       "      <td>2.000000</td>\n",
       "    </tr>\n",
       "  </tbody>\n",
       "</table>\n",
       "<p>8 rows × 303 columns</p>\n",
       "</div>"
      ],
      "text/plain": [
       "              _STATE         FMONTH         IDATE         IMONTH  \\\n",
       "count  438693.000000  438693.000000  4.386930e+05  438693.000000   \n",
       "mean       30.742155       6.405680  6.688758e+06       6.535354   \n",
       "std        15.334888       3.421731  3.444137e+06       3.443480   \n",
       "min         1.000000       1.000000  1.012022e+06       1.000000   \n",
       "25%        20.000000       3.000000  3.302021e+06       3.000000   \n",
       "50%        31.000000       6.000000  7.032021e+06       7.000000   \n",
       "75%        41.000000       9.000000  1.003202e+07      10.000000   \n",
       "max        78.000000      12.000000  1.231202e+07      12.000000   \n",
       "\n",
       "                IDAY          IYEAR       DISPCODE         SEQNO  \\\n",
       "count  438693.000000  438693.000000  438693.000000  4.386930e+05   \n",
       "mean       15.138261    2021.053586    1118.189030  2.021006e+09   \n",
       "std         8.614820       0.225200      38.575453  6.383751e+03   \n",
       "min         1.000000    2021.000000    1100.000000  2.021000e+09   \n",
       "25%         8.000000    2021.000000    1100.000000  2.021002e+09   \n",
       "50%        15.000000    2021.000000    1100.000000  2.021004e+09   \n",
       "75%        22.000000    2021.000000    1100.000000  2.021008e+09   \n",
       "max        31.000000    2022.000000    1200.000000  2.021039e+09   \n",
       "\n",
       "               _PSU       CTELENM1  ...       _FRTRES1       _VEGRES1  \\\n",
       "count  4.386930e+05  117786.000000  ...  438693.000000  438693.000000   \n",
       "mean   2.021006e+09       1.000017  ...       0.883547       0.862941   \n",
       "std    6.383751e+03       0.004121  ...       0.320767       0.343910   \n",
       "min    2.021000e+09       1.000000  ...       0.000000       0.000000   \n",
       "25%    2.021002e+09       1.000000  ...       1.000000       1.000000   \n",
       "50%    2.021004e+09       1.000000  ...       1.000000       1.000000   \n",
       "75%    2.021008e+09       1.000000  ...       1.000000       1.000000   \n",
       "max    2.021039e+09       2.000000  ...       1.000000       1.000000   \n",
       "\n",
       "            _FRUTSU1       _VEGESU1       _FRTLT1A       _VEGLT1A  \\\n",
       "count  387606.000000  378566.000000  438693.000000  438693.000000   \n",
       "mean      178.342954     271.544175       2.270561       2.257184   \n",
       "std       691.293103    1036.227213       2.485479       2.711460   \n",
       "min         0.000000       0.000000       1.000000       1.000000   \n",
       "25%        57.000000     114.000000       1.000000       1.000000   \n",
       "50%       100.000000     167.000000       1.000000       1.000000   \n",
       "75%       200.000000     229.000000       2.000000       2.000000   \n",
       "max     19800.000000   39600.000000       9.000000       9.000000   \n",
       "\n",
       "             _FRT16A        _VEG23A       _FRUITE1       _VEGETE1  \n",
       "count  438693.000000  438693.000000  438693.000000  438693.000000  \n",
       "mean        0.994967       0.992699       0.126519       0.151662  \n",
       "std         0.070766       0.085135       0.347244       0.378501  \n",
       "min         0.000000       0.000000       0.000000       0.000000  \n",
       "25%         1.000000       1.000000       0.000000       0.000000  \n",
       "50%         1.000000       1.000000       0.000000       0.000000  \n",
       "75%         1.000000       1.000000       0.000000       0.000000  \n",
       "max         1.000000       1.000000       2.000000       2.000000  \n",
       "\n",
       "[8 rows x 303 columns]"
      ]
     },
     "execution_count": 6,
     "metadata": {},
     "output_type": "execute_result"
    }
   ],
   "source": [
    "# Attempt to get some information on the data\n",
    "CDC_Diabetes_DataSet.describe()"
   ]
  },
  {
   "cell_type": "markdown",
   "id": "11281bed-73ba-4715-8c21-75384d0b4617",
   "metadata": {},
   "source": [
    "### 2c.  Reduce the number of factors to study to a reasonable number "
   ]
  },
  {
   "cell_type": "markdown",
   "id": "cd33a837-930e-4a74-961b-6af589ad1e9d",
   "metadata": {},
   "source": [
    "A review of the data above shows the data description and information above are not very helpful as there are too many data points.\n",
    "Rather than studying 303 possible factors, I used established diabetes risk factors to narrow the columns into a smaller number of possible factors.  \n",
    "> https://www.cdc.gov/diabetes/basics/risk-factors.html\n",
    "\n",
    "**DIABETES AND ITS POSSIBLE RISK FACTORS**\n",
    "1. Diabetes = DIABETE4\n",
    "2. High Blood Pressure = _RFHYPE6\n",
    "3. High Cholesterol = TOLDHI3\n",
    "4. BMI = _BMI5\n",
    "5.  Smoke = SMOKE100\n",
    "6.  Stroke = CVDSTRK3\n",
    "7.  Heart Issue = _MICHD\n",
    "8.  Physical Activity = _TOTINDA\n",
    "9.  Fruit = _FRTLT1A\n",
    "10.  Vegetable = _VEGLT1A\n",
    "11.  Alcohol = DRNKANY5\n",
    "12.  Sex = _SEX\n",
    "13.  Age = _AGEG5YR\n",
    "14.  Race = _PRACE1\n"
   ]
  },
  {
   "cell_type": "code",
   "execution_count": 7,
   "id": "aca9ea22-ee64-4a0f-a5fc-32b639442fb9",
   "metadata": {},
   "outputs": [],
   "source": [
    "# Narrow 303 columns to 16 columns that are the most interesting for study\n",
    "CDC_Diabetes_DataFrame_Selection = CDC_Diabetes_DataSet[['DIABETE4', '_RFHYPE6', 'TOLDHI3', '_BMI5', 'SMOKE100', 'CVDSTRK3', \n",
    "                                                          '_MICHD', '_TOTINDA', '_FRTLT1A', '_VEGLT1A', 'DRNKANY5', '_SEX',\n",
    "                                                          '_AGEG5YR',  '_PRACE1']]"
   ]
  },
  {
   "cell_type": "code",
   "execution_count": 8,
   "id": "38ed502c-d65b-443a-ac90-23cb638f833e",
   "metadata": {},
   "outputs": [
    {
     "data": {
      "text/plain": [
       "(438693, 14)"
      ]
     },
     "execution_count": 8,
     "metadata": {},
     "output_type": "execute_result"
    }
   ],
   "source": [
    "# View the number of rows and columns in the selected data frame \n",
    "CDC_Diabetes_DataFrame_Selection.shape"
   ]
  },
  {
   "cell_type": "code",
   "execution_count": 9,
   "id": "bef24a49-e7c9-48ee-96a3-26270da8d902",
   "metadata": {},
   "outputs": [
    {
     "data": {
      "text/html": [
       "<div>\n",
       "<style scoped>\n",
       "    .dataframe tbody tr th:only-of-type {\n",
       "        vertical-align: middle;\n",
       "    }\n",
       "\n",
       "    .dataframe tbody tr th {\n",
       "        vertical-align: top;\n",
       "    }\n",
       "\n",
       "    .dataframe thead th {\n",
       "        text-align: right;\n",
       "    }\n",
       "</style>\n",
       "<table border=\"1\" class=\"dataframe\">\n",
       "  <thead>\n",
       "    <tr style=\"text-align: right;\">\n",
       "      <th></th>\n",
       "      <th>DIABETE4</th>\n",
       "      <th>_RFHYPE6</th>\n",
       "      <th>TOLDHI3</th>\n",
       "      <th>_BMI5</th>\n",
       "      <th>SMOKE100</th>\n",
       "      <th>CVDSTRK3</th>\n",
       "      <th>_MICHD</th>\n",
       "      <th>_TOTINDA</th>\n",
       "      <th>_FRTLT1A</th>\n",
       "      <th>_VEGLT1A</th>\n",
       "      <th>DRNKANY5</th>\n",
       "      <th>_SEX</th>\n",
       "      <th>_AGEG5YR</th>\n",
       "      <th>_PRACE1</th>\n",
       "    </tr>\n",
       "  </thead>\n",
       "  <tbody>\n",
       "    <tr>\n",
       "      <th>0</th>\n",
       "      <td>3.0</td>\n",
       "      <td>1</td>\n",
       "      <td>1.0</td>\n",
       "      <td>1454.0</td>\n",
       "      <td>1.0</td>\n",
       "      <td>2.0</td>\n",
       "      <td>2.0</td>\n",
       "      <td>2</td>\n",
       "      <td>1</td>\n",
       "      <td>1</td>\n",
       "      <td>2</td>\n",
       "      <td>2</td>\n",
       "      <td>11</td>\n",
       "      <td>1.0</td>\n",
       "    </tr>\n",
       "    <tr>\n",
       "      <th>1</th>\n",
       "      <td>1.0</td>\n",
       "      <td>2</td>\n",
       "      <td>1.0</td>\n",
       "      <td>NaN</td>\n",
       "      <td>2.0</td>\n",
       "      <td>2.0</td>\n",
       "      <td>1.0</td>\n",
       "      <td>1</td>\n",
       "      <td>1</td>\n",
       "      <td>1</td>\n",
       "      <td>2</td>\n",
       "      <td>2</td>\n",
       "      <td>10</td>\n",
       "      <td>2.0</td>\n",
       "    </tr>\n",
       "    <tr>\n",
       "      <th>2</th>\n",
       "      <td>1.0</td>\n",
       "      <td>2</td>\n",
       "      <td>2.0</td>\n",
       "      <td>2829.0</td>\n",
       "      <td>2.0</td>\n",
       "      <td>2.0</td>\n",
       "      <td>1.0</td>\n",
       "      <td>2</td>\n",
       "      <td>1</td>\n",
       "      <td>2</td>\n",
       "      <td>2</td>\n",
       "      <td>2</td>\n",
       "      <td>11</td>\n",
       "      <td>2.0</td>\n",
       "    </tr>\n",
       "    <tr>\n",
       "      <th>3</th>\n",
       "      <td>1.0</td>\n",
       "      <td>2</td>\n",
       "      <td>1.0</td>\n",
       "      <td>3347.0</td>\n",
       "      <td>2.0</td>\n",
       "      <td>2.0</td>\n",
       "      <td>2.0</td>\n",
       "      <td>1</td>\n",
       "      <td>1</td>\n",
       "      <td>1</td>\n",
       "      <td>1</td>\n",
       "      <td>2</td>\n",
       "      <td>9</td>\n",
       "      <td>1.0</td>\n",
       "    </tr>\n",
       "    <tr>\n",
       "      <th>4</th>\n",
       "      <td>1.0</td>\n",
       "      <td>1</td>\n",
       "      <td>1.0</td>\n",
       "      <td>2873.0</td>\n",
       "      <td>2.0</td>\n",
       "      <td>1.0</td>\n",
       "      <td>1.0</td>\n",
       "      <td>1</td>\n",
       "      <td>1</td>\n",
       "      <td>1</td>\n",
       "      <td>2</td>\n",
       "      <td>1</td>\n",
       "      <td>12</td>\n",
       "      <td>1.0</td>\n",
       "    </tr>\n",
       "  </tbody>\n",
       "</table>\n",
       "</div>"
      ],
      "text/plain": [
       "   DIABETE4  _RFHYPE6  TOLDHI3   _BMI5  SMOKE100  CVDSTRK3  _MICHD  _TOTINDA  \\\n",
       "0       3.0         1      1.0  1454.0       1.0       2.0     2.0         2   \n",
       "1       1.0         2      1.0     NaN       2.0       2.0     1.0         1   \n",
       "2       1.0         2      2.0  2829.0       2.0       2.0     1.0         2   \n",
       "3       1.0         2      1.0  3347.0       2.0       2.0     2.0         1   \n",
       "4       1.0         1      1.0  2873.0       2.0       1.0     1.0         1   \n",
       "\n",
       "   _FRTLT1A  _VEGLT1A  DRNKANY5  _SEX  _AGEG5YR  _PRACE1  \n",
       "0         1         1         2     2        11      1.0  \n",
       "1         1         1         2     2        10      2.0  \n",
       "2         1         2         2     2        11      2.0  \n",
       "3         1         1         1     2         9      1.0  \n",
       "4         1         1         2     1        12      1.0  "
      ]
     },
     "execution_count": 9,
     "metadata": {},
     "output_type": "execute_result"
    }
   ],
   "source": [
    "# View a sample of the selected data frame from the top\n",
    "CDC_Diabetes_DataFrame_Selection.head()"
   ]
  },
  {
   "cell_type": "code",
   "execution_count": 10,
   "id": "794e0d9e-591f-4151-ab92-e36cef4e107d",
   "metadata": {},
   "outputs": [
    {
     "data": {
      "text/html": [
       "<div>\n",
       "<style scoped>\n",
       "    .dataframe tbody tr th:only-of-type {\n",
       "        vertical-align: middle;\n",
       "    }\n",
       "\n",
       "    .dataframe tbody tr th {\n",
       "        vertical-align: top;\n",
       "    }\n",
       "\n",
       "    .dataframe thead th {\n",
       "        text-align: right;\n",
       "    }\n",
       "</style>\n",
       "<table border=\"1\" class=\"dataframe\">\n",
       "  <thead>\n",
       "    <tr style=\"text-align: right;\">\n",
       "      <th></th>\n",
       "      <th>DIABETE4</th>\n",
       "      <th>_RFHYPE6</th>\n",
       "      <th>TOLDHI3</th>\n",
       "      <th>_BMI5</th>\n",
       "      <th>SMOKE100</th>\n",
       "      <th>CVDSTRK3</th>\n",
       "      <th>_MICHD</th>\n",
       "      <th>_TOTINDA</th>\n",
       "      <th>_FRTLT1A</th>\n",
       "      <th>_VEGLT1A</th>\n",
       "      <th>DRNKANY5</th>\n",
       "      <th>_SEX</th>\n",
       "      <th>_AGEG5YR</th>\n",
       "      <th>_PRACE1</th>\n",
       "    </tr>\n",
       "  </thead>\n",
       "  <tbody>\n",
       "    <tr>\n",
       "      <th>438688</th>\n",
       "      <td>2.0</td>\n",
       "      <td>2</td>\n",
       "      <td>2.0</td>\n",
       "      <td>2469.0</td>\n",
       "      <td>1.0</td>\n",
       "      <td>2.0</td>\n",
       "      <td>2.0</td>\n",
       "      <td>1</td>\n",
       "      <td>1</td>\n",
       "      <td>1</td>\n",
       "      <td>1</td>\n",
       "      <td>2</td>\n",
       "      <td>3</td>\n",
       "      <td>99.0</td>\n",
       "    </tr>\n",
       "    <tr>\n",
       "      <th>438689</th>\n",
       "      <td>1.0</td>\n",
       "      <td>2</td>\n",
       "      <td>2.0</td>\n",
       "      <td>NaN</td>\n",
       "      <td>2.0</td>\n",
       "      <td>2.0</td>\n",
       "      <td>2.0</td>\n",
       "      <td>2</td>\n",
       "      <td>1</td>\n",
       "      <td>1</td>\n",
       "      <td>2</td>\n",
       "      <td>1</td>\n",
       "      <td>13</td>\n",
       "      <td>6.0</td>\n",
       "    </tr>\n",
       "    <tr>\n",
       "      <th>438690</th>\n",
       "      <td>3.0</td>\n",
       "      <td>1</td>\n",
       "      <td>1.0</td>\n",
       "      <td>3068.0</td>\n",
       "      <td>2.0</td>\n",
       "      <td>2.0</td>\n",
       "      <td>2.0</td>\n",
       "      <td>1</td>\n",
       "      <td>1</td>\n",
       "      <td>1</td>\n",
       "      <td>1</td>\n",
       "      <td>1</td>\n",
       "      <td>7</td>\n",
       "      <td>2.0</td>\n",
       "    </tr>\n",
       "    <tr>\n",
       "      <th>438691</th>\n",
       "      <td>3.0</td>\n",
       "      <td>2</td>\n",
       "      <td>2.0</td>\n",
       "      <td>2373.0</td>\n",
       "      <td>2.0</td>\n",
       "      <td>2.0</td>\n",
       "      <td>2.0</td>\n",
       "      <td>1</td>\n",
       "      <td>1</td>\n",
       "      <td>1</td>\n",
       "      <td>1</td>\n",
       "      <td>1</td>\n",
       "      <td>10</td>\n",
       "      <td>99.0</td>\n",
       "    </tr>\n",
       "    <tr>\n",
       "      <th>438692</th>\n",
       "      <td>3.0</td>\n",
       "      <td>1</td>\n",
       "      <td>1.0</td>\n",
       "      <td>3171.0</td>\n",
       "      <td>2.0</td>\n",
       "      <td>2.0</td>\n",
       "      <td>2.0</td>\n",
       "      <td>1</td>\n",
       "      <td>2</td>\n",
       "      <td>2</td>\n",
       "      <td>1</td>\n",
       "      <td>2</td>\n",
       "      <td>6</td>\n",
       "      <td>2.0</td>\n",
       "    </tr>\n",
       "  </tbody>\n",
       "</table>\n",
       "</div>"
      ],
      "text/plain": [
       "        DIABETE4  _RFHYPE6  TOLDHI3   _BMI5  SMOKE100  CVDSTRK3  _MICHD  \\\n",
       "438688       2.0         2      2.0  2469.0       1.0       2.0     2.0   \n",
       "438689       1.0         2      2.0     NaN       2.0       2.0     2.0   \n",
       "438690       3.0         1      1.0  3068.0       2.0       2.0     2.0   \n",
       "438691       3.0         2      2.0  2373.0       2.0       2.0     2.0   \n",
       "438692       3.0         1      1.0  3171.0       2.0       2.0     2.0   \n",
       "\n",
       "        _TOTINDA  _FRTLT1A  _VEGLT1A  DRNKANY5  _SEX  _AGEG5YR  _PRACE1  \n",
       "438688         1         1         1         1     2         3     99.0  \n",
       "438689         2         1         1         2     1        13      6.0  \n",
       "438690         1         1         1         1     1         7      2.0  \n",
       "438691         1         1         1         1     1        10     99.0  \n",
       "438692         1         2         2         1     2         6      2.0  "
      ]
     },
     "execution_count": 10,
     "metadata": {},
     "output_type": "execute_result"
    }
   ],
   "source": [
    "# View a sample of the selected data frame from the bottom\n",
    "CDC_Diabetes_DataFrame_Selection.tail()"
   ]
  },
  {
   "cell_type": "markdown",
   "id": "8d7f5f18-f7e5-42bc-8f68-d72e6876519b",
   "metadata": {},
   "source": [
    "## STEP 3:  CLEAN THE DATA SET\n",
    "\n",
    "The next step is to clean the data set to facilitate machine learning. This involves the following: \n",
    "\n",
    "* **3a.** Rename columns to make features more readable\n",
    "* **3b.** Inspect the data for missing values and remove all data with missing values\n",
    "* **3c.** Modify and clean the data to be more suitable to machine learning algorithms\n",
    "* **3d.** Inspect results of the data cleaning process"
   ]
  },
  {
   "cell_type": "markdown",
   "id": "dac03f86-09c8-4b87-a5db-98da58c2a773",
   "metadata": {},
   "source": [
    "### 3a:  Rename columns to make feature names from readable"
   ]
  },
  {
   "cell_type": "code",
   "execution_count": 11,
   "id": "7b8d2396-ee3e-4be0-acb0-2d32b19b4e56",
   "metadata": {},
   "outputs": [],
   "source": [
    "#Rename the columns to make them more readable\n",
    "CDC_Diabetes_DataFrame_Selection = CDC_Diabetes_DataFrame_Selection.rename(columns = {\n",
    "    'DIABETE4':'Diabetes', '_RFHYPE6':'HighBloodPressure', 'TOLDHI3':'HighCholesterol', \n",
    "    '_BMI5':'BMI', '_BMI5CAT':'Overweight', 'SMOKE100':'Smoker', 'CVDSTRK3':'Stroke', '_MICHD':'HeartIssues', \n",
    "    '_TOTINDA':'PhysicalActivity','_FRTLT1A':'Fruits', '_VEGLT1A':\"Vegetables\", 'DRNKANY5':'Alcohol', \n",
    "    '_SEX':'Sex', '_AGEG5YR':'Age', '_PRACE1':'Race'})"
   ]
  },
  {
   "cell_type": "code",
   "execution_count": 12,
   "id": "4d9bd20d-53d4-41cc-832d-3a5f2dd66eaa",
   "metadata": {},
   "outputs": [
    {
     "data": {
      "text/html": [
       "<div>\n",
       "<style scoped>\n",
       "    .dataframe tbody tr th:only-of-type {\n",
       "        vertical-align: middle;\n",
       "    }\n",
       "\n",
       "    .dataframe tbody tr th {\n",
       "        vertical-align: top;\n",
       "    }\n",
       "\n",
       "    .dataframe thead th {\n",
       "        text-align: right;\n",
       "    }\n",
       "</style>\n",
       "<table border=\"1\" class=\"dataframe\">\n",
       "  <thead>\n",
       "    <tr style=\"text-align: right;\">\n",
       "      <th></th>\n",
       "      <th>Diabetes</th>\n",
       "      <th>HighBloodPressure</th>\n",
       "      <th>HighCholesterol</th>\n",
       "      <th>BMI</th>\n",
       "      <th>Smoker</th>\n",
       "      <th>Stroke</th>\n",
       "      <th>HeartIssues</th>\n",
       "      <th>PhysicalActivity</th>\n",
       "      <th>Fruits</th>\n",
       "      <th>Vegetables</th>\n",
       "      <th>Alcohol</th>\n",
       "      <th>Sex</th>\n",
       "      <th>Age</th>\n",
       "      <th>Race</th>\n",
       "    </tr>\n",
       "  </thead>\n",
       "  <tbody>\n",
       "    <tr>\n",
       "      <th>0</th>\n",
       "      <td>3.0</td>\n",
       "      <td>1</td>\n",
       "      <td>1.0</td>\n",
       "      <td>1454.0</td>\n",
       "      <td>1.0</td>\n",
       "      <td>2.0</td>\n",
       "      <td>2.0</td>\n",
       "      <td>2</td>\n",
       "      <td>1</td>\n",
       "      <td>1</td>\n",
       "      <td>2</td>\n",
       "      <td>2</td>\n",
       "      <td>11</td>\n",
       "      <td>1.0</td>\n",
       "    </tr>\n",
       "    <tr>\n",
       "      <th>1</th>\n",
       "      <td>1.0</td>\n",
       "      <td>2</td>\n",
       "      <td>1.0</td>\n",
       "      <td>NaN</td>\n",
       "      <td>2.0</td>\n",
       "      <td>2.0</td>\n",
       "      <td>1.0</td>\n",
       "      <td>1</td>\n",
       "      <td>1</td>\n",
       "      <td>1</td>\n",
       "      <td>2</td>\n",
       "      <td>2</td>\n",
       "      <td>10</td>\n",
       "      <td>2.0</td>\n",
       "    </tr>\n",
       "    <tr>\n",
       "      <th>2</th>\n",
       "      <td>1.0</td>\n",
       "      <td>2</td>\n",
       "      <td>2.0</td>\n",
       "      <td>2829.0</td>\n",
       "      <td>2.0</td>\n",
       "      <td>2.0</td>\n",
       "      <td>1.0</td>\n",
       "      <td>2</td>\n",
       "      <td>1</td>\n",
       "      <td>2</td>\n",
       "      <td>2</td>\n",
       "      <td>2</td>\n",
       "      <td>11</td>\n",
       "      <td>2.0</td>\n",
       "    </tr>\n",
       "    <tr>\n",
       "      <th>3</th>\n",
       "      <td>1.0</td>\n",
       "      <td>2</td>\n",
       "      <td>1.0</td>\n",
       "      <td>3347.0</td>\n",
       "      <td>2.0</td>\n",
       "      <td>2.0</td>\n",
       "      <td>2.0</td>\n",
       "      <td>1</td>\n",
       "      <td>1</td>\n",
       "      <td>1</td>\n",
       "      <td>1</td>\n",
       "      <td>2</td>\n",
       "      <td>9</td>\n",
       "      <td>1.0</td>\n",
       "    </tr>\n",
       "    <tr>\n",
       "      <th>4</th>\n",
       "      <td>1.0</td>\n",
       "      <td>1</td>\n",
       "      <td>1.0</td>\n",
       "      <td>2873.0</td>\n",
       "      <td>2.0</td>\n",
       "      <td>1.0</td>\n",
       "      <td>1.0</td>\n",
       "      <td>1</td>\n",
       "      <td>1</td>\n",
       "      <td>1</td>\n",
       "      <td>2</td>\n",
       "      <td>1</td>\n",
       "      <td>12</td>\n",
       "      <td>1.0</td>\n",
       "    </tr>\n",
       "  </tbody>\n",
       "</table>\n",
       "</div>"
      ],
      "text/plain": [
       "   Diabetes  HighBloodPressure  HighCholesterol     BMI  Smoker  Stroke  \\\n",
       "0       3.0                  1              1.0  1454.0     1.0     2.0   \n",
       "1       1.0                  2              1.0     NaN     2.0     2.0   \n",
       "2       1.0                  2              2.0  2829.0     2.0     2.0   \n",
       "3       1.0                  2              1.0  3347.0     2.0     2.0   \n",
       "4       1.0                  1              1.0  2873.0     2.0     1.0   \n",
       "\n",
       "   HeartIssues  PhysicalActivity  Fruits  Vegetables  Alcohol  Sex  Age  Race  \n",
       "0          2.0                 2       1           1        2    2   11   1.0  \n",
       "1          1.0                 1       1           1        2    2   10   2.0  \n",
       "2          1.0                 2       1           2        2    2   11   2.0  \n",
       "3          2.0                 1       1           1        1    2    9   1.0  \n",
       "4          1.0                 1       1           1        2    1   12   1.0  "
      ]
     },
     "execution_count": 12,
     "metadata": {},
     "output_type": "execute_result"
    }
   ],
   "source": [
    "# View a sample of the selected data frame with the modified column names\n",
    "CDC_Diabetes_DataFrame_Selection.head()"
   ]
  },
  {
   "cell_type": "markdown",
   "id": "d2014b08-f422-48da-84f0-56dba34d5381",
   "metadata": {},
   "source": [
    "### 3b:  Inspect the data for missing values and remove all data with missing values"
   ]
  },
  {
   "cell_type": "code",
   "execution_count": 13,
   "id": "e441fef0-6a66-4802-bc9f-c32e78416dc1",
   "metadata": {},
   "outputs": [
    {
     "data": {
      "text/plain": [
       "Diabetes                 3\n",
       "HighBloodPressure        0\n",
       "HighCholesterol      60836\n",
       "BMI                  46852\n",
       "Smoker               21232\n",
       "Stroke                   2\n",
       "HeartIssues           4635\n",
       "PhysicalActivity         0\n",
       "Fruits                   0\n",
       "Vegetables               0\n",
       "Alcohol                  0\n",
       "Sex                      0\n",
       "Age                      0\n",
       "Race                     4\n",
       "dtype: int64"
      ]
     },
     "execution_count": 13,
     "metadata": {},
     "output_type": "execute_result"
    }
   ],
   "source": [
    "# Review to see if there are any missing values (i.e. Na)\n",
    "CDC_Diabetes_DataFrame_Selection.isna().sum()"
   ]
  },
  {
   "cell_type": "code",
   "execution_count": 14,
   "id": "d49362bc-abc4-4f82-8386-78d579f668a1",
   "metadata": {},
   "outputs": [],
   "source": [
    "# Drop all missing data points\n",
    "CDC_Diabetes_DataFrame_Selection = CDC_Diabetes_DataFrame_Selection.dropna()"
   ]
  },
  {
   "cell_type": "code",
   "execution_count": 15,
   "id": "e0b94f3a-b20b-4267-8cc6-9a0e24493ef3",
   "metadata": {},
   "outputs": [
    {
     "data": {
      "text/plain": [
       "Diabetes             0\n",
       "HighBloodPressure    0\n",
       "HighCholesterol      0\n",
       "BMI                  0\n",
       "Smoker               0\n",
       "Stroke               0\n",
       "HeartIssues          0\n",
       "PhysicalActivity     0\n",
       "Fruits               0\n",
       "Vegetables           0\n",
       "Alcohol              0\n",
       "Sex                  0\n",
       "Age                  0\n",
       "Race                 0\n",
       "dtype: int64"
      ]
     },
     "execution_count": 15,
     "metadata": {},
     "output_type": "execute_result"
    }
   ],
   "source": [
    "# Review to ensure rows with missing values (i.e. NaN) are dropped \n",
    "CDC_Diabetes_DataFrame_Selection.isna().sum()"
   ]
  },
  {
   "cell_type": "code",
   "execution_count": 16,
   "id": "950fdb9e-d959-4993-a240-02a04523f235",
   "metadata": {},
   "outputs": [
    {
     "data": {
      "text/plain": [
       "Diabetes             0\n",
       "HighBloodPressure    0\n",
       "HighCholesterol      0\n",
       "BMI                  0\n",
       "Smoker               0\n",
       "Stroke               0\n",
       "HeartIssues          0\n",
       "PhysicalActivity     0\n",
       "Fruits               0\n",
       "Vegetables           0\n",
       "Alcohol              0\n",
       "Sex                  0\n",
       "Age                  0\n",
       "Race                 0\n",
       "dtype: int64"
      ]
     },
     "execution_count": 16,
     "metadata": {},
     "output_type": "execute_result"
    }
   ],
   "source": [
    "# Review to ensure rows with missing values (i.e. Null) are dropped \n",
    "CDC_Diabetes_DataFrame_Selection.isnull().sum()"
   ]
  },
  {
   "cell_type": "code",
   "execution_count": 17,
   "id": "7012bcaa-24b9-4828-a258-0aa313fe3039",
   "metadata": {},
   "outputs": [
    {
     "data": {
      "text/plain": [
       "(330365, 14)"
      ]
     },
     "execution_count": 17,
     "metadata": {},
     "output_type": "execute_result"
    }
   ],
   "source": [
    "# View the number of rows and columns in the remaining selected data frame\n",
    "CDC_Diabetes_DataFrame_Selection.shape"
   ]
  },
  {
   "cell_type": "markdown",
   "id": "ec30e4c8-3f46-4765-938f-5c676dd37e90",
   "metadata": {},
   "source": [
    "### 3c:  Modify and clean the data to be more suitable to machine learning algorithms"
   ]
  },
  {
   "cell_type": "markdown",
   "id": "a5e85f9b-fe09-4472-b4ed-f5fddbf51800",
   "metadata": {},
   "source": [
    "Each variable is described in the codebook with the variables and respondent values. In studying each remaining variable in the codebook, I notived the data set includes responses such as \"don't know\" or \"refused\" so our next step is to remove those responses.  If possible, where there are multiple valid responses, the data set is reduced to binary classifications that will allow for machine learning.  \n",
    "\n",
    "Codebook Link:  \n",
    "> https://www.cdc.gov/brfss/annual_data/2021/pdf/codebook21_llcp-v2-508.pdf\n",
    "\n",
    "Clean Each Variable: \n",
    "1. Diabetes\n",
    "2. High Blood Pressure\n",
    "3. High Cholesterol\n",
    "4. BMI\n",
    "5. Smoker\n",
    "6. Stroke\n",
    "7. HeartIssues\n",
    "8. PhysicalActivity\n",
    "9. Fruits\n",
    "10. Vegetables\n",
    "11. Alcohol\n",
    "12. Sex\n",
    "13. Age\n",
    "14. Race"
   ]
  },
  {
   "cell_type": "markdown",
   "id": "47e2262d-4a6a-4ede-9087-cf9b3551708a",
   "metadata": {},
   "source": [
    "##### 1. Variable:  Diabetes"
   ]
  },
  {
   "cell_type": "code",
   "execution_count": 18,
   "id": "533e001d-3332-42cd-a60a-c7004bd6ed88",
   "metadata": {},
   "outputs": [
    {
     "data": {
      "text/plain": [
       "array([0., 1.])"
      ]
     },
     "execution_count": 18,
     "metadata": {},
     "output_type": "execute_result"
    }
   ],
   "source": [
    "# This is what the survey will predict using machine learning\n",
    "# DIABETE4 = Diabetes = Have you ever been told you have diabetes?\n",
    "# Respondent values: 1 = Yes; 2 = Yes when pregnant; 3 = No; 4 = No but has pre-diabetes; 7 = Don't know; 9 = Refused \n",
    "# Revised dataset as follows: \n",
    "    # Modified to binary classification: \n",
    "        # 0 = No Diabetes (includes 2 = Yes when pregnant; and 3 = No) \n",
    "        # 1 = Diabetes (includes 1 = Yes; and 4 = No but has pre-diabetes)\n",
    "    # Removed: 7 = Don't know; and 9 = Refused \n",
    "CDC_Diabetes_DataFrame_Selection['Diabetes'] = CDC_Diabetes_DataFrame_Selection['Diabetes'].replace({1:1, 2:0, 3:0, 4:1})\n",
    "CDC_Diabetes_DataFrame_Selection = CDC_Diabetes_DataFrame_Selection[CDC_Diabetes_DataFrame_Selection.Diabetes != 7]\n",
    "CDC_Diabetes_DataFrame_Selection = CDC_Diabetes_DataFrame_Selection[CDC_Diabetes_DataFrame_Selection.Diabetes != 9]\n",
    "\n",
    "#Display all unique values in Diabetes Column (should be only 0s and 1s)\n",
    "CDC_Diabetes_DataFrame_Selection.Diabetes.unique()"
   ]
  },
  {
   "cell_type": "markdown",
   "id": "2bf63946-ac5f-4e94-bcd4-7d078a1b9ff9",
   "metadata": {},
   "source": [
    "##### 2. Variable:  High Blood Pressure"
   ]
  },
  {
   "cell_type": "code",
   "execution_count": 19,
   "id": "96472362-a96e-4793-ac02-74802953ea31",
   "metadata": {},
   "outputs": [
    {
     "data": {
      "text/plain": [
       "array([0, 1], dtype=int64)"
      ]
     },
     "execution_count": 19,
     "metadata": {},
     "output_type": "execute_result"
    }
   ],
   "source": [
    "# _RFHYPE6 = HighBloodPressure = Have you ever been told you have high blood pressure by a doctor, nurse or other health professional?\n",
    "# Respondent values:  1 = No; 2 = Yes; 9 = All others (Don't know, Refused) \n",
    "# Revised dataset as follows: \n",
    "    # Modified to binary classification: \n",
    "        # 0 = No High Blood Pressure (1 = No)  \n",
    "        # 1 = High Blood Pressure (2 = Yes)\n",
    "    # Removed: 9 = All others (Don't know, Refused) \n",
    "CDC_Diabetes_DataFrame_Selection['HighBloodPressure'] = CDC_Diabetes_DataFrame_Selection['HighBloodPressure'].replace({1:0, 2:1})\n",
    "CDC_Diabetes_DataFrame_Selection = CDC_Diabetes_DataFrame_Selection[CDC_Diabetes_DataFrame_Selection.HighBloodPressure != 9]\n",
    "\n",
    "#Display all unique values in HighBloodPressure Column (should be only 0s and 1s)\n",
    "CDC_Diabetes_DataFrame_Selection.HighBloodPressure.unique()"
   ]
  },
  {
   "cell_type": "markdown",
   "id": "4378466a-585e-47b2-9840-5e3be7e94fcf",
   "metadata": {},
   "source": [
    "##### 3. Variable:  High Cholesterol"
   ]
  },
  {
   "cell_type": "code",
   "execution_count": 20,
   "id": "d7f526b4-e21b-483f-ac61-493768d03a99",
   "metadata": {},
   "outputs": [
    {
     "data": {
      "text/plain": [
       "array([1., 0.])"
      ]
     },
     "execution_count": 20,
     "metadata": {},
     "output_type": "execute_result"
    }
   ],
   "source": [
    "# TOLDHI3 = HighCholesterol = Have you ever been told by a doctor, nurse or other health professional that your cholesterol is high? \n",
    "# Respondent values:  1 = Yes; 2 = No; 7 = Don't know; 9 = Refused \n",
    "# Revised dataset as follows: \n",
    "    # Modified to binary classification: \n",
    "        # 0 = No High Cholesterol (2 = No)  \n",
    "        # 1 = High Cholesterol (1 = Yes)\n",
    "    # Removed: 7 = Don't know; 9 = Refused \n",
    "CDC_Diabetes_DataFrame_Selection['HighCholesterol'] = CDC_Diabetes_DataFrame_Selection['HighCholesterol'].replace({1:1, 2:0})\n",
    "CDC_Diabetes_DataFrame_Selection = CDC_Diabetes_DataFrame_Selection[CDC_Diabetes_DataFrame_Selection.HighCholesterol != 7]\n",
    "CDC_Diabetes_DataFrame_Selection = CDC_Diabetes_DataFrame_Selection[CDC_Diabetes_DataFrame_Selection.HighCholesterol != 9]\n",
    "\n",
    "#Display all unique values in HighCholesterol Column (should be only 0s and 1s)\n",
    "CDC_Diabetes_DataFrame_Selection.HighCholesterol.unique()"
   ]
  },
  {
   "cell_type": "markdown",
   "id": "dfae60db-2991-4a03-b941-dcce93566570",
   "metadata": {},
   "source": [
    "##### 4. Variable: BMI"
   ]
  },
  {
   "cell_type": "code",
   "execution_count": 21,
   "id": "cfb50f9e-4370-48f3-8669-903b70466b43",
   "metadata": {},
   "outputs": [
    {
     "data": {
      "text/plain": [
       "array([15., 28., 33., 29., 24., 46., 23., 40., 27., 35., 18., 30., 25.,\n",
       "       36., 22., 31., 45., 26., 14., 38., 21., 32., 20., 19., 34., 41.,\n",
       "       43., 44., 39., 37., 16., 42., 50., 51., 17., 52., 47., 49., 56.,\n",
       "       57., 48., 58., 61., 53., 63., 64., 54., 68., 55., 62., 13., 59.,\n",
       "       89., 66., 77., 60., 87., 69., 72., 75., 67., 71., 65., 82., 86.,\n",
       "       70., 78., 12., 74., 98., 73., 84., 76., 80., 83., 79., 99., 88.,\n",
       "       81., 90., 92., 91., 95., 85., 94.])"
      ]
     },
     "execution_count": 21,
     "metadata": {},
     "output_type": "execute_result"
    }
   ],
   "source": [
    "# _BMI5 = Body mass index =  Note this is computed from height and weight \n",
    "# BMI are * 100\n",
    "CDC_Diabetes_DataFrame_Selection['BMI'] = CDC_Diabetes_DataFrame_Selection['BMI'].div(100).round(0)\n",
    "CDC_Diabetes_DataFrame_Selection.BMI.unique()"
   ]
  },
  {
   "cell_type": "markdown",
   "id": "a1b7f779-2910-4b7a-b377-5eb4136114e5",
   "metadata": {},
   "source": [
    "##### 5. Variable: Smoker"
   ]
  },
  {
   "cell_type": "code",
   "execution_count": 22,
   "id": "b958a466-8bbd-459e-b73f-75681f2fa5f1",
   "metadata": {},
   "outputs": [
    {
     "data": {
      "text/plain": [
       "array([1., 0.])"
      ]
     },
     "execution_count": 22,
     "metadata": {},
     "output_type": "execute_result"
    }
   ],
   "source": [
    "# SMOKE100  = Smoker = Have you smoked at least 100 cigarettes in your entire life? \n",
    "# Respondent values: 1 = Yes; 2 = No; 7 = Don't know; 9 = Refused \n",
    "# Revised dataset as follows: \n",
    "    # Modified to binary classification: \n",
    "        # 0 = Non-smoker (2 = No)  \n",
    "        # 1 = Smoker (1 = Yes)\n",
    "    # Removed: 7 = Don't know; 9 = Refused \n",
    "CDC_Diabetes_DataFrame_Selection['Smoker'] = CDC_Diabetes_DataFrame_Selection['Smoker'].replace({2:0, 1:1})\n",
    "CDC_Diabetes_DataFrame_Selection = CDC_Diabetes_DataFrame_Selection[CDC_Diabetes_DataFrame_Selection.Smoker != 7]\n",
    "CDC_Diabetes_DataFrame_Selection = CDC_Diabetes_DataFrame_Selection[CDC_Diabetes_DataFrame_Selection.Smoker != 9]\n",
    "\n",
    "#Display all unique values in Smoker Column (should be only 0s and 1s)\n",
    "CDC_Diabetes_DataFrame_Selection.Smoker.unique()"
   ]
  },
  {
   "cell_type": "markdown",
   "id": "9f2f9e5e-fa83-47ed-879f-945e779126f3",
   "metadata": {},
   "source": [
    "##### 6. Variable: Stroke"
   ]
  },
  {
   "cell_type": "code",
   "execution_count": 23,
   "id": "8e6f1e7e-c05e-41d9-85ec-a9a0e1d27d36",
   "metadata": {},
   "outputs": [
    {
     "data": {
      "text/plain": [
       "array([0., 1.])"
      ]
     },
     "execution_count": 23,
     "metadata": {},
     "output_type": "execute_result"
    }
   ],
   "source": [
    "# CVDSTRK3 = Stroke = Have you ever been told you had a stroke?\n",
    "# Respondent values: 1 = Yes; 2 = No; 7 = Don't know; 9 = Refused \n",
    "# Revised dataset as follows: \n",
    "    # Modified to binary classification: \n",
    "        # 0 = No Stroke (2 = No)  \n",
    "        # 1 = Stroke (1 = Yes)\n",
    "    # Removed: 7 = Don't know; 9 = Refused \n",
    "CDC_Diabetes_DataFrame_Selection['Stroke'] = CDC_Diabetes_DataFrame_Selection['Stroke'].replace({2:0, 1:1})\n",
    "CDC_Diabetes_DataFrame_Selection = CDC_Diabetes_DataFrame_Selection[CDC_Diabetes_DataFrame_Selection.Stroke != 7]\n",
    "CDC_Diabetes_DataFrame_Selection = CDC_Diabetes_DataFrame_Selection[CDC_Diabetes_DataFrame_Selection.Stroke != 9]\n",
    "\n",
    "#Display all unique values in Stroke Column (should be only 0s and 1s)\n",
    "CDC_Diabetes_DataFrame_Selection.Stroke.unique()"
   ]
  },
  {
   "cell_type": "markdown",
   "id": "94ac2780-bfd0-4736-bde8-6ba261fa9d54",
   "metadata": {},
   "source": [
    "##### 7. Variable: Heart Issues"
   ]
  },
  {
   "cell_type": "code",
   "execution_count": 24,
   "id": "db31f22f-a8c7-4c0f-a042-78f95453048d",
   "metadata": {},
   "outputs": [
    {
     "data": {
      "text/plain": [
       "array([0., 1.])"
      ]
     },
     "execution_count": 24,
     "metadata": {},
     "output_type": "execute_result"
    }
   ],
   "source": [
    "# _MICHD = HeartIssues = Have you ever been told you have coronary heart disease (CHD) or myocardial infarction (MI)?\n",
    "# Respondent values: 1 = Yes; 2 = No; 7 = Don't know; 9 = Refused \n",
    "# Revised dataset as follows: \n",
    "    # Modified to binary classification: \n",
    "        # 0 = No Heart Issues (2 = No)  \n",
    "        # 1 = Heart Issues (1 = Yes)\n",
    "    # Removed: 7 = Don't know; 9 = Refused \n",
    "CDC_Diabetes_DataFrame_Selection['HeartIssues'] = CDC_Diabetes_DataFrame_Selection['HeartIssues'].replace({2:0, 1:1})\n",
    "CDC_Diabetes_DataFrame_Selection = CDC_Diabetes_DataFrame_Selection[CDC_Diabetes_DataFrame_Selection.HeartIssues != 7]\n",
    "CDC_Diabetes_DataFrame_Selection = CDC_Diabetes_DataFrame_Selection[CDC_Diabetes_DataFrame_Selection.HeartIssues != 9]\n",
    "\n",
    "#Display all unique values in HeartIssues Column (should be only 0s and 1s)\n",
    "CDC_Diabetes_DataFrame_Selection.HeartIssues.unique()"
   ]
  },
  {
   "cell_type": "markdown",
   "id": "c7fb3f33-a535-422f-a1de-7f1473451213",
   "metadata": {},
   "source": [
    "##### 8. Variable: Physical Activity"
   ]
  },
  {
   "cell_type": "code",
   "execution_count": 25,
   "id": "46ef2346-610b-4b9a-8673-6abc99478583",
   "metadata": {},
   "outputs": [
    {
     "data": {
      "text/plain": [
       "array([0, 1], dtype=int64)"
      ]
     },
     "execution_count": 25,
     "metadata": {},
     "output_type": "execute_result"
    }
   ],
   "source": [
    "# _TOTINDA = PhysicalActivity = Have you done any physical activity or exercised during the past 30 days other than for work?\n",
    "# Respondent values: 1 = Yes; 2 = No; 9 = All Others (Don't Know, Refused) \n",
    "# Revised dataset as follows: \n",
    "    # Modified to binary classification: \n",
    "        # 0 = No Physical Activity (2 = No)  \n",
    "        # 1 = Physical Activity (1 = Yes)\n",
    "    # Removed: 9 = All Others (Don't Know, Refused) \n",
    "CDC_Diabetes_DataFrame_Selection['PhysicalActivity'] = CDC_Diabetes_DataFrame_Selection['PhysicalActivity'].replace({2:0, 1:1})\n",
    "CDC_Diabetes_DataFrame_Selection = CDC_Diabetes_DataFrame_Selection[CDC_Diabetes_DataFrame_Selection.PhysicalActivity != 9]\n",
    "\n",
    "#Display all unique values in Physical Activity Column (should be only 0s and 1s)\n",
    "CDC_Diabetes_DataFrame_Selection.PhysicalActivity.unique()"
   ]
  },
  {
   "cell_type": "markdown",
   "id": "d270baf5-74b6-4ac9-9ab1-fa72d231b065",
   "metadata": {},
   "source": [
    "##### 9. Variable: Fruits"
   ]
  },
  {
   "cell_type": "code",
   "execution_count": 26,
   "id": "c418bfcb-b228-4820-abb7-2496aaa24eaa",
   "metadata": {},
   "outputs": [
    {
     "data": {
      "text/plain": [
       "array([1, 0], dtype=int64)"
      ]
     },
     "execution_count": 26,
     "metadata": {},
     "output_type": "execute_result"
    }
   ],
   "source": [
    "# _FRTLT1A = Fruits = Do you eat fruits 1 or more times a day? \n",
    "# Respondent values: 1 = Yes; 2 = No; 9 = All Others (Don't Know, Refused) \n",
    "# Revised dataset as follows: \n",
    "    # Modified to binary classification: \n",
    "        # 0 = Does Not Consume Fruits (2 = No)  \n",
    "        # 1 = Consumes Fruits (1 = Yes)\n",
    "    # Removed: 9 = All Others (Don't Know, Refused) \n",
    "CDC_Diabetes_DataFrame_Selection['Fruits'] = CDC_Diabetes_DataFrame_Selection['Fruits'].replace({2:0, 1:1})\n",
    "CDC_Diabetes_DataFrame_Selection = CDC_Diabetes_DataFrame_Selection[CDC_Diabetes_DataFrame_Selection.Fruits != 9]\n",
    "\n",
    "#Display all unique values in Fruits Column (should be only 0s and 1s)\n",
    "CDC_Diabetes_DataFrame_Selection.Fruits.unique()"
   ]
  },
  {
   "cell_type": "markdown",
   "id": "6af7c40a-ad62-46e9-97f8-224a55300964",
   "metadata": {},
   "source": [
    "##### 10. Variable: Vegetables"
   ]
  },
  {
   "cell_type": "code",
   "execution_count": 27,
   "id": "cc7fc408-729d-4115-bb61-fa7023eb65a7",
   "metadata": {},
   "outputs": [
    {
     "data": {
      "text/plain": [
       "array([1, 0], dtype=int64)"
      ]
     },
     "execution_count": 27,
     "metadata": {},
     "output_type": "execute_result"
    }
   ],
   "source": [
    "# _VEGLT1A = Vegetables = Do you eat vegetables 1 or more times a day? \n",
    "# Respondent values: 1 = Yes; 2 = No; 9 = All Others (Don't Know, Refused) \n",
    "# Revised dataset as follows: \n",
    "    # Modified to binary classification: \n",
    "        # 0 = Does Not Consume Vegetables (2 = No)  \n",
    "        # 1 = Consumes Vegetables (1 = Yes)\n",
    "    # Removed: 9 = All Others (Don't Know, Refused) \n",
    "CDC_Diabetes_DataFrame_Selection['Vegetables'] = CDC_Diabetes_DataFrame_Selection['Vegetables'].replace({2:0, 1:1})\n",
    "CDC_Diabetes_DataFrame_Selection = CDC_Diabetes_DataFrame_Selection[CDC_Diabetes_DataFrame_Selection.Vegetables != 9]\n",
    "\n",
    "#Display all unique values in Vegetables Column (should be only 0s and 1s)\n",
    "CDC_Diabetes_DataFrame_Selection.Vegetables.unique()"
   ]
  },
  {
   "cell_type": "markdown",
   "id": "c66bcc7a-90c6-4243-84d2-6ce36e040b72",
   "metadata": {},
   "source": [
    "##### 11. Variable: Alcohol"
   ]
  },
  {
   "cell_type": "code",
   "execution_count": 28,
   "id": "262b52a9-273d-4d55-8400-5fa09d01b512",
   "metadata": {},
   "outputs": [
    {
     "data": {
      "text/plain": [
       "array([0, 1], dtype=int64)"
      ]
     },
     "execution_count": 28,
     "metadata": {},
     "output_type": "execute_result"
    }
   ],
   "source": [
    "# DRNKANY5 = Alcohol = Have you had alcohol in the past 30 days?  \n",
    "# Respondent values: 1 = Yes; 2 = No; 7 = Don't know; 9 = Refused \n",
    "# Revised dataset as follows: \n",
    "    # Modified to binary classification: \n",
    "        # 0 = Does Not Consume Alcohol (2 = No)  \n",
    "        # 1 = Consumes Alcohol (1 = Yes)\n",
    "    # Removed: 7 = Don't know; 9 = Refused \n",
    "CDC_Diabetes_DataFrame_Selection['Alcohol'] = CDC_Diabetes_DataFrame_Selection['Alcohol'].replace({2:0, 1:1})\n",
    "CDC_Diabetes_DataFrame_Selection = CDC_Diabetes_DataFrame_Selection[CDC_Diabetes_DataFrame_Selection.Alcohol != 7]\n",
    "CDC_Diabetes_DataFrame_Selection = CDC_Diabetes_DataFrame_Selection[CDC_Diabetes_DataFrame_Selection.Alcohol != 9]\n",
    "\n",
    "#Display all unique values in Alcohol Column (should be only 0s and 1s)\n",
    "CDC_Diabetes_DataFrame_Selection.Alcohol.unique()"
   ]
  },
  {
   "cell_type": "markdown",
   "id": "39332fb4-83e6-4460-b9a2-3ee1c3349dfe",
   "metadata": {},
   "source": [
    "##### 12. Variable: Sex"
   ]
  },
  {
   "cell_type": "code",
   "execution_count": 29,
   "id": "844cc602-a550-4963-be8b-815de808b54c",
   "metadata": {},
   "outputs": [
    {
     "data": {
      "text/plain": [
       "array([0, 1], dtype=int64)"
      ]
     },
     "execution_count": 29,
     "metadata": {},
     "output_type": "execute_result"
    }
   ],
   "source": [
    "# _SEX = Sex = Are you male or female? \n",
    "# Respondent values: 1 = Male; 2 = Female\n",
    "# Revised dataset as follows: \n",
    "    # Modified to binary classification: \n",
    "        # 0 = Female (2 = Female)  \n",
    "        # 1 = Male (1 = Male)\n",
    "CDC_Diabetes_DataFrame_Selection['Sex'] = CDC_Diabetes_DataFrame_Selection['Sex'].replace({2:0})\n",
    "\n",
    "#Display all unique values in Sex Column (should be only 0s and 1s)\n",
    "CDC_Diabetes_DataFrame_Selection.Sex.unique()"
   ]
  },
  {
   "cell_type": "markdown",
   "id": "949408bb-106c-41f2-90de-e217de7a799d",
   "metadata": {},
   "source": [
    "##### 13. Variable: Age"
   ]
  },
  {
   "cell_type": "code",
   "execution_count": 30,
   "id": "274d7dac-d8e4-4595-979f-74f44cc3fdc9",
   "metadata": {},
   "outputs": [
    {
     "data": {
      "text/plain": [
       "array([11,  9, 12, 13, 10,  7,  6,  8,  1,  4,  3,  5,  2], dtype=int64)"
      ]
     },
     "execution_count": 30,
     "metadata": {},
     "output_type": "execute_result"
    }
   ],
   "source": [
    "# _AGEG5YR = Age = How old are you?  \n",
    "# Respondent values: 1-13 = Age is reported in 5 year increments; 14 = Don't know, refused, missing\n",
    "# Revised dataset as follows:\n",
    "    # Removed: 14 = Don't know, refused, missing\n",
    "CDC_Diabetes_DataFrame_Selection = CDC_Diabetes_DataFrame_Selection[CDC_Diabetes_DataFrame_Selection.Age != 14]\n",
    "\n",
    "#Display all unique values in Age Column (should be only 1-13)\n",
    "CDC_Diabetes_DataFrame_Selection.Age.unique()"
   ]
  },
  {
   "cell_type": "markdown",
   "id": "a1d08281-9c1d-4052-b238-f79f40ddf886",
   "metadata": {},
   "source": [
    "##### 14. Variable: Race"
   ]
  },
  {
   "cell_type": "code",
   "execution_count": 31,
   "id": "038bd2a2-862e-4e77-ba39-587bd3f5a276",
   "metadata": {},
   "outputs": [
    {
     "data": {
      "text/plain": [
       "array([1., 2., 0., 3., 4., 5.])"
      ]
     },
     "execution_count": 31,
     "metadata": {},
     "output_type": "execute_result"
    }
   ],
   "source": [
    "# _PRACE1 = PreferredRace = What is your preferred Race category?\n",
    "# Respondent values: \n",
    "# 1-5 = Single Race denomination; 6 = Other Race; 7 = No Preferred race; 8 = Multiracial but not answered; 77 = Don't know; 99 = Refused \n",
    "# Revised dataset as follows:\n",
    "    # Modified to classifications as follows:\n",
    "        # 0 = Race not used as a factor for the following:\n",
    "            # 6 = Other Race; 7 = No Preferred race; 8 = Multiracial but not answered; 77 = Don't know; 99 = Refused\n",
    "CDC_Diabetes_DataFrame_Selection['Race'] = CDC_Diabetes_DataFrame_Selection['Race'].replace({6:0, 7:0, 8:0, 77:0, 99:0})\n",
    "\n",
    "#Display all unique values in RaceColumn (should be only 0-5)\n",
    "CDC_Diabetes_DataFrame_Selection.Race.unique()"
   ]
  },
  {
   "cell_type": "markdown",
   "id": "43cb3d7e-2093-4502-b409-5d53275e3a67",
   "metadata": {},
   "source": [
    "### 3d. Inspect results of the data cleaning process"
   ]
  },
  {
   "cell_type": "code",
   "execution_count": 32,
   "id": "70b1cd97-675d-4011-9c09-3fb0dc745ff5",
   "metadata": {},
   "outputs": [
    {
     "data": {
      "text/plain": [
       "(288270, 14)"
      ]
     },
     "execution_count": 32,
     "metadata": {},
     "output_type": "execute_result"
    }
   ],
   "source": [
    "# Determine how many rows and columns are remaining\n",
    "CDC_Diabetes_DataFrame_Selection.shape"
   ]
  },
  {
   "cell_type": "code",
   "execution_count": 33,
   "id": "e870e881-f853-41c6-a0c3-d08623922f01",
   "metadata": {},
   "outputs": [
    {
     "data": {
      "text/plain": [
       "Diabetes\n",
       "0.0    239889\n",
       "1.0     48381\n",
       "dtype: int64"
      ]
     },
     "execution_count": 33,
     "metadata": {},
     "output_type": "execute_result"
    }
   ],
   "source": [
    "# Check that the above resulted in a balanced set of data. The number of diabetes data points should equal the number of non-diabetes data points.  \n",
    "CDC_Diabetes_DataFrame_Selection.groupby(['Diabetes']).size()"
   ]
  },
  {
   "cell_type": "code",
   "execution_count": 34,
   "id": "903c67b8-2032-4a77-b11d-c993846c3cf8",
   "metadata": {},
   "outputs": [
    {
     "name": "stdout",
     "output_type": "stream",
     "text": [
      "<class 'pandas.core.frame.DataFrame'>\n",
      "Index: 288270 entries, 0 to 438692\n",
      "Data columns (total 14 columns):\n",
      " #   Column             Non-Null Count   Dtype  \n",
      "---  ------             --------------   -----  \n",
      " 0   Diabetes           288270 non-null  float64\n",
      " 1   HighBloodPressure  288270 non-null  int64  \n",
      " 2   HighCholesterol    288270 non-null  float64\n",
      " 3   BMI                288270 non-null  float64\n",
      " 4   Smoker             288270 non-null  float64\n",
      " 5   Stroke             288270 non-null  float64\n",
      " 6   HeartIssues        288270 non-null  float64\n",
      " 7   PhysicalActivity   288270 non-null  int64  \n",
      " 8   Fruits             288270 non-null  int64  \n",
      " 9   Vegetables         288270 non-null  int64  \n",
      " 10  Alcohol            288270 non-null  int64  \n",
      " 11  Sex                288270 non-null  int64  \n",
      " 12  Age                288270 non-null  int64  \n",
      " 13  Race               288270 non-null  float64\n",
      "dtypes: float64(7), int64(7)\n",
      "memory usage: 33.0 MB\n"
     ]
    }
   ],
   "source": [
    "# View the variable types of remaining columns\n",
    "CDC_Diabetes_DataFrame_Selection.info()"
   ]
  },
  {
   "cell_type": "code",
   "execution_count": 35,
   "id": "055b30fa-c39d-4127-8b1e-c8179566cd0b",
   "metadata": {},
   "outputs": [
    {
     "data": {
      "text/html": [
       "<div>\n",
       "<style scoped>\n",
       "    .dataframe tbody tr th:only-of-type {\n",
       "        vertical-align: middle;\n",
       "    }\n",
       "\n",
       "    .dataframe tbody tr th {\n",
       "        vertical-align: top;\n",
       "    }\n",
       "\n",
       "    .dataframe thead th {\n",
       "        text-align: right;\n",
       "    }\n",
       "</style>\n",
       "<table border=\"1\" class=\"dataframe\">\n",
       "  <thead>\n",
       "    <tr style=\"text-align: right;\">\n",
       "      <th></th>\n",
       "      <th>Diabetes</th>\n",
       "      <th>HighBloodPressure</th>\n",
       "      <th>HighCholesterol</th>\n",
       "      <th>BMI</th>\n",
       "      <th>Smoker</th>\n",
       "      <th>Stroke</th>\n",
       "      <th>HeartIssues</th>\n",
       "      <th>PhysicalActivity</th>\n",
       "      <th>Fruits</th>\n",
       "      <th>Vegetables</th>\n",
       "      <th>Alcohol</th>\n",
       "      <th>Sex</th>\n",
       "      <th>Age</th>\n",
       "      <th>Race</th>\n",
       "    </tr>\n",
       "  </thead>\n",
       "  <tbody>\n",
       "    <tr>\n",
       "      <th>count</th>\n",
       "      <td>288270.000000</td>\n",
       "      <td>288270.000000</td>\n",
       "      <td>288270.000000</td>\n",
       "      <td>288270.000000</td>\n",
       "      <td>288270.000000</td>\n",
       "      <td>288270.000000</td>\n",
       "      <td>288270.000000</td>\n",
       "      <td>288270.000000</td>\n",
       "      <td>288270.000000</td>\n",
       "      <td>288270.000000</td>\n",
       "      <td>288270.000000</td>\n",
       "      <td>288270.000000</td>\n",
       "      <td>288270.000000</td>\n",
       "      <td>288270.000000</td>\n",
       "    </tr>\n",
       "    <tr>\n",
       "      <th>mean</th>\n",
       "      <td>0.167832</td>\n",
       "      <td>0.423867</td>\n",
       "      <td>0.404739</td>\n",
       "      <td>28.810906</td>\n",
       "      <td>0.410410</td>\n",
       "      <td>0.040889</td>\n",
       "      <td>0.089687</td>\n",
       "      <td>0.771704</td>\n",
       "      <td>0.623873</td>\n",
       "      <td>0.823971</td>\n",
       "      <td>0.535588</td>\n",
       "      <td>0.468859</td>\n",
       "      <td>7.995237</td>\n",
       "      <td>1.175547</td>\n",
       "    </tr>\n",
       "    <tr>\n",
       "      <th>std</th>\n",
       "      <td>0.373718</td>\n",
       "      <td>0.494171</td>\n",
       "      <td>0.490842</td>\n",
       "      <td>6.544503</td>\n",
       "      <td>0.491909</td>\n",
       "      <td>0.198033</td>\n",
       "      <td>0.285733</td>\n",
       "      <td>0.419735</td>\n",
       "      <td>0.484413</td>\n",
       "      <td>0.380846</td>\n",
       "      <td>0.498733</td>\n",
       "      <td>0.499030</td>\n",
       "      <td>3.300505</td>\n",
       "      <td>0.726959</td>\n",
       "    </tr>\n",
       "    <tr>\n",
       "      <th>min</th>\n",
       "      <td>0.000000</td>\n",
       "      <td>0.000000</td>\n",
       "      <td>0.000000</td>\n",
       "      <td>12.000000</td>\n",
       "      <td>0.000000</td>\n",
       "      <td>0.000000</td>\n",
       "      <td>0.000000</td>\n",
       "      <td>0.000000</td>\n",
       "      <td>0.000000</td>\n",
       "      <td>0.000000</td>\n",
       "      <td>0.000000</td>\n",
       "      <td>0.000000</td>\n",
       "      <td>1.000000</td>\n",
       "      <td>0.000000</td>\n",
       "    </tr>\n",
       "    <tr>\n",
       "      <th>25%</th>\n",
       "      <td>0.000000</td>\n",
       "      <td>0.000000</td>\n",
       "      <td>0.000000</td>\n",
       "      <td>24.000000</td>\n",
       "      <td>0.000000</td>\n",
       "      <td>0.000000</td>\n",
       "      <td>0.000000</td>\n",
       "      <td>1.000000</td>\n",
       "      <td>0.000000</td>\n",
       "      <td>1.000000</td>\n",
       "      <td>0.000000</td>\n",
       "      <td>0.000000</td>\n",
       "      <td>6.000000</td>\n",
       "      <td>1.000000</td>\n",
       "    </tr>\n",
       "    <tr>\n",
       "      <th>50%</th>\n",
       "      <td>0.000000</td>\n",
       "      <td>0.000000</td>\n",
       "      <td>0.000000</td>\n",
       "      <td>28.000000</td>\n",
       "      <td>0.000000</td>\n",
       "      <td>0.000000</td>\n",
       "      <td>0.000000</td>\n",
       "      <td>1.000000</td>\n",
       "      <td>1.000000</td>\n",
       "      <td>1.000000</td>\n",
       "      <td>1.000000</td>\n",
       "      <td>0.000000</td>\n",
       "      <td>8.000000</td>\n",
       "      <td>1.000000</td>\n",
       "    </tr>\n",
       "    <tr>\n",
       "      <th>75%</th>\n",
       "      <td>0.000000</td>\n",
       "      <td>1.000000</td>\n",
       "      <td>1.000000</td>\n",
       "      <td>32.000000</td>\n",
       "      <td>1.000000</td>\n",
       "      <td>0.000000</td>\n",
       "      <td>0.000000</td>\n",
       "      <td>1.000000</td>\n",
       "      <td>1.000000</td>\n",
       "      <td>1.000000</td>\n",
       "      <td>1.000000</td>\n",
       "      <td>1.000000</td>\n",
       "      <td>11.000000</td>\n",
       "      <td>1.000000</td>\n",
       "    </tr>\n",
       "    <tr>\n",
       "      <th>max</th>\n",
       "      <td>1.000000</td>\n",
       "      <td>1.000000</td>\n",
       "      <td>1.000000</td>\n",
       "      <td>99.000000</td>\n",
       "      <td>1.000000</td>\n",
       "      <td>1.000000</td>\n",
       "      <td>1.000000</td>\n",
       "      <td>1.000000</td>\n",
       "      <td>1.000000</td>\n",
       "      <td>1.000000</td>\n",
       "      <td>1.000000</td>\n",
       "      <td>1.000000</td>\n",
       "      <td>13.000000</td>\n",
       "      <td>5.000000</td>\n",
       "    </tr>\n",
       "  </tbody>\n",
       "</table>\n",
       "</div>"
      ],
      "text/plain": [
       "            Diabetes  HighBloodPressure  HighCholesterol            BMI  \\\n",
       "count  288270.000000      288270.000000    288270.000000  288270.000000   \n",
       "mean        0.167832           0.423867         0.404739      28.810906   \n",
       "std         0.373718           0.494171         0.490842       6.544503   \n",
       "min         0.000000           0.000000         0.000000      12.000000   \n",
       "25%         0.000000           0.000000         0.000000      24.000000   \n",
       "50%         0.000000           0.000000         0.000000      28.000000   \n",
       "75%         0.000000           1.000000         1.000000      32.000000   \n",
       "max         1.000000           1.000000         1.000000      99.000000   \n",
       "\n",
       "              Smoker         Stroke    HeartIssues  PhysicalActivity  \\\n",
       "count  288270.000000  288270.000000  288270.000000     288270.000000   \n",
       "mean        0.410410       0.040889       0.089687          0.771704   \n",
       "std         0.491909       0.198033       0.285733          0.419735   \n",
       "min         0.000000       0.000000       0.000000          0.000000   \n",
       "25%         0.000000       0.000000       0.000000          1.000000   \n",
       "50%         0.000000       0.000000       0.000000          1.000000   \n",
       "75%         1.000000       0.000000       0.000000          1.000000   \n",
       "max         1.000000       1.000000       1.000000          1.000000   \n",
       "\n",
       "              Fruits     Vegetables        Alcohol            Sex  \\\n",
       "count  288270.000000  288270.000000  288270.000000  288270.000000   \n",
       "mean        0.623873       0.823971       0.535588       0.468859   \n",
       "std         0.484413       0.380846       0.498733       0.499030   \n",
       "min         0.000000       0.000000       0.000000       0.000000   \n",
       "25%         0.000000       1.000000       0.000000       0.000000   \n",
       "50%         1.000000       1.000000       1.000000       0.000000   \n",
       "75%         1.000000       1.000000       1.000000       1.000000   \n",
       "max         1.000000       1.000000       1.000000       1.000000   \n",
       "\n",
       "                 Age           Race  \n",
       "count  288270.000000  288270.000000  \n",
       "mean        7.995237       1.175547  \n",
       "std         3.300505       0.726959  \n",
       "min         1.000000       0.000000  \n",
       "25%         6.000000       1.000000  \n",
       "50%         8.000000       1.000000  \n",
       "75%        11.000000       1.000000  \n",
       "max        13.000000       5.000000  "
      ]
     },
     "execution_count": 35,
     "metadata": {},
     "output_type": "execute_result"
    }
   ],
   "source": [
    "# Get the description of the data set remaining\n",
    "CDC_Diabetes_DataFrame_Selection.describe()"
   ]
  },
  {
   "cell_type": "markdown",
   "id": "d643ba2b-4c66-4d1b-9bf1-d951a982fb47",
   "metadata": {},
   "source": []
  },
  {
   "cell_type": "markdown",
   "id": "3b8b0488-12c8-4342-8aff-a5c74dae05e9",
   "metadata": {},
   "source": [
    "## STEP 4: VISUALIZE THE DATA SET\n",
    "\n",
    "The next step is to visualize the cleaned data set. We will do so as follows: \n",
    "* **4a.** Compare Diabetes frequency to Being Overweight using BMI over 25 or higher as overweight\n",
    "* **4b.** View histograms of age of the complete dataset\n",
    "* **4c.** View the correlation matrix "
   ]
  },
  {
   "cell_type": "markdown",
   "id": "0df0f339-3aaf-47ef-a9ba-76db3c2fc01a",
   "metadata": {},
   "source": [
    "### 4a. Compare Diabetes frequency to Being Overweight using BMI over 25 or higher as overweight"
   ]
  },
  {
   "cell_type": "code",
   "execution_count": 36,
   "id": "5f93df70-a328-4dbc-b302-04b342a96890",
   "metadata": {},
   "outputs": [
    {
     "data": {
      "image/png": "[encoded data removed]",
      "text/plain": [
       "<Figure size 1000x600 with 1 Axes>"
      ]
     },
     "metadata": {},
     "output_type": "display_data"
    }
   ],
   "source": [
    "# Create a plot of crosstab\n",
    "CDC_Diabetes_DataFrame_Selection['Overweight'] = np.where(CDC_Diabetes_DataFrame_Selection['BMI']<25,0,1) \n",
    "pd.crosstab(CDC_Diabetes_DataFrame_Selection.Diabetes, \n",
    "            CDC_Diabetes_DataFrame_Selection.Overweight).plot(kind = \"bar\", figsize=(10, 6), color=[\"lightgreen\",\"salmon\"])\n",
    "plt.title(\"Diabetes versus Being Overweight\")\n",
    "plt.xlabel(\"0.0 = No Diabetes, 1.0 = Diabetes\")\n",
    "plt.ylabel(\"Number of People\")\n",
    "plt.legend([\"Not Overweight\", \"Overweight\"]);\n",
    "plt.xticks(rotation=0);\n",
    "CDC_Diabetes_DataFrame_Selection = CDC_Diabetes_DataFrame_Selection.drop(columns=['Overweight'])"
   ]
  },
  {
   "cell_type": "markdown",
   "id": "c18ba2fe-010c-4c3a-a2c3-3c386b0b19ab",
   "metadata": {},
   "source": [
    "**COMMENT**\n",
    "\n",
    "> Note the imbalance of data with no diabetes versus diabetes.  "
   ]
  },
  {
   "cell_type": "markdown",
   "id": "56a26279-3c99-49ee-9c57-ab765096cb01",
   "metadata": {},
   "source": [
    "### 4b. View histograms of age of the complete dataset"
   ]
  },
  {
   "cell_type": "code",
   "execution_count": 37,
   "id": "b40f74a3-bfea-497d-bc23-0b8875499a14",
   "metadata": {},
   "outputs": [
    {
     "data": {
      "image/png": "[encoded data removed]",
      "text/plain": [
       "<Figure size 640x480 with 1 Axes>"
      ]
     },
     "metadata": {},
     "output_type": "display_data"
    }
   ],
   "source": [
    "CDC_Diabetes_DataFrame_Selection.Age.plot.hist()\n",
    "labels= ['18', '25', '30', '35', '40', '45', '50', '55', '60', '65', '70', '75', '80']\n",
    "plt.title('Age Histogram')\n",
    "plt.xlabel('Age')\n",
    "plt.ylabel('Number of People')\n",
    "plt.xticks(np.arange(13), labels);"
   ]
  },
  {
   "cell_type": "markdown",
   "id": "59ceb0fb-5f2d-4426-ba18-b0af58ec0a5a",
   "metadata": {},
   "source": [
    "**COMMENT**\n",
    "\n",
    "> Note that survey responders tend to be 55 and older."
   ]
  },
  {
   "cell_type": "markdown",
   "id": "518b3ef2-48e4-4122-a697-a08dc3df1fc5",
   "metadata": {},
   "source": [
    "### 4c. View the correlation matrix "
   ]
  },
  {
   "cell_type": "code",
   "execution_count": 38,
   "id": "486c4fc9-cda3-4505-b932-5ab239e349ec",
   "metadata": {},
   "outputs": [
    {
     "data": {
      "image/png": "[encoded data removed]",
      "text/plain": [
       "<Figure size 1500x1000 with 2 Axes>"
      ]
     },
     "metadata": {},
     "output_type": "display_data"
    }
   ],
   "source": [
    "corr_matrix =  CDC_Diabetes_DataFrame_Selection.corr()\n",
    "fig, ax = plt.subplots(figsize = (15, 10))\n",
    "plt.title(\"Correlation Matrix of Diabetes and Other Attributes\")\n",
    "ax = sns.heatmap(corr_matrix, linewidths = 0.5, fmt=\".2f\", cmap=\"YlOrRd\");"
   ]
  },
  {
   "cell_type": "markdown",
   "id": "48480f3e-168f-4b3b-8d07-2e11218ad2ee",
   "metadata": {},
   "source": [
    "**COMMENT**\n",
    "\n",
    "> The correlation matrix is a good way to identify impactful features.  The darker the colour, the more likely there is a correlation.  \n",
    "> Since we are trying to reduce the number of questions in the tool, this is another way to reduce the number of features we need to study."
   ]
  },
  {
   "attachments": {},
   "cell_type": "markdown",
   "id": "c3b40b18-ee05-49ca-a8b4-e617a9059498",
   "metadata": {},
   "source": [
    "## STEP 5:  REDUCE AND BALANCE THE DATA SET \n",
    "\n",
    "The next step is to reduce and balance the dataset to ensure computing resources are not strained while maintaining precision and accuracy. \r\n",
    "\r\n",
    "* **5a.** Seleng a data count to reduce strain on resources\r\n",
    "* **5b.** Determine if the data is balanced\r\n",
    "* **5c.** Balance and reduce the data setatrix"
   ]
  },
  {
   "cell_type": "markdown",
   "id": "a6cbda82-a0b3-4060-b2bb-4df73fe75bd3",
   "metadata": {},
   "source": [
    "### 5a. Select a data count to reduce strain on resources"
   ]
  },
  {
   "cell_type": "code",
   "execution_count": 39,
   "id": "6bb2adf8-2cb5-486b-a6d7-879612dd0ece",
   "metadata": {},
   "outputs": [
    {
     "data": {
      "text/plain": [
       "(288270, 14)"
      ]
     },
     "execution_count": 39,
     "metadata": {},
     "output_type": "execute_result"
    }
   ],
   "source": [
    "# Determine the size of data\n",
    "CDC_Diabetes_DataFrame_Selection.shape"
   ]
  },
  {
   "cell_type": "markdown",
   "id": "88504378-a772-4ae8-bf1f-3bc9a1a05808",
   "metadata": {},
   "source": [
    "**COMMENT**\n",
    "\n",
    "> The current data set contains 288,270 rows of data.  A smaller sample size is required to reduce the strain on computing resources and limit computing time.  "
   ]
  },
  {
   "cell_type": "markdown",
   "id": "1ad59b16-0fba-46ef-87be-830b9800ed72",
   "metadata": {},
   "source": [
    "To make efficient use of resources, the model uses 6,000 diabetic and non-diabetic datapoints each for a total of 12,000. I have found this produces the optimum accuracy based on trial iterations.  More data points do not necessarily translate to a more accurate model and use excessive time to build the model and calculate the model's precision."
   ]
  },
  {
   "cell_type": "code",
   "execution_count": 40,
   "id": "f1255fc2-4897-425a-90ba-fb9aa056b5a2",
   "metadata": {},
   "outputs": [],
   "source": [
    "# Set the Maximum Length for the diabetic and non-diabetic dataset is selected for the purpose of this demonstration\n",
    "MaxLength = 6000"
   ]
  },
  {
   "cell_type": "markdown",
   "id": "aeb7f313-eb82-4df9-a1d8-7158bafcdc89",
   "metadata": {},
   "source": [
    "### 5b. Determine if the data is balanced"
   ]
  },
  {
   "cell_type": "markdown",
   "id": "2fb16e61-f7db-4ce8-a6b6-9ca9bed664de",
   "metadata": {},
   "source": [
    "A balanced data set facilitates the training of a machine-learning model so that the model is not biased towards one class.  "
   ]
  },
  {
   "cell_type": "code",
   "execution_count": 41,
   "id": "0c41ac2c-bb6f-47ef-bffb-d2c389af84d7",
   "metadata": {},
   "outputs": [
    {
     "data": {
      "text/plain": [
       "Diabetes\n",
       "0.0    239889\n",
       "1.0     48381\n",
       "dtype: int64"
      ]
     },
     "execution_count": 41,
     "metadata": {},
     "output_type": "execute_result"
    }
   ],
   "source": [
    "# Find the number of people with Diabetes and people without Diabetes in the data set.  \n",
    "CDC_Diabetes_DataFrame_Selection.groupby(['Diabetes']).size()"
   ]
  },
  {
   "cell_type": "markdown",
   "id": "42eb203e-1592-431c-b8ab-7fa27605dde7",
   "metadata": {},
   "source": [
    "**COMMENT:**  \n",
    "> Note that the remaining dataframe selection is imbalanced.  There are significantly more datapoints for people without Diabetes than with Diabetes."
   ]
  },
  {
   "cell_type": "markdown",
   "id": "2ad34dee-0e76-4304-b9b0-179990c9bddc",
   "metadata": {},
   "source": [
    "### 5c. Balance the dataset and reduce the dataset"
   ]
  },
  {
   "cell_type": "code",
   "execution_count": 42,
   "id": "818ad2b5-8e51-4c50-b9db-faa25b33832c",
   "metadata": {},
   "outputs": [],
   "source": [
    "# Separate the sets into 0s for No Diabetes and 1s for Pre-diabetes and Diabetes\n",
    "# Get the data for those who have Diabetes\n",
    "Have_Diabetes = CDC_Diabetes_DataFrame_Selection['Diabetes'] == 1\n",
    "Have_Diabetes_Data = CDC_Diabetes_DataFrame_Selection[Have_Diabetes]\n",
    "\n",
    "# Get the data for those who do not have Diabetes\n",
    "Does_Not_Have_Diabetes = CDC_Diabetes_DataFrame_Selection['Diabetes'] == 0\n",
    "Does_Not_Have_Diabetes_Data = CDC_Diabetes_DataFrame_Selection[Does_Not_Have_Diabetes] "
   ]
  },
  {
   "cell_type": "code",
   "execution_count": 43,
   "id": "540def2c-2397-45e4-85ef-9aa7438700a2",
   "metadata": {},
   "outputs": [],
   "source": [
    "# Select random data limited to the maximum number specified from each set  \n",
    "Random_Does_Not_Have_Diabetes_Subset = Does_Not_Have_Diabetes_Data.take(np.random.permutation(len(Does_Not_Have_Diabetes_Data))[:MaxLength])\n",
    "Random_Have_Diabetes_Subset = Have_Diabetes_Data.take(np.random.permutation(len(Have_Diabetes_Data))[:MaxLength])\n",
    "\n",
    "# Join both sets with people with Diabetes and people without Diabetes. \n",
    "CDC_Diabetes_DataFrame_Balanced  = Random_Does_Not_Have_Diabetes_Subset._append(Random_Have_Diabetes_Subset, ignore_index = True)"
   ]
  },
  {
   "cell_type": "code",
   "execution_count": 44,
   "id": "59adf776-f320-4bd5-9ea2-c31358bd0e65",
   "metadata": {},
   "outputs": [
    {
     "data": {
      "text/plain": [
       "Diabetes\n",
       "0.0    6000\n",
       "1.0    6000\n",
       "dtype: int64"
      ]
     },
     "execution_count": 44,
     "metadata": {},
     "output_type": "execute_result"
    }
   ],
   "source": [
    "# Check that the above resulted in a balanced set of data. The number of diabetes data points should equal the number of non-diabetes data points.  \n",
    "CDC_Diabetes_DataFrame_Balanced.groupby(['Diabetes']).size()"
   ]
  },
  {
   "cell_type": "code",
   "execution_count": 45,
   "id": "64d7099d-5033-403d-a92c-dc8691f18088",
   "metadata": {},
   "outputs": [
    {
     "data": {
      "text/html": [
       "<div>\n",
       "<style scoped>\n",
       "    .dataframe tbody tr th:only-of-type {\n",
       "        vertical-align: middle;\n",
       "    }\n",
       "\n",
       "    .dataframe tbody tr th {\n",
       "        vertical-align: top;\n",
       "    }\n",
       "\n",
       "    .dataframe thead th {\n",
       "        text-align: right;\n",
       "    }\n",
       "</style>\n",
       "<table border=\"1\" class=\"dataframe\">\n",
       "  <thead>\n",
       "    <tr style=\"text-align: right;\">\n",
       "      <th></th>\n",
       "      <th>Diabetes</th>\n",
       "      <th>HighBloodPressure</th>\n",
       "      <th>HighCholesterol</th>\n",
       "      <th>BMI</th>\n",
       "      <th>Smoker</th>\n",
       "      <th>Stroke</th>\n",
       "      <th>HeartIssues</th>\n",
       "      <th>PhysicalActivity</th>\n",
       "      <th>Fruits</th>\n",
       "      <th>Vegetables</th>\n",
       "      <th>Alcohol</th>\n",
       "      <th>Sex</th>\n",
       "      <th>Age</th>\n",
       "      <th>Race</th>\n",
       "    </tr>\n",
       "  </thead>\n",
       "  <tbody>\n",
       "    <tr>\n",
       "      <th>count</th>\n",
       "      <td>12000.000000</td>\n",
       "      <td>12000.000000</td>\n",
       "      <td>12000.000000</td>\n",
       "      <td>12000.000000</td>\n",
       "      <td>12000.000000</td>\n",
       "      <td>12000.000000</td>\n",
       "      <td>12000.000000</td>\n",
       "      <td>12000.000000</td>\n",
       "      <td>12000.000000</td>\n",
       "      <td>12000.000000</td>\n",
       "      <td>12000.000000</td>\n",
       "      <td>12000.000000</td>\n",
       "      <td>12000.000000</td>\n",
       "      <td>12000.000000</td>\n",
       "    </tr>\n",
       "    <tr>\n",
       "      <th>mean</th>\n",
       "      <td>0.500000</td>\n",
       "      <td>0.539167</td>\n",
       "      <td>0.488500</td>\n",
       "      <td>30.082000</td>\n",
       "      <td>0.434167</td>\n",
       "      <td>0.056333</td>\n",
       "      <td>0.125583</td>\n",
       "      <td>0.720833</td>\n",
       "      <td>0.615167</td>\n",
       "      <td>0.807333</td>\n",
       "      <td>0.466500</td>\n",
       "      <td>0.473917</td>\n",
       "      <td>8.574917</td>\n",
       "      <td>1.182500</td>\n",
       "    </tr>\n",
       "    <tr>\n",
       "      <th>std</th>\n",
       "      <td>0.500021</td>\n",
       "      <td>0.498484</td>\n",
       "      <td>0.499889</td>\n",
       "      <td>7.135219</td>\n",
       "      <td>0.495668</td>\n",
       "      <td>0.230574</td>\n",
       "      <td>0.331393</td>\n",
       "      <td>0.448608</td>\n",
       "      <td>0.486576</td>\n",
       "      <td>0.394410</td>\n",
       "      <td>0.498897</td>\n",
       "      <td>0.499340</td>\n",
       "      <td>3.091685</td>\n",
       "      <td>0.723812</td>\n",
       "    </tr>\n",
       "    <tr>\n",
       "      <th>min</th>\n",
       "      <td>0.000000</td>\n",
       "      <td>0.000000</td>\n",
       "      <td>0.000000</td>\n",
       "      <td>12.000000</td>\n",
       "      <td>0.000000</td>\n",
       "      <td>0.000000</td>\n",
       "      <td>0.000000</td>\n",
       "      <td>0.000000</td>\n",
       "      <td>0.000000</td>\n",
       "      <td>0.000000</td>\n",
       "      <td>0.000000</td>\n",
       "      <td>0.000000</td>\n",
       "      <td>1.000000</td>\n",
       "      <td>0.000000</td>\n",
       "    </tr>\n",
       "    <tr>\n",
       "      <th>25%</th>\n",
       "      <td>0.000000</td>\n",
       "      <td>0.000000</td>\n",
       "      <td>0.000000</td>\n",
       "      <td>25.000000</td>\n",
       "      <td>0.000000</td>\n",
       "      <td>0.000000</td>\n",
       "      <td>0.000000</td>\n",
       "      <td>0.000000</td>\n",
       "      <td>0.000000</td>\n",
       "      <td>1.000000</td>\n",
       "      <td>0.000000</td>\n",
       "      <td>0.000000</td>\n",
       "      <td>7.000000</td>\n",
       "      <td>1.000000</td>\n",
       "    </tr>\n",
       "    <tr>\n",
       "      <th>50%</th>\n",
       "      <td>0.500000</td>\n",
       "      <td>1.000000</td>\n",
       "      <td>0.000000</td>\n",
       "      <td>29.000000</td>\n",
       "      <td>0.000000</td>\n",
       "      <td>0.000000</td>\n",
       "      <td>0.000000</td>\n",
       "      <td>1.000000</td>\n",
       "      <td>1.000000</td>\n",
       "      <td>1.000000</td>\n",
       "      <td>0.000000</td>\n",
       "      <td>0.000000</td>\n",
       "      <td>9.000000</td>\n",
       "      <td>1.000000</td>\n",
       "    </tr>\n",
       "    <tr>\n",
       "      <th>75%</th>\n",
       "      <td>1.000000</td>\n",
       "      <td>1.000000</td>\n",
       "      <td>1.000000</td>\n",
       "      <td>34.000000</td>\n",
       "      <td>1.000000</td>\n",
       "      <td>0.000000</td>\n",
       "      <td>0.000000</td>\n",
       "      <td>1.000000</td>\n",
       "      <td>1.000000</td>\n",
       "      <td>1.000000</td>\n",
       "      <td>1.000000</td>\n",
       "      <td>1.000000</td>\n",
       "      <td>11.000000</td>\n",
       "      <td>1.000000</td>\n",
       "    </tr>\n",
       "    <tr>\n",
       "      <th>max</th>\n",
       "      <td>1.000000</td>\n",
       "      <td>1.000000</td>\n",
       "      <td>1.000000</td>\n",
       "      <td>87.000000</td>\n",
       "      <td>1.000000</td>\n",
       "      <td>1.000000</td>\n",
       "      <td>1.000000</td>\n",
       "      <td>1.000000</td>\n",
       "      <td>1.000000</td>\n",
       "      <td>1.000000</td>\n",
       "      <td>1.000000</td>\n",
       "      <td>1.000000</td>\n",
       "      <td>13.000000</td>\n",
       "      <td>5.000000</td>\n",
       "    </tr>\n",
       "  </tbody>\n",
       "</table>\n",
       "</div>"
      ],
      "text/plain": [
       "           Diabetes  HighBloodPressure  HighCholesterol           BMI  \\\n",
       "count  12000.000000       12000.000000     12000.000000  12000.000000   \n",
       "mean       0.500000           0.539167         0.488500     30.082000   \n",
       "std        0.500021           0.498484         0.499889      7.135219   \n",
       "min        0.000000           0.000000         0.000000     12.000000   \n",
       "25%        0.000000           0.000000         0.000000     25.000000   \n",
       "50%        0.500000           1.000000         0.000000     29.000000   \n",
       "75%        1.000000           1.000000         1.000000     34.000000   \n",
       "max        1.000000           1.000000         1.000000     87.000000   \n",
       "\n",
       "             Smoker        Stroke   HeartIssues  PhysicalActivity  \\\n",
       "count  12000.000000  12000.000000  12000.000000      12000.000000   \n",
       "mean       0.434167      0.056333      0.125583          0.720833   \n",
       "std        0.495668      0.230574      0.331393          0.448608   \n",
       "min        0.000000      0.000000      0.000000          0.000000   \n",
       "25%        0.000000      0.000000      0.000000          0.000000   \n",
       "50%        0.000000      0.000000      0.000000          1.000000   \n",
       "75%        1.000000      0.000000      0.000000          1.000000   \n",
       "max        1.000000      1.000000      1.000000          1.000000   \n",
       "\n",
       "             Fruits    Vegetables       Alcohol           Sex           Age  \\\n",
       "count  12000.000000  12000.000000  12000.000000  12000.000000  12000.000000   \n",
       "mean       0.615167      0.807333      0.466500      0.473917      8.574917   \n",
       "std        0.486576      0.394410      0.498897      0.499340      3.091685   \n",
       "min        0.000000      0.000000      0.000000      0.000000      1.000000   \n",
       "25%        0.000000      1.000000      0.000000      0.000000      7.000000   \n",
       "50%        1.000000      1.000000      0.000000      0.000000      9.000000   \n",
       "75%        1.000000      1.000000      1.000000      1.000000     11.000000   \n",
       "max        1.000000      1.000000      1.000000      1.000000     13.000000   \n",
       "\n",
       "               Race  \n",
       "count  12000.000000  \n",
       "mean       1.182500  \n",
       "std        0.723812  \n",
       "min        0.000000  \n",
       "25%        1.000000  \n",
       "50%        1.000000  \n",
       "75%        1.000000  \n",
       "max        5.000000  "
      ]
     },
     "execution_count": 45,
     "metadata": {},
     "output_type": "execute_result"
    }
   ],
   "source": [
    "CDC_Diabetes_DataFrame_Balanced.describe()"
   ]
  },
  {
   "cell_type": "markdown",
   "id": "863ffb62-9dd9-44e8-a4c4-d3cdcd91b1bf",
   "metadata": {},
   "source": [
    "## STEP 6:  CREATE TRAINING AND TESTING DATA SETS"
   ]
  },
  {
   "cell_type": "code",
   "execution_count": 46,
   "id": "9d7a6477-336a-4cdf-8cb6-fca3b8d4108f",
   "metadata": {},
   "outputs": [],
   "source": [
    "# Split data into X which reflects the matrix of independent variables and y is the set of target values to be predicted\n",
    "# X includes the data from columns other than diabetes\n",
    "X = CDC_Diabetes_DataFrame_Balanced.drop(\"Diabetes\", axis = 1)\n",
    "\n",
    "# y includes the data from the diabetes column \n",
    "y = CDC_Diabetes_DataFrame_Balanced[\"Diabetes\"]"
   ]
  },
  {
   "cell_type": "code",
   "execution_count": 47,
   "id": "68446f64-1c1c-41dd-b87e-6f0db05d0a98",
   "metadata": {},
   "outputs": [
    {
     "data": {
      "text/html": [
       "<div>\n",
       "<style scoped>\n",
       "    .dataframe tbody tr th:only-of-type {\n",
       "        vertical-align: middle;\n",
       "    }\n",
       "\n",
       "    .dataframe tbody tr th {\n",
       "        vertical-align: top;\n",
       "    }\n",
       "\n",
       "    .dataframe thead th {\n",
       "        text-align: right;\n",
       "    }\n",
       "</style>\n",
       "<table border=\"1\" class=\"dataframe\">\n",
       "  <thead>\n",
       "    <tr style=\"text-align: right;\">\n",
       "      <th></th>\n",
       "      <th>HighBloodPressure</th>\n",
       "      <th>HighCholesterol</th>\n",
       "      <th>BMI</th>\n",
       "      <th>Smoker</th>\n",
       "      <th>Stroke</th>\n",
       "      <th>HeartIssues</th>\n",
       "      <th>PhysicalActivity</th>\n",
       "      <th>Fruits</th>\n",
       "      <th>Vegetables</th>\n",
       "      <th>Alcohol</th>\n",
       "      <th>Sex</th>\n",
       "      <th>Age</th>\n",
       "      <th>Race</th>\n",
       "    </tr>\n",
       "  </thead>\n",
       "  <tbody>\n",
       "    <tr>\n",
       "      <th>0</th>\n",
       "      <td>0</td>\n",
       "      <td>1.0</td>\n",
       "      <td>21.0</td>\n",
       "      <td>0.0</td>\n",
       "      <td>0.0</td>\n",
       "      <td>0.0</td>\n",
       "      <td>1</td>\n",
       "      <td>0</td>\n",
       "      <td>1</td>\n",
       "      <td>0</td>\n",
       "      <td>0</td>\n",
       "      <td>13</td>\n",
       "      <td>1.0</td>\n",
       "    </tr>\n",
       "    <tr>\n",
       "      <th>1</th>\n",
       "      <td>1</td>\n",
       "      <td>0.0</td>\n",
       "      <td>35.0</td>\n",
       "      <td>0.0</td>\n",
       "      <td>0.0</td>\n",
       "      <td>0.0</td>\n",
       "      <td>0</td>\n",
       "      <td>1</td>\n",
       "      <td>1</td>\n",
       "      <td>0</td>\n",
       "      <td>0</td>\n",
       "      <td>12</td>\n",
       "      <td>1.0</td>\n",
       "    </tr>\n",
       "    <tr>\n",
       "      <th>2</th>\n",
       "      <td>1</td>\n",
       "      <td>0.0</td>\n",
       "      <td>28.0</td>\n",
       "      <td>1.0</td>\n",
       "      <td>0.0</td>\n",
       "      <td>0.0</td>\n",
       "      <td>1</td>\n",
       "      <td>0</td>\n",
       "      <td>1</td>\n",
       "      <td>1</td>\n",
       "      <td>0</td>\n",
       "      <td>12</td>\n",
       "      <td>1.0</td>\n",
       "    </tr>\n",
       "    <tr>\n",
       "      <th>3</th>\n",
       "      <td>1</td>\n",
       "      <td>1.0</td>\n",
       "      <td>39.0</td>\n",
       "      <td>1.0</td>\n",
       "      <td>0.0</td>\n",
       "      <td>0.0</td>\n",
       "      <td>1</td>\n",
       "      <td>1</td>\n",
       "      <td>1</td>\n",
       "      <td>0</td>\n",
       "      <td>0</td>\n",
       "      <td>8</td>\n",
       "      <td>1.0</td>\n",
       "    </tr>\n",
       "    <tr>\n",
       "      <th>4</th>\n",
       "      <td>0</td>\n",
       "      <td>0.0</td>\n",
       "      <td>29.0</td>\n",
       "      <td>1.0</td>\n",
       "      <td>0.0</td>\n",
       "      <td>0.0</td>\n",
       "      <td>1</td>\n",
       "      <td>1</td>\n",
       "      <td>0</td>\n",
       "      <td>1</td>\n",
       "      <td>1</td>\n",
       "      <td>12</td>\n",
       "      <td>2.0</td>\n",
       "    </tr>\n",
       "    <tr>\n",
       "      <th>...</th>\n",
       "      <td>...</td>\n",
       "      <td>...</td>\n",
       "      <td>...</td>\n",
       "      <td>...</td>\n",
       "      <td>...</td>\n",
       "      <td>...</td>\n",
       "      <td>...</td>\n",
       "      <td>...</td>\n",
       "      <td>...</td>\n",
       "      <td>...</td>\n",
       "      <td>...</td>\n",
       "      <td>...</td>\n",
       "      <td>...</td>\n",
       "    </tr>\n",
       "    <tr>\n",
       "      <th>11995</th>\n",
       "      <td>1</td>\n",
       "      <td>1.0</td>\n",
       "      <td>37.0</td>\n",
       "      <td>0.0</td>\n",
       "      <td>0.0</td>\n",
       "      <td>0.0</td>\n",
       "      <td>0</td>\n",
       "      <td>1</td>\n",
       "      <td>1</td>\n",
       "      <td>0</td>\n",
       "      <td>0</td>\n",
       "      <td>11</td>\n",
       "      <td>1.0</td>\n",
       "    </tr>\n",
       "    <tr>\n",
       "      <th>11996</th>\n",
       "      <td>1</td>\n",
       "      <td>0.0</td>\n",
       "      <td>35.0</td>\n",
       "      <td>1.0</td>\n",
       "      <td>0.0</td>\n",
       "      <td>0.0</td>\n",
       "      <td>0</td>\n",
       "      <td>0</td>\n",
       "      <td>0</td>\n",
       "      <td>1</td>\n",
       "      <td>1</td>\n",
       "      <td>10</td>\n",
       "      <td>1.0</td>\n",
       "    </tr>\n",
       "    <tr>\n",
       "      <th>11997</th>\n",
       "      <td>0</td>\n",
       "      <td>0.0</td>\n",
       "      <td>30.0</td>\n",
       "      <td>1.0</td>\n",
       "      <td>0.0</td>\n",
       "      <td>0.0</td>\n",
       "      <td>0</td>\n",
       "      <td>0</td>\n",
       "      <td>1</td>\n",
       "      <td>1</td>\n",
       "      <td>1</td>\n",
       "      <td>8</td>\n",
       "      <td>1.0</td>\n",
       "    </tr>\n",
       "    <tr>\n",
       "      <th>11998</th>\n",
       "      <td>0</td>\n",
       "      <td>0.0</td>\n",
       "      <td>20.0</td>\n",
       "      <td>0.0</td>\n",
       "      <td>0.0</td>\n",
       "      <td>0.0</td>\n",
       "      <td>1</td>\n",
       "      <td>1</td>\n",
       "      <td>1</td>\n",
       "      <td>0</td>\n",
       "      <td>0</td>\n",
       "      <td>11</td>\n",
       "      <td>4.0</td>\n",
       "    </tr>\n",
       "    <tr>\n",
       "      <th>11999</th>\n",
       "      <td>1</td>\n",
       "      <td>1.0</td>\n",
       "      <td>31.0</td>\n",
       "      <td>0.0</td>\n",
       "      <td>0.0</td>\n",
       "      <td>1.0</td>\n",
       "      <td>1</td>\n",
       "      <td>1</td>\n",
       "      <td>1</td>\n",
       "      <td>0</td>\n",
       "      <td>0</td>\n",
       "      <td>11</td>\n",
       "      <td>1.0</td>\n",
       "    </tr>\n",
       "  </tbody>\n",
       "</table>\n",
       "<p>12000 rows × 13 columns</p>\n",
       "</div>"
      ],
      "text/plain": [
       "       HighBloodPressure  HighCholesterol   BMI  Smoker  Stroke  HeartIssues  \\\n",
       "0                      0              1.0  21.0     0.0     0.0          0.0   \n",
       "1                      1              0.0  35.0     0.0     0.0          0.0   \n",
       "2                      1              0.0  28.0     1.0     0.0          0.0   \n",
       "3                      1              1.0  39.0     1.0     0.0          0.0   \n",
       "4                      0              0.0  29.0     1.0     0.0          0.0   \n",
       "...                  ...              ...   ...     ...     ...          ...   \n",
       "11995                  1              1.0  37.0     0.0     0.0          0.0   \n",
       "11996                  1              0.0  35.0     1.0     0.0          0.0   \n",
       "11997                  0              0.0  30.0     1.0     0.0          0.0   \n",
       "11998                  0              0.0  20.0     0.0     0.0          0.0   \n",
       "11999                  1              1.0  31.0     0.0     0.0          1.0   \n",
       "\n",
       "       PhysicalActivity  Fruits  Vegetables  Alcohol  Sex  Age  Race  \n",
       "0                     1       0           1        0    0   13   1.0  \n",
       "1                     0       1           1        0    0   12   1.0  \n",
       "2                     1       0           1        1    0   12   1.0  \n",
       "3                     1       1           1        0    0    8   1.0  \n",
       "4                     1       1           0        1    1   12   2.0  \n",
       "...                 ...     ...         ...      ...  ...  ...   ...  \n",
       "11995                 0       1           1        0    0   11   1.0  \n",
       "11996                 0       0           0        1    1   10   1.0  \n",
       "11997                 0       0           1        1    1    8   1.0  \n",
       "11998                 1       1           1        0    0   11   4.0  \n",
       "11999                 1       1           1        0    0   11   1.0  \n",
       "\n",
       "[12000 rows x 13 columns]"
      ]
     },
     "execution_count": 47,
     "metadata": {},
     "output_type": "execute_result"
    }
   ],
   "source": [
    "#Visualize X (Should reflect all columns except Diabetes column) \n",
    "X"
   ]
  },
  {
   "cell_type": "code",
   "execution_count": 48,
   "id": "264dc2a6-5cbb-4eb7-970b-030164b869fd",
   "metadata": {},
   "outputs": [
    {
     "data": {
      "text/plain": [
       "0        0.0\n",
       "1        0.0\n",
       "2        0.0\n",
       "3        0.0\n",
       "4        0.0\n",
       "        ... \n",
       "11995    1.0\n",
       "11996    1.0\n",
       "11997    1.0\n",
       "11998    1.0\n",
       "11999    1.0\n",
       "Name: Diabetes, Length: 12000, dtype: float64"
      ]
     },
     "execution_count": 48,
     "metadata": {},
     "output_type": "execute_result"
    }
   ],
   "source": [
    "# Visualize y (Should just be the Diabetes column indicating whether someone has Diabetes(1) or not(0))\n",
    "y"
   ]
  },
  {
   "cell_type": "code",
   "execution_count": 49,
   "id": "e49119a4-94aa-46e6-8fd2-43abfb45aecb",
   "metadata": {},
   "outputs": [],
   "source": [
    "# Split data into training and testing sets; I will use a 80/20 split where 80% is used for training and 20% is used to testing\n",
    "X_train, X_test, y_train, y_test = train_test_split(X, y, stratify = y, test_size = 0.2, random_state=seed)"
   ]
  },
  {
   "cell_type": "code",
   "execution_count": 50,
   "id": "9d8aaa45-5681-49bd-96ac-26bcdb5a5242",
   "metadata": {},
   "outputs": [
    {
     "data": {
      "text/plain": [
       "(12000, 9600, 2400)"
      ]
     },
     "execution_count": 50,
     "metadata": {},
     "output_type": "execute_result"
    }
   ],
   "source": [
    "# Determine size of X, X_train and X_test.  X_train + X_test should equal the original data set X. \n",
    "len(X), len(X_train), len(X_test)"
   ]
  },
  {
   "cell_type": "code",
   "execution_count": 51,
   "id": "d7fa613c-3246-4027-9900-c475a675124c",
   "metadata": {},
   "outputs": [
    {
     "data": {
      "text/plain": [
       "(12000, 9600, 2400)"
      ]
     },
     "execution_count": 51,
     "metadata": {},
     "output_type": "execute_result"
    }
   ],
   "source": [
    "# Determine size of y, y_train and y_test.  y_train + y_test should equal the original data set y. \n",
    "len(y), len(y_train), len(y_test)"
   ]
  },
  {
   "cell_type": "markdown",
   "id": "a51a976f-f863-414c-9c98-c6277cf96ea2",
   "metadata": {},
   "source": [
    "## STEP 7:  SELECT, TRAIN AND EVALUATE MODELS\n",
    "\n",
    "The next step is to select, train and evaluate various models for a best-fit model.  \n",
    "\n",
    "* **7a.** Create a list of models to test\n",
    "* **7b.** Train and Test the selected models\n",
    "* **7c.** Evaluate the models"
   ]
  },
  {
   "cell_type": "markdown",
   "id": "93b7850f-4d9e-4388-97ab-f77c519df36a",
   "metadata": {},
   "source": [
    "### 7a.  Create a list of models to test"
   ]
  },
  {
   "cell_type": "markdown",
   "id": "8e2a8f40-65a2-484f-98c1-4e96f9874454",
   "metadata": {},
   "source": [
    "Machine learning models for Type 2 Diabetes were selected based on models suggested by Scikit-Learn for use with supervised learning on classification problems:  \n",
    "> https://scikit-learn.org/stable/supervised_learning.html#supervised-learning\n",
    "\n",
    "The list of models was then cross-referenced with the 18 models studied in the article \"Machine Learning and Deeper Learning Predictive Models for Type 2 Diabetes: A Systematic Review\" located at the following site: \n",
    "> https://dmsjournal.biomedcentral.com/articles/10.1186/s13098-021-00767-9"
   ]
  },
  {
   "cell_type": "markdown",
   "id": "3c20f2cc-c5bd-4e53-bba2-9be96d6310e2",
   "metadata": {},
   "source": [
    "The following classification algorithms were selected for evaluation based on size of data set and resources to run the data:\n",
    "1. Decision Trees (DT)\n",
    "2. Gaussian Naive Bayes (GBN)\n",
    "3. Random Forest Classifier (RF)"
   ]
  },
  {
   "cell_type": "code",
   "execution_count": 52,
   "id": "f4192149-4da0-434c-aa93-331a039cd342",
   "metadata": {},
   "outputs": [],
   "source": [
    "# Create a list of models to test\n",
    "Models = []\n",
    "Models.append(('DT', DecisionTreeClassifier()))\n",
    "Models.append(('GNB', GaussianNB()))\n",
    "Models.append(('RF', RandomForestClassifier()))"
   ]
  },
  {
   "cell_type": "markdown",
   "id": "bdb2013c-06ff-4521-876e-02bf500c643a",
   "metadata": {},
   "source": [
    "### 7b. Train and Test the selected models\n",
    "\n",
    "The classification model is evaluated as follows: \n",
    "* Accuracy score reflects how often the classification machine learning model is correct in predicting diabetes or no diabetes overall.\n",
    "  > Accuracy = (True Positives + True Negatives)/Total\n",
    "* Precision score refers to how often the classification machine learning model is correct when predicting the target class of diabetes.\n",
    "  > Precision = True Positives/(True Positives + False Positives)\n",
    "\n",
    "Note:  This next cell will take a moment to run but, please be patient."
   ]
  },
  {
   "cell_type": "code",
   "execution_count": 53,
   "id": "3b4a1360-446b-4725-a3a5-9ffe8014e50f",
   "metadata": {},
   "outputs": [
    {
     "name": "stdout",
     "output_type": "stream",
     "text": [
      "  Model  Accuracy_Score  Precision_Score\n",
      "0    DT       62.125000        62.707424\n",
      "1   GNB       67.583333        71.842650\n",
      "2    RF       67.458333        67.158067\n"
     ]
    }
   ],
   "source": [
    "# Train and Test the selected models\n",
    "Names = []\n",
    "Precision_Scores = []\n",
    "Accuracy_Scores = []\n",
    "for name, model in Models:\n",
    "    model.fit(X_train, y_train)\n",
    "    Accuracy_Scores.append(model.score(X_test, y_test)*100)\n",
    "    Precision_Scores.append((precision_score(y_test, model.predict(X_test)))*100)\n",
    "    Names.append(name)\n",
    "ModelsWithScores = pd.DataFrame({'Model': Names, 'Accuracy_Score': Accuracy_Scores, 'Precision_Score': Precision_Scores})\n",
    "print(ModelsWithScores)"
   ]
  },
  {
   "cell_type": "markdown",
   "id": "cc8b60ba-d385-4bd2-acac-52dbcf531be6",
   "metadata": {},
   "source": [
    "**COMMENT**  \n",
    "\n",
    "> The above accuracy scores and precision scores are on a scale of 1 to 100, with the higher number being better.  \n",
    "\n",
    "FOR REFERENCE: \n",
    "1. DT = Decision Trees \n",
    "2. GNB = Gaussian Naive Bayes\n",
    "3. RF = Random Forest Classifier "
   ]
  },
  {
   "cell_type": "markdown",
   "id": "38c1c561-25b2-4c4d-af11-456516262a20",
   "metadata": {},
   "source": [
    "### 7c. Evaluate the models"
   ]
  },
  {
   "cell_type": "code",
   "execution_count": 54,
   "id": "a3b31b12-2db3-4e81-a748-6afa6f391d7d",
   "metadata": {},
   "outputs": [
    {
     "data": {
      "image/png": "[encoded data removed]",
      "text/plain": [
       "<Figure size 640x480 with 1 Axes>"
      ]
     },
     "metadata": {},
     "output_type": "display_data"
    }
   ],
   "source": [
    "# Plot the accuracy for each model\n",
    "sns.set(font_scale=1.0) \n",
    "axis = sns.barplot(x='Model', y='Accuracy_Score', data=ModelsWithScores)\n",
    "axis.set(xlabel='Model', ylabel='Accuracy', title='The Models By Accuracy Scores')\n",
    "for p in axis.patches:\n",
    "    height = p.get_height()\n",
    "    axis.text(p.get_x() + p.get_width()/2, height + 0.005, '{:1.3f}'.format(height), ha=\"center\")\n",
    "plt.ylim(0,100)\n",
    "plt.annotate('Model with Highest Accuracy', xy = (1, 80), fontsize = 12, xytext = (1, 90), arrowprops = dict(facecolor = 'red'), color = 'g')\n",
    "plt.show()"
   ]
  },
  {
   "cell_type": "markdown",
   "id": "9f9c328f-78d0-4afa-a976-a03e48b06422",
   "metadata": {},
   "source": [
    "**COMMENTS** \n",
    "\n",
    "Gaussian Naive Bayes produces the highest accuracy score. \n",
    "\n",
    "FOR REFERENCE: \n",
    "1. DT = Decision Trees \n",
    "2. GNB = Gaussian Naive Bayes\n",
    "3. RF = Random Forest Classifier"
   ]
  },
  {
   "cell_type": "code",
   "execution_count": 55,
   "id": "b832f5f1-dd00-4bd0-8884-401eafc50f6d",
   "metadata": {},
   "outputs": [
    {
     "data": {
      "image/png": "[encoded data removed]",
      "text/plain": [
       "<Figure size 640x480 with 1 Axes>"
      ]
     },
     "metadata": {},
     "output_type": "display_data"
    }
   ],
   "source": [
    "# Plot the precision for each model\n",
    "sns.set(font_scale=1.0) \n",
    "axis = sns.barplot(x='Model', y='Precision_Score', data=ModelsWithScores)\n",
    "axis.set(xlabel='Model', ylabel='Precision', title='The Models By Precision Scores')\n",
    "for p in axis.patches:\n",
    "    height = p.get_height()\n",
    "    axis.text(p.get_x() + p.get_width()/2, height + 0.005, '{:1.3f}'.format(height), ha=\"center\")\n",
    "plt.ylim(0,100)\n",
    "plt.annotate('Model with Highest Precision', xy = (1, 80), fontsize = 12, xytext = (1, 90), arrowprops = dict(facecolor = 'red'), color = 'g')\n",
    "plt.show()"
   ]
  },
  {
   "cell_type": "markdown",
   "id": "41fd4c6a-2f39-45a6-8938-c48a33778f1d",
   "metadata": {},
   "source": [
    "**COMMENTS** \n",
    "\n",
    "> Therefore, I selected Gaussian Naive Bayes (GBN) as the preferred model for the survey tool.\n",
    "\n",
    "FOR REFERENCE: \n",
    "1. DT = Decision Trees \n",
    "2. GNB = Gaussian Naive Bayes\n",
    "3. RF = Random Forest Classifier "
   ]
  },
  {
   "cell_type": "markdown",
   "id": "6c083ec4-aded-4d93-8adf-75c32859e451",
   "metadata": {},
   "source": [
    "## STEP 8: SELECT THE MOST PRECISE MODEL AND FINE TUNE IT\n",
    "\n",
    "The next step is to select the model that returns the most precise score.  \n",
    "\n",
    "* **8a.** Select the most precise model\n",
    "* **8b.** Identify features to remove by determining feature importance\n",
    "* **8c.** Removed features in the interest of efficiency and reviewed the final data\n",
    "* **8d.** Finalize the model and data for use in the Diabetes Predictor Tool\n",
    "* **8e.** Review the classification report and confusion matrix\n",
    "* **8f.** Save the model"
   ]
  },
  {
   "cell_type": "markdown",
   "id": "acd9e3cb-e3d5-4253-b52b-859a28087b65",
   "metadata": {},
   "source": [
    "### 8a.  Select the most accurate and precise model\n",
    "\n",
    "The Gaussian Naive Bayes Model consistently returns the highest precision score, so I will use this model as the basis of the diabetes prediction tool and finetune the features for accuracy.  "
   ]
  },
  {
   "cell_type": "code",
   "execution_count": 56,
   "id": "c6312f09-4825-491b-8d88-cf1d5d82e784",
   "metadata": {},
   "outputs": [],
   "source": [
    "# Select the model\n",
    "Selected_Model_Before_Finetuning = GaussianNB()"
   ]
  },
  {
   "cell_type": "code",
   "execution_count": 57,
   "id": "01a5c69d-ec3a-4442-af00-09a061b33a2a",
   "metadata": {},
   "outputs": [],
   "source": [
    "# Train the model\n",
    "Selected_Model_Before_Finetuning.fit(X_train, y_train);"
   ]
  },
  {
   "cell_type": "code",
   "execution_count": 58,
   "id": "2975bc48-ab41-491b-92e6-ebdb652c1f87",
   "metadata": {},
   "outputs": [
    {
     "name": "stdout",
     "output_type": "stream",
     "text": [
      "Current accuracy score: 67.5833\n"
     ]
    }
   ],
   "source": [
    "# Test the model for accuracy\n",
    "print(\"Current accuracy score:\", round(Selected_Model_Before_Finetuning.score(X_test, y_test)*100, 4))"
   ]
  },
  {
   "cell_type": "code",
   "execution_count": 59,
   "id": "e6f2e2a3-1d46-48d7-84ff-034da51a02a6",
   "metadata": {},
   "outputs": [
    {
     "name": "stdout",
     "output_type": "stream",
     "text": [
      "Current precision score: 71.8427\n"
     ]
    }
   ],
   "source": [
    "# Test the model for precision\n",
    "print(\"Current precision score:\", round(precision_score(y_test, Selected_Model_Before_Finetuning.predict(X_test))*100, 4))"
   ]
  },
  {
   "cell_type": "markdown",
   "id": "01c86697-9df6-44d8-9fa0-fc05073911b8",
   "metadata": {},
   "source": [
    "### 8b. Identify features to remove by determining feature importance\n",
    "\n",
    "To reduce the time for the prediction model to run and to ensure we make efficient use of questions we need to ask, we must identify the features that contribute the most to the accuracy of the Gaussian Naive Bayes model.  \n"
   ]
  },
  {
   "cell_type": "code",
   "execution_count": 60,
   "id": "81f013d7-6ac0-496a-a3b3-240706026f8a",
   "metadata": {},
   "outputs": [
    {
     "data": {
      "text/plain": [
       "['HighBloodPressure',\n",
       " 'HighCholesterol',\n",
       " 'BMI',\n",
       " 'Smoker',\n",
       " 'Stroke',\n",
       " 'HeartIssues',\n",
       " 'PhysicalActivity',\n",
       " 'Fruits',\n",
       " 'Vegetables',\n",
       " 'Alcohol',\n",
       " 'Sex',\n",
       " 'Age',\n",
       " 'Race']"
      ]
     },
     "execution_count": 60,
     "metadata": {},
     "output_type": "execute_result"
    }
   ],
   "source": [
    "# Get all feature names\n",
    "Feature_Names = X.columns.values.tolist()\n",
    "Feature_Names"
   ]
  },
  {
   "cell_type": "code",
   "execution_count": 61,
   "id": "0cf004f3-0fd8-418e-8afb-dc80322eb7f7",
   "metadata": {},
   "outputs": [
    {
     "name": "stdout",
     "output_type": "stream",
     "text": [
      "              Feature  Feature Rating\n",
      "0   HighBloodPressure        0.029417\n",
      "2                 BMI        0.021750\n",
      "5         HeartIssues        0.021583\n",
      "11                Age        0.015667\n",
      "1     HighCholesterol        0.010833\n",
      "4              Stroke        0.010417\n",
      "9             Alcohol        0.007000\n",
      "6    PhysicalActivity        0.004250\n",
      "3              Smoker        0.003833\n",
      "10                Sex        0.002583\n",
      "12               Race        0.002083\n",
      "8          Vegetables        0.002000\n",
      "7              Fruits        0.000250\n"
     ]
    }
   ],
   "source": [
    "# Rate the features in contribution to model \n",
    "imps = permutation_importance(Selected_Model_Before_Finetuning, X_test, y_test)\n",
    "Feature_Rating = []\n",
    "for i in range(len(Feature_Names)):\n",
    "    Feature_Rating.append((imps.importances_mean[i]))\n",
    "Features_With_Rating = pd.DataFrame({'Feature': Feature_Names, 'Feature Rating': Feature_Rating})\n",
    "Features_With_Rating = Features_With_Rating.sort_values(by=['Feature Rating'], ascending=False)\n",
    "print(Features_With_Rating)"
   ]
  },
  {
   "cell_type": "code",
   "execution_count": 62,
   "id": "2f60e24b-f63b-445c-8301-e0c8f586d704",
   "metadata": {},
   "outputs": [
    {
     "data": {
      "image/png": "[encoded data removed]",
      "text/plain": [
       "<Figure size 1500x700 with 1 Axes>"
      ]
     },
     "metadata": {},
     "output_type": "display_data"
    }
   ],
   "source": [
    "# Plot the features with their rating\n",
    "f, ax = plt.subplots(figsize=(15,7))\n",
    "axis = sns.barplot(y = 'Feature', x = 'Feature Rating', data = Features_With_Rating)\n",
    "axis.set(xlabel='Features', ylabel='Feature Rating')\n",
    "for p in axis.patches:\n",
    "    height = p.get_height() \n",
    "plt.title(\"Feature Rating\")\n",
    "plt.show()"
   ]
  },
  {
   "cell_type": "markdown",
   "id": "1fb0e4b5-d829-4ebb-91d9-dfc6b866f2ca",
   "metadata": {},
   "source": [
    "### 8c. Removed least impactful features in the interest of efficiency and reviewed the Final Data"
   ]
  },
  {
   "cell_type": "code",
   "execution_count": 63,
   "id": "b8f3f2c4-4b8a-46c7-b8bb-6b3802767b16",
   "metadata": {},
   "outputs": [],
   "source": [
    "# Finalize the Data by dropping columns with lower impacts to reduce questions to ask on survey \n",
    "Final_Data = CDC_Diabetes_DataFrame_Balanced.drop(columns=['Fruits','Vegetables'])"
   ]
  },
  {
   "cell_type": "code",
   "execution_count": 64,
   "id": "b1355dfd-97b5-4429-bd79-ae37d5ee90fd",
   "metadata": {},
   "outputs": [
    {
     "name": "stdout",
     "output_type": "stream",
     "text": [
      "<class 'pandas.core.frame.DataFrame'>\n",
      "RangeIndex: 12000 entries, 0 to 11999\n",
      "Data columns (total 12 columns):\n",
      " #   Column             Non-Null Count  Dtype  \n",
      "---  ------             --------------  -----  \n",
      " 0   Diabetes           12000 non-null  float64\n",
      " 1   HighBloodPressure  12000 non-null  int64  \n",
      " 2   HighCholesterol    12000 non-null  float64\n",
      " 3   BMI                12000 non-null  float64\n",
      " 4   Smoker             12000 non-null  float64\n",
      " 5   Stroke             12000 non-null  float64\n",
      " 6   HeartIssues        12000 non-null  float64\n",
      " 7   PhysicalActivity   12000 non-null  int64  \n",
      " 8   Alcohol            12000 non-null  int64  \n",
      " 9   Sex                12000 non-null  int64  \n",
      " 10  Age                12000 non-null  int64  \n",
      " 11  Race               12000 non-null  float64\n",
      "dtypes: float64(7), int64(5)\n",
      "memory usage: 1.1 MB\n"
     ]
    }
   ],
   "source": [
    "Final_Data.info()"
   ]
  },
  {
   "cell_type": "code",
   "execution_count": 65,
   "id": "39dd42e0-3659-41f4-9c9a-a7b427bd892f",
   "metadata": {},
   "outputs": [
    {
     "data": {
      "text/html": [
       "<div>\n",
       "<style scoped>\n",
       "    .dataframe tbody tr th:only-of-type {\n",
       "        vertical-align: middle;\n",
       "    }\n",
       "\n",
       "    .dataframe tbody tr th {\n",
       "        vertical-align: top;\n",
       "    }\n",
       "\n",
       "    .dataframe thead th {\n",
       "        text-align: right;\n",
       "    }\n",
       "</style>\n",
       "<table border=\"1\" class=\"dataframe\">\n",
       "  <thead>\n",
       "    <tr style=\"text-align: right;\">\n",
       "      <th></th>\n",
       "      <th>Diabetes</th>\n",
       "      <th>HighBloodPressure</th>\n",
       "      <th>HighCholesterol</th>\n",
       "      <th>BMI</th>\n",
       "      <th>Smoker</th>\n",
       "      <th>Stroke</th>\n",
       "      <th>HeartIssues</th>\n",
       "      <th>PhysicalActivity</th>\n",
       "      <th>Alcohol</th>\n",
       "      <th>Sex</th>\n",
       "      <th>Age</th>\n",
       "      <th>Race</th>\n",
       "    </tr>\n",
       "  </thead>\n",
       "  <tbody>\n",
       "    <tr>\n",
       "      <th>count</th>\n",
       "      <td>12000.000000</td>\n",
       "      <td>12000.000000</td>\n",
       "      <td>12000.000000</td>\n",
       "      <td>12000.000000</td>\n",
       "      <td>12000.000000</td>\n",
       "      <td>12000.000000</td>\n",
       "      <td>12000.000000</td>\n",
       "      <td>12000.000000</td>\n",
       "      <td>12000.000000</td>\n",
       "      <td>12000.000000</td>\n",
       "      <td>12000.000000</td>\n",
       "      <td>12000.000000</td>\n",
       "    </tr>\n",
       "    <tr>\n",
       "      <th>mean</th>\n",
       "      <td>0.500000</td>\n",
       "      <td>0.539167</td>\n",
       "      <td>0.488500</td>\n",
       "      <td>30.082000</td>\n",
       "      <td>0.434167</td>\n",
       "      <td>0.056333</td>\n",
       "      <td>0.125583</td>\n",
       "      <td>0.720833</td>\n",
       "      <td>0.466500</td>\n",
       "      <td>0.473917</td>\n",
       "      <td>8.574917</td>\n",
       "      <td>1.182500</td>\n",
       "    </tr>\n",
       "    <tr>\n",
       "      <th>std</th>\n",
       "      <td>0.500021</td>\n",
       "      <td>0.498484</td>\n",
       "      <td>0.499889</td>\n",
       "      <td>7.135219</td>\n",
       "      <td>0.495668</td>\n",
       "      <td>0.230574</td>\n",
       "      <td>0.331393</td>\n",
       "      <td>0.448608</td>\n",
       "      <td>0.498897</td>\n",
       "      <td>0.499340</td>\n",
       "      <td>3.091685</td>\n",
       "      <td>0.723812</td>\n",
       "    </tr>\n",
       "    <tr>\n",
       "      <th>min</th>\n",
       "      <td>0.000000</td>\n",
       "      <td>0.000000</td>\n",
       "      <td>0.000000</td>\n",
       "      <td>12.000000</td>\n",
       "      <td>0.000000</td>\n",
       "      <td>0.000000</td>\n",
       "      <td>0.000000</td>\n",
       "      <td>0.000000</td>\n",
       "      <td>0.000000</td>\n",
       "      <td>0.000000</td>\n",
       "      <td>1.000000</td>\n",
       "      <td>0.000000</td>\n",
       "    </tr>\n",
       "    <tr>\n",
       "      <th>25%</th>\n",
       "      <td>0.000000</td>\n",
       "      <td>0.000000</td>\n",
       "      <td>0.000000</td>\n",
       "      <td>25.000000</td>\n",
       "      <td>0.000000</td>\n",
       "      <td>0.000000</td>\n",
       "      <td>0.000000</td>\n",
       "      <td>0.000000</td>\n",
       "      <td>0.000000</td>\n",
       "      <td>0.000000</td>\n",
       "      <td>7.000000</td>\n",
       "      <td>1.000000</td>\n",
       "    </tr>\n",
       "    <tr>\n",
       "      <th>50%</th>\n",
       "      <td>0.500000</td>\n",
       "      <td>1.000000</td>\n",
       "      <td>0.000000</td>\n",
       "      <td>29.000000</td>\n",
       "      <td>0.000000</td>\n",
       "      <td>0.000000</td>\n",
       "      <td>0.000000</td>\n",
       "      <td>1.000000</td>\n",
       "      <td>0.000000</td>\n",
       "      <td>0.000000</td>\n",
       "      <td>9.000000</td>\n",
       "      <td>1.000000</td>\n",
       "    </tr>\n",
       "    <tr>\n",
       "      <th>75%</th>\n",
       "      <td>1.000000</td>\n",
       "      <td>1.000000</td>\n",
       "      <td>1.000000</td>\n",
       "      <td>34.000000</td>\n",
       "      <td>1.000000</td>\n",
       "      <td>0.000000</td>\n",
       "      <td>0.000000</td>\n",
       "      <td>1.000000</td>\n",
       "      <td>1.000000</td>\n",
       "      <td>1.000000</td>\n",
       "      <td>11.000000</td>\n",
       "      <td>1.000000</td>\n",
       "    </tr>\n",
       "    <tr>\n",
       "      <th>max</th>\n",
       "      <td>1.000000</td>\n",
       "      <td>1.000000</td>\n",
       "      <td>1.000000</td>\n",
       "      <td>87.000000</td>\n",
       "      <td>1.000000</td>\n",
       "      <td>1.000000</td>\n",
       "      <td>1.000000</td>\n",
       "      <td>1.000000</td>\n",
       "      <td>1.000000</td>\n",
       "      <td>1.000000</td>\n",
       "      <td>13.000000</td>\n",
       "      <td>5.000000</td>\n",
       "    </tr>\n",
       "  </tbody>\n",
       "</table>\n",
       "</div>"
      ],
      "text/plain": [
       "           Diabetes  HighBloodPressure  HighCholesterol           BMI  \\\n",
       "count  12000.000000       12000.000000     12000.000000  12000.000000   \n",
       "mean       0.500000           0.539167         0.488500     30.082000   \n",
       "std        0.500021           0.498484         0.499889      7.135219   \n",
       "min        0.000000           0.000000         0.000000     12.000000   \n",
       "25%        0.000000           0.000000         0.000000     25.000000   \n",
       "50%        0.500000           1.000000         0.000000     29.000000   \n",
       "75%        1.000000           1.000000         1.000000     34.000000   \n",
       "max        1.000000           1.000000         1.000000     87.000000   \n",
       "\n",
       "             Smoker        Stroke   HeartIssues  PhysicalActivity  \\\n",
       "count  12000.000000  12000.000000  12000.000000      12000.000000   \n",
       "mean       0.434167      0.056333      0.125583          0.720833   \n",
       "std        0.495668      0.230574      0.331393          0.448608   \n",
       "min        0.000000      0.000000      0.000000          0.000000   \n",
       "25%        0.000000      0.000000      0.000000          0.000000   \n",
       "50%        0.000000      0.000000      0.000000          1.000000   \n",
       "75%        1.000000      0.000000      0.000000          1.000000   \n",
       "max        1.000000      1.000000      1.000000          1.000000   \n",
       "\n",
       "            Alcohol           Sex           Age          Race  \n",
       "count  12000.000000  12000.000000  12000.000000  12000.000000  \n",
       "mean       0.466500      0.473917      8.574917      1.182500  \n",
       "std        0.498897      0.499340      3.091685      0.723812  \n",
       "min        0.000000      0.000000      1.000000      0.000000  \n",
       "25%        0.000000      0.000000      7.000000      1.000000  \n",
       "50%        0.000000      0.000000      9.000000      1.000000  \n",
       "75%        1.000000      1.000000     11.000000      1.000000  \n",
       "max        1.000000      1.000000     13.000000      5.000000  "
      ]
     },
     "execution_count": 65,
     "metadata": {},
     "output_type": "execute_result"
    }
   ],
   "source": [
    "Final_Data.describe()"
   ]
  },
  {
   "cell_type": "markdown",
   "id": "b1bcb393-d972-44e0-821e-b4894b7a90df",
   "metadata": {},
   "source": [
    "### 8d. Finalize the model and data for use in the Diabetes Predictor Tool"
   ]
  },
  {
   "cell_type": "code",
   "execution_count": 66,
   "id": "50e649c0-1232-4285-b3f6-55fc6e3bb5fa",
   "metadata": {},
   "outputs": [],
   "source": [
    "# Finalize the model\n",
    "Final_Model = GaussianNB()"
   ]
  },
  {
   "cell_type": "code",
   "execution_count": 67,
   "id": "ce45fd63-3c93-44c6-95d4-4f8bc2927c25",
   "metadata": {},
   "outputs": [],
   "source": [
    "# Split data into X which reflects the matrix of independent variables and y is the set of target values to be predicted\n",
    "# X includes the data from columns other than diabetes\n",
    "X = Final_Data.drop(\"Diabetes\", axis = 1)\n",
    "\n",
    "# y includes the data from the diabetes column \n",
    "y = Final_Data[\"Diabetes\"]"
   ]
  },
  {
   "cell_type": "code",
   "execution_count": 68,
   "id": "dd320fed-43ed-4995-8644-85ecb6427216",
   "metadata": {},
   "outputs": [],
   "source": [
    "# Split data into train and test sets\n",
    "X_train, X_test, y_train, y_test = train_test_split(X, y, stratify = y, test_size = 0.2, random_state=seed)"
   ]
  },
  {
   "cell_type": "code",
   "execution_count": 69,
   "id": "0d6a73a3-f387-4bc6-b445-47729198d413",
   "metadata": {},
   "outputs": [],
   "source": [
    "# Train the model \n",
    "Final_Model.fit(X_train, y_train);"
   ]
  },
  {
   "cell_type": "code",
   "execution_count": 70,
   "id": "3f3a5d8b-cfc8-4a7e-96db-d865b6c60e18",
   "metadata": {},
   "outputs": [
    {
     "name": "stdout",
     "output_type": "stream",
     "text": [
      "Current accuracy score: 67.6667\n"
     ]
    }
   ],
   "source": [
    "# Test the model for accuracy\n",
    "print(\"Current accuracy score:\", round(Final_Model.score(X_test, y_test)*100,4))"
   ]
  },
  {
   "cell_type": "code",
   "execution_count": 71,
   "id": "ea97208f-f82d-44b7-bb8f-2fd1ee6d95ca",
   "metadata": {},
   "outputs": [
    {
     "name": "stdout",
     "output_type": "stream",
     "text": [
      "Current precision score: 72.3158\n"
     ]
    }
   ],
   "source": [
    "# Test the model for precision\n",
    "print(\"Current precision score:\", round(precision_score(y_test, Final_Model.predict(X_test))*100,4))"
   ]
  },
  {
   "cell_type": "markdown",
   "id": "a3807315-7f9f-486f-8a40-28091beaa3d7",
   "metadata": {},
   "source": [
    "### 8e. Review the classification report and confusion matrix "
   ]
  },
  {
   "cell_type": "code",
   "execution_count": 72,
   "id": "c3358c0a-59cb-412a-ab7f-d07bb0fd1835",
   "metadata": {},
   "outputs": [],
   "source": [
    "actual = y_test\n",
    "predicted = Final_Model.predict(X_test)"
   ]
  },
  {
   "cell_type": "code",
   "execution_count": 73,
   "id": "048f8f35-77ab-48b1-81a8-415b239b262d",
   "metadata": {},
   "outputs": [
    {
     "name": "stdout",
     "output_type": "stream",
     "text": [
      "              precision    recall  f1-score   support\n",
      "\n",
      " No Diabetes       0.65      0.78      0.71      1200\n",
      "    Diabetes       0.72      0.57      0.64      1200\n",
      "\n",
      "    accuracy                           0.68      2400\n",
      "   macro avg       0.68      0.68      0.67      2400\n",
      "weighted avg       0.68      0.68      0.67      2400\n",
      "\n"
     ]
    }
   ],
   "source": [
    "# Display the classification report\n",
    "\n",
    "print(classification_report(actual, predicted, target_names=[\"No Diabetes\", \"Diabetes\"]))"
   ]
  },
  {
   "cell_type": "code",
   "execution_count": 74,
   "id": "98a8e1df-efd0-4581-ba14-ae340d0ea7e1",
   "metadata": {},
   "outputs": [
    {
     "data": {
      "image/png": "[encoded data removed]",
      "text/plain": [
       "<Figure size 640x480 with 2 Axes>"
      ]
     },
     "metadata": {},
     "output_type": "display_data"
    }
   ],
   "source": [
    "# Display Confusion Matrix in percentages\n",
    "\n",
    "confusion_matrix = metrics.confusion_matrix(actual, predicted)\n",
    "cm_display = metrics.ConfusionMatrixDisplay(confusion_matrix = confusion_matrix/np.sum(confusion_matrix), display_labels = [\"No Diabetes\", \"Diabetes\"])\n",
    "cm_display.plot(values_format = '.2%', cmap='Blues')\n",
    "plt.title('Confusion Matrix for Diabetes in Percentages')\n",
    "plt.show()"
   ]
  },
  {
   "cell_type": "markdown",
   "id": "5d747017-74d9-47ba-9567-0bc987d38c9c",
   "metadata": {},
   "source": [
    "### 8f. Save the model and the data"
   ]
  },
  {
   "cell_type": "code",
   "execution_count": 75,
   "id": "143dc8d5-7e6c-47ab-9af1-1e14afb23129",
   "metadata": {},
   "outputs": [],
   "source": [
    "# Save the model for use in the application\n",
    "pickle.dump(Final_Model, open('Trained_Model.sav', 'wb'))"
   ]
  },
  {
   "cell_type": "code",
   "execution_count": 76,
   "id": "e547885c-87fa-4873-9120-db7e508af146",
   "metadata": {},
   "outputs": [],
   "source": [
    "# Save the data for use ine application\n",
    "Final_Data.to_csv('Final_Data.csv')"
   ]
  },
  {
   "cell_type": "markdown",
   "id": "2af737e1-c772-4775-a967-e4f1eca76a6c",
   "metadata": {},
   "source": [
    "###  END OF PART A"
   ]
  },
  {
   "cell_type": "markdown",
   "id": "02672466-4e74-45c3-b596-abb5820e7325",
   "metadata": {},
   "source": [
    "Return to 0-Diabetes Predictor Notebook.ipynb\r\n",
    "> https://github.com/mdoane7/capstone/blob/main/0-Diabetes%20Predictor%20Notebook.ipynb"
   ]
  }
 ],
 "metadata": {
  "kernelspec": {
   "display_name": "Python 3 (ipykernel)",
   "language": "python",
   "name": "python3"
  },
  "language_info": {
   "codemirror_mode": {
    "name": "ipython",
    "version": 3
   },
   "file_extension": ".py",
   "mimetype": "text/x-python",
   "name": "python",
   "nbconvert_exporter": "python",
   "pygments_lexer": "ipython3",
   "version": "3.10.13"
  }
 },
 "nbformat": 4,
 "nbformat_minor": 5
}
