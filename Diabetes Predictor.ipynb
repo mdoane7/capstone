{
 "cells": [
  {
   "cell_type": "markdown",
   "id": "7638854d-235e-43b9-b6e4-436038458dd4",
   "metadata": {},
   "source": [
    "# DIABETES PREDICTOR TOOL PROJECT "
   ]
  },
  {
   "cell_type": "markdown",
   "id": "92153734-f734-4c2d-b2ee-85a726b24aac",
   "metadata": {},
   "source": [
    "#### By Mona Doane, BMath, BSCS"
   ]
  },
  {
   "cell_type": "markdown",
   "id": "19c265ad-6226-4f02-b00d-d1250689dc99",
   "metadata": {},
   "source": [
    "## PROBLEM DEFINITION:  \n",
    "The question that the tool expects to answer is \"Given certain parameters about a person, can one predict whether the person has diabetes?\"\n"
   ]
  },
  {
   "cell_type": "markdown",
   "id": "50f127c4-5731-4da5-8bd6-e7960862db36",
   "metadata": {},
   "source": [
    "## SOLUTION OVERVIEW\n",
    "\n",
    "This notebook provides the methodology used to create a machine-learning-based diabetes predictor tool using the data available and includes a demonstration of the **Diabetes Predictor Tool** for use by First-Class Health Care Systems."
   ]
  },
  {
   "cell_type": "markdown",
   "id": "6e5dd083-f4f9-4a73-834d-aea2e1493f18",
   "metadata": {},
   "source": [
    "## CONTENTS\n",
    "\n",
    "The notebook is separated into two sections: \n",
    "- **A.**   Methodology for developing the Diabetes Predictor Tool\n",
    "- **B.**   Application demonstrating the Diabetes Predictor Tool"
   ]
  },
  {
   "cell_type": "markdown",
   "id": "987282bd-3321-4ff4-9049-fb587ca59a30",
   "metadata": {},
   "source": [
    "# A. METHODOLOGY FOR DEVELOPING THE DIABETES PREDICTOR TOOL"
   ]
  },
  {
   "cell_type": "markdown",
   "id": "28afc7c1-5d65-47d6-bcf7-fded1591cb39",
   "metadata": {},
   "source": [
    "The following steps comprise the methodology used for developing the diabetes predictor tool: \n",
    "*  **Step 1:**  Import all relevant libraries to be used for data analysis\n",
    "*  **Step 2:**  Get the data and set up the data for preliminary analysis \n",
    "*  **Step 3:**  Clean the data set\n",
    "*  **Step 4:**  Visualize the data set\n",
    "*  **Step 5:**  Reduce and balance the data set\n",
    "*  **Step 6:**  Create testing and training data sets\n",
    "*  **Step 7:**  Select, train and evaluate models\n",
    "*  **Step 8:**  Select the most precise model and finetune it"
   ]
  },
  {
   "cell_type": "markdown",
   "id": "1e04a5e2-6081-4b4b-bc01-003fe37f5582",
   "metadata": {},
   "source": [
    "## STEP 1:  IMPORT ALL RELEVANT LIBRARIES TO BE USED FOR DATA ANALYSIS"
   ]
  },
  {
   "cell_type": "code",
   "execution_count": 1,
   "id": "381ca79e-b966-4254-8831-a931d031af73",
   "metadata": {},
   "outputs": [],
   "source": [
    "#Import libraries\n",
    "# import os\n",
    "import pandas as pd\n",
    "import numpy as np\n",
    "import matplotlib.pyplot as plt\n",
    "import seaborn as sns\n",
    "\n",
    "# Plots will appear inline in notebook\n",
    "%matplotlib inline \n",
    "\n",
    "# Models from Scikit-Learn\n",
    "from sklearn.neighbors import KNeighborsClassifier\n",
    "from sklearn.svm import SVC\n",
    "from sklearn.linear_model import LogisticRegression\n",
    "from sklearn.tree import DecisionTreeClassifier\n",
    "from sklearn.naive_bayes import GaussianNB\n",
    "from sklearn.ensemble import RandomForestClassifier\n",
    "from sklearn.ensemble import GradientBoostingClassifier\n",
    "from sklearn.naive_bayes import GaussianNB\n",
    "\n",
    "# Model Evaluations\n",
    "from sklearn.inspection import permutation_importance\n",
    "from sklearn.model_selection import train_test_split, cross_val_score\n",
    "from sklearn.model_selection import RandomizedSearchCV, GridSearchCV\n",
    "from sklearn import metrics\n",
    "from sklearn.metrics import confusion_matrix, classification_report\n",
    "from sklearn.metrics import precision_score, recall_score, f1_score\n",
    "from sklearn.metrics import RocCurveDisplay\n",
    "\n",
    "# Standardize any random options for duplication\n",
    "np.random.seed(42)"
   ]
  },
  {
   "cell_type": "markdown",
   "id": "cf0e73ca-3bf1-4483-b96b-1d3d4c6f13a4",
   "metadata": {},
   "source": [
    "## STEP 2: GET THE DATA AND SET UP THE DATA FOR PRELIMINARY ANALYSIS\n",
    "\n",
    "The following steps are used to get the data and set up the dataset for preliminary analysis:\n",
    "\n",
    "* **2a.**  Import the data\n",
    "* **2b.**  Inspect the data\n",
    "* **2c.**  Reduce the number of factors to study to a reasonable number"
   ]
  },
  {
   "cell_type": "markdown",
   "id": "0e49ae13-6e94-49cf-876e-96af54d56161",
   "metadata": {},
   "source": [
    "### 2a. Import the data"
   ]
  },
  {
   "cell_type": "markdown",
   "id": "70a3ff56-48e6-4f90-9cce-8619170ae160",
   "metadata": {},
   "source": [
    "**DATA SOURCE**\n",
    "\n",
    "The original data came from the US Center for Disease Control and Prevention (CDC) and was conducted by the Behavioral Risk Factor Surveillance System (BRFSS) in 2021. According to the CDC, BRFSS conducts over 400,000 adult health-related telephone surveys with U.S. residents in all 50 states and DC and the US territories regarding their health-related risk behaviors, chronic health conditions, and use of preventive services.  \n",
    "\n",
    "The original data can be found here.  \n",
    "> https://www.cdc.gov/brfss/annual_data/annual_2021.html\n",
    "\n",
    "The version of the data used in this project is also available on Kaggle.  The version used in this notebook is found here.    \n",
    "> https://www.kaggle.com/datasets/dariushbahrami/cdc-brfss-survey-2021\n",
    "\n",
    "A description of the features is contained in the following Codebook.  The Codebook contains the complete list of data variable names and methodology used to obtain and classify the data.  \n",
    "> https://www.cdc.gov/brfss/annual_data/2021/pdf/codebook21_llcp-v2-508.pdf"
   ]
  },
  {
   "cell_type": "code",
   "execution_count": 2,
   "id": "bfea6366-7cf0-4018-bd8b-7035ad97e3b5",
   "metadata": {},
   "outputs": [],
   "source": [
    "# Load the dataset\n",
    "CDC_Diabetes_DataSet = pd.read_csv('Diabetes_Dataset_2021.csv')"
   ]
  },
  {
   "cell_type": "markdown",
   "id": "57794729-aff5-47e0-995a-d6b98365fdce",
   "metadata": {},
   "source": [
    "### 2b. Inspect the data"
   ]
  },
  {
   "cell_type": "code",
   "execution_count": 3,
   "id": "ace07ac3-3c17-42e1-8bb7-c086c8804e78",
   "metadata": {},
   "outputs": [
    {
     "data": {
      "text/plain": [
       "(438693, 303)"
      ]
     },
     "execution_count": 3,
     "metadata": {},
     "output_type": "execute_result"
    }
   ],
   "source": [
    "# View the number of rows and columns in dataset\n",
    "CDC_Diabetes_DataSet.shape"
   ]
  },
  {
   "cell_type": "markdown",
   "id": "6e8d1dae-aed4-4b39-8e9f-0aa940c486d0",
   "metadata": {
    "jp-MarkdownHeadingCollapsed": true
   },
   "source": [
    "**COMMENTS**  \n",
    "\n",
    "> There are 438,693 rows and 303 columns.  I will need to reduce the number of rows and identify key features (or columns) to train the machine model without losing accuracy."
   ]
  },
  {
   "cell_type": "code",
   "execution_count": 4,
   "id": "67a3a240-7b85-47a9-aeff-7688db6d9f87",
   "metadata": {},
   "outputs": [
    {
     "data": {
      "text/html": [
       "<div>\n",
       "<style scoped>\n",
       "    .dataframe tbody tr th:only-of-type {\n",
       "        vertical-align: middle;\n",
       "    }\n",
       "\n",
       "    .dataframe tbody tr th {\n",
       "        vertical-align: top;\n",
       "    }\n",
       "\n",
       "    .dataframe thead th {\n",
       "        text-align: right;\n",
       "    }\n",
       "</style>\n",
       "<table border=\"1\" class=\"dataframe\">\n",
       "  <thead>\n",
       "    <tr style=\"text-align: right;\">\n",
       "      <th></th>\n",
       "      <th>_STATE</th>\n",
       "      <th>FMONTH</th>\n",
       "      <th>IDATE</th>\n",
       "      <th>IMONTH</th>\n",
       "      <th>IDAY</th>\n",
       "      <th>IYEAR</th>\n",
       "      <th>DISPCODE</th>\n",
       "      <th>SEQNO</th>\n",
       "      <th>_PSU</th>\n",
       "      <th>CTELENM1</th>\n",
       "      <th>...</th>\n",
       "      <th>_FRTRES1</th>\n",
       "      <th>_VEGRES1</th>\n",
       "      <th>_FRUTSU1</th>\n",
       "      <th>_VEGESU1</th>\n",
       "      <th>_FRTLT1A</th>\n",
       "      <th>_VEGLT1A</th>\n",
       "      <th>_FRT16A</th>\n",
       "      <th>_VEG23A</th>\n",
       "      <th>_FRUITE1</th>\n",
       "      <th>_VEGETE1</th>\n",
       "    </tr>\n",
       "  </thead>\n",
       "  <tbody>\n",
       "    <tr>\n",
       "      <th>0</th>\n",
       "      <td>1</td>\n",
       "      <td>1</td>\n",
       "      <td>1192021</td>\n",
       "      <td>1</td>\n",
       "      <td>19</td>\n",
       "      <td>2021</td>\n",
       "      <td>1100</td>\n",
       "      <td>2021000001</td>\n",
       "      <td>2021000001</td>\n",
       "      <td>1.0</td>\n",
       "      <td>...</td>\n",
       "      <td>1</td>\n",
       "      <td>1</td>\n",
       "      <td>100.0</td>\n",
       "      <td>214.0</td>\n",
       "      <td>1</td>\n",
       "      <td>1</td>\n",
       "      <td>1</td>\n",
       "      <td>1</td>\n",
       "      <td>0</td>\n",
       "      <td>0</td>\n",
       "    </tr>\n",
       "    <tr>\n",
       "      <th>1</th>\n",
       "      <td>1</td>\n",
       "      <td>1</td>\n",
       "      <td>1212021</td>\n",
       "      <td>1</td>\n",
       "      <td>21</td>\n",
       "      <td>2021</td>\n",
       "      <td>1100</td>\n",
       "      <td>2021000002</td>\n",
       "      <td>2021000002</td>\n",
       "      <td>1.0</td>\n",
       "      <td>...</td>\n",
       "      <td>1</td>\n",
       "      <td>1</td>\n",
       "      <td>100.0</td>\n",
       "      <td>128.0</td>\n",
       "      <td>1</td>\n",
       "      <td>1</td>\n",
       "      <td>1</td>\n",
       "      <td>1</td>\n",
       "      <td>0</td>\n",
       "      <td>0</td>\n",
       "    </tr>\n",
       "    <tr>\n",
       "      <th>2</th>\n",
       "      <td>1</td>\n",
       "      <td>1</td>\n",
       "      <td>1212021</td>\n",
       "      <td>1</td>\n",
       "      <td>21</td>\n",
       "      <td>2021</td>\n",
       "      <td>1100</td>\n",
       "      <td>2021000003</td>\n",
       "      <td>2021000003</td>\n",
       "      <td>1.0</td>\n",
       "      <td>...</td>\n",
       "      <td>1</td>\n",
       "      <td>1</td>\n",
       "      <td>100.0</td>\n",
       "      <td>71.0</td>\n",
       "      <td>1</td>\n",
       "      <td>2</td>\n",
       "      <td>1</td>\n",
       "      <td>1</td>\n",
       "      <td>0</td>\n",
       "      <td>0</td>\n",
       "    </tr>\n",
       "    <tr>\n",
       "      <th>3</th>\n",
       "      <td>1</td>\n",
       "      <td>1</td>\n",
       "      <td>1172021</td>\n",
       "      <td>1</td>\n",
       "      <td>17</td>\n",
       "      <td>2021</td>\n",
       "      <td>1100</td>\n",
       "      <td>2021000004</td>\n",
       "      <td>2021000004</td>\n",
       "      <td>1.0</td>\n",
       "      <td>...</td>\n",
       "      <td>1</td>\n",
       "      <td>1</td>\n",
       "      <td>114.0</td>\n",
       "      <td>165.0</td>\n",
       "      <td>1</td>\n",
       "      <td>1</td>\n",
       "      <td>1</td>\n",
       "      <td>1</td>\n",
       "      <td>0</td>\n",
       "      <td>0</td>\n",
       "    </tr>\n",
       "    <tr>\n",
       "      <th>4</th>\n",
       "      <td>1</td>\n",
       "      <td>1</td>\n",
       "      <td>1152021</td>\n",
       "      <td>1</td>\n",
       "      <td>15</td>\n",
       "      <td>2021</td>\n",
       "      <td>1100</td>\n",
       "      <td>2021000005</td>\n",
       "      <td>2021000005</td>\n",
       "      <td>1.0</td>\n",
       "      <td>...</td>\n",
       "      <td>1</td>\n",
       "      <td>1</td>\n",
       "      <td>100.0</td>\n",
       "      <td>258.0</td>\n",
       "      <td>1</td>\n",
       "      <td>1</td>\n",
       "      <td>1</td>\n",
       "      <td>1</td>\n",
       "      <td>0</td>\n",
       "      <td>0</td>\n",
       "    </tr>\n",
       "  </tbody>\n",
       "</table>\n",
       "<p>5 rows × 303 columns</p>\n",
       "</div>"
      ],
      "text/plain": [
       "   _STATE  FMONTH    IDATE  IMONTH  IDAY  IYEAR  DISPCODE       SEQNO  \\\n",
       "0       1       1  1192021       1    19   2021      1100  2021000001   \n",
       "1       1       1  1212021       1    21   2021      1100  2021000002   \n",
       "2       1       1  1212021       1    21   2021      1100  2021000003   \n",
       "3       1       1  1172021       1    17   2021      1100  2021000004   \n",
       "4       1       1  1152021       1    15   2021      1100  2021000005   \n",
       "\n",
       "         _PSU  CTELENM1  ...  _FRTRES1  _VEGRES1  _FRUTSU1  _VEGESU1  \\\n",
       "0  2021000001       1.0  ...         1         1     100.0     214.0   \n",
       "1  2021000002       1.0  ...         1         1     100.0     128.0   \n",
       "2  2021000003       1.0  ...         1         1     100.0      71.0   \n",
       "3  2021000004       1.0  ...         1         1     114.0     165.0   \n",
       "4  2021000005       1.0  ...         1         1     100.0     258.0   \n",
       "\n",
       "   _FRTLT1A  _VEGLT1A  _FRT16A  _VEG23A  _FRUITE1  _VEGETE1  \n",
       "0         1         1        1        1         0         0  \n",
       "1         1         1        1        1         0         0  \n",
       "2         1         2        1        1         0         0  \n",
       "3         1         1        1        1         0         0  \n",
       "4         1         1        1        1         0         0  \n",
       "\n",
       "[5 rows x 303 columns]"
      ]
     },
     "execution_count": 4,
     "metadata": {},
     "output_type": "execute_result"
    }
   ],
   "source": [
    "# View the dataset to gain a basic understanding of the data\n",
    "CDC_Diabetes_DataSet.head()"
   ]
  },
  {
   "cell_type": "code",
   "execution_count": 5,
   "id": "5f4b1cc4-f5bb-47ec-a28b-0e1c05894595",
   "metadata": {},
   "outputs": [
    {
     "name": "stdout",
     "output_type": "stream",
     "text": [
      "<class 'pandas.core.frame.DataFrame'>\n",
      "RangeIndex: 438693 entries, 0 to 438692\n",
      "Columns: 303 entries, _STATE to _VEGETE1\n",
      "dtypes: float64(245), int64(58)\n",
      "memory usage: 1014.1 MB\n"
     ]
    }
   ],
   "source": [
    "# Attempt to get some information on the data\n",
    "CDC_Diabetes_DataSet.info()"
   ]
  },
  {
   "cell_type": "code",
   "execution_count": 6,
   "id": "2f4db147-5b10-4e95-81fb-70366b140309",
   "metadata": {},
   "outputs": [
    {
     "data": {
      "text/html": [
       "<div>\n",
       "<style scoped>\n",
       "    .dataframe tbody tr th:only-of-type {\n",
       "        vertical-align: middle;\n",
       "    }\n",
       "\n",
       "    .dataframe tbody tr th {\n",
       "        vertical-align: top;\n",
       "    }\n",
       "\n",
       "    .dataframe thead th {\n",
       "        text-align: right;\n",
       "    }\n",
       "</style>\n",
       "<table border=\"1\" class=\"dataframe\">\n",
       "  <thead>\n",
       "    <tr style=\"text-align: right;\">\n",
       "      <th></th>\n",
       "      <th>_STATE</th>\n",
       "      <th>FMONTH</th>\n",
       "      <th>IDATE</th>\n",
       "      <th>IMONTH</th>\n",
       "      <th>IDAY</th>\n",
       "      <th>IYEAR</th>\n",
       "      <th>DISPCODE</th>\n",
       "      <th>SEQNO</th>\n",
       "      <th>_PSU</th>\n",
       "      <th>CTELENM1</th>\n",
       "      <th>...</th>\n",
       "      <th>_FRTRES1</th>\n",
       "      <th>_VEGRES1</th>\n",
       "      <th>_FRUTSU1</th>\n",
       "      <th>_VEGESU1</th>\n",
       "      <th>_FRTLT1A</th>\n",
       "      <th>_VEGLT1A</th>\n",
       "      <th>_FRT16A</th>\n",
       "      <th>_VEG23A</th>\n",
       "      <th>_FRUITE1</th>\n",
       "      <th>_VEGETE1</th>\n",
       "    </tr>\n",
       "  </thead>\n",
       "  <tbody>\n",
       "    <tr>\n",
       "      <th>count</th>\n",
       "      <td>438693.000000</td>\n",
       "      <td>438693.000000</td>\n",
       "      <td>4.386930e+05</td>\n",
       "      <td>438693.000000</td>\n",
       "      <td>438693.000000</td>\n",
       "      <td>438693.000000</td>\n",
       "      <td>438693.000000</td>\n",
       "      <td>4.386930e+05</td>\n",
       "      <td>4.386930e+05</td>\n",
       "      <td>117786.000000</td>\n",
       "      <td>...</td>\n",
       "      <td>438693.000000</td>\n",
       "      <td>438693.000000</td>\n",
       "      <td>387606.000000</td>\n",
       "      <td>378566.000000</td>\n",
       "      <td>438693.000000</td>\n",
       "      <td>438693.000000</td>\n",
       "      <td>438693.000000</td>\n",
       "      <td>438693.000000</td>\n",
       "      <td>438693.000000</td>\n",
       "      <td>438693.000000</td>\n",
       "    </tr>\n",
       "    <tr>\n",
       "      <th>mean</th>\n",
       "      <td>30.742155</td>\n",
       "      <td>6.405680</td>\n",
       "      <td>6.688758e+06</td>\n",
       "      <td>6.535354</td>\n",
       "      <td>15.138261</td>\n",
       "      <td>2021.053586</td>\n",
       "      <td>1118.189030</td>\n",
       "      <td>2.021006e+09</td>\n",
       "      <td>2.021006e+09</td>\n",
       "      <td>1.000017</td>\n",
       "      <td>...</td>\n",
       "      <td>0.883547</td>\n",
       "      <td>0.862941</td>\n",
       "      <td>178.342954</td>\n",
       "      <td>271.544175</td>\n",
       "      <td>2.270561</td>\n",
       "      <td>2.257184</td>\n",
       "      <td>0.994967</td>\n",
       "      <td>0.992699</td>\n",
       "      <td>0.126519</td>\n",
       "      <td>0.151662</td>\n",
       "    </tr>\n",
       "    <tr>\n",
       "      <th>std</th>\n",
       "      <td>15.334888</td>\n",
       "      <td>3.421731</td>\n",
       "      <td>3.444137e+06</td>\n",
       "      <td>3.443480</td>\n",
       "      <td>8.614820</td>\n",
       "      <td>0.225200</td>\n",
       "      <td>38.575453</td>\n",
       "      <td>6.383751e+03</td>\n",
       "      <td>6.383751e+03</td>\n",
       "      <td>0.004121</td>\n",
       "      <td>...</td>\n",
       "      <td>0.320767</td>\n",
       "      <td>0.343910</td>\n",
       "      <td>691.293103</td>\n",
       "      <td>1036.227213</td>\n",
       "      <td>2.485479</td>\n",
       "      <td>2.711460</td>\n",
       "      <td>0.070766</td>\n",
       "      <td>0.085135</td>\n",
       "      <td>0.347244</td>\n",
       "      <td>0.378501</td>\n",
       "    </tr>\n",
       "    <tr>\n",
       "      <th>min</th>\n",
       "      <td>1.000000</td>\n",
       "      <td>1.000000</td>\n",
       "      <td>1.012022e+06</td>\n",
       "      <td>1.000000</td>\n",
       "      <td>1.000000</td>\n",
       "      <td>2021.000000</td>\n",
       "      <td>1100.000000</td>\n",
       "      <td>2.021000e+09</td>\n",
       "      <td>2.021000e+09</td>\n",
       "      <td>1.000000</td>\n",
       "      <td>...</td>\n",
       "      <td>0.000000</td>\n",
       "      <td>0.000000</td>\n",
       "      <td>0.000000</td>\n",
       "      <td>0.000000</td>\n",
       "      <td>1.000000</td>\n",
       "      <td>1.000000</td>\n",
       "      <td>0.000000</td>\n",
       "      <td>0.000000</td>\n",
       "      <td>0.000000</td>\n",
       "      <td>0.000000</td>\n",
       "    </tr>\n",
       "    <tr>\n",
       "      <th>25%</th>\n",
       "      <td>20.000000</td>\n",
       "      <td>3.000000</td>\n",
       "      <td>3.302021e+06</td>\n",
       "      <td>3.000000</td>\n",
       "      <td>8.000000</td>\n",
       "      <td>2021.000000</td>\n",
       "      <td>1100.000000</td>\n",
       "      <td>2.021002e+09</td>\n",
       "      <td>2.021002e+09</td>\n",
       "      <td>1.000000</td>\n",
       "      <td>...</td>\n",
       "      <td>1.000000</td>\n",
       "      <td>1.000000</td>\n",
       "      <td>57.000000</td>\n",
       "      <td>114.000000</td>\n",
       "      <td>1.000000</td>\n",
       "      <td>1.000000</td>\n",
       "      <td>1.000000</td>\n",
       "      <td>1.000000</td>\n",
       "      <td>0.000000</td>\n",
       "      <td>0.000000</td>\n",
       "    </tr>\n",
       "    <tr>\n",
       "      <th>50%</th>\n",
       "      <td>31.000000</td>\n",
       "      <td>6.000000</td>\n",
       "      <td>7.032021e+06</td>\n",
       "      <td>7.000000</td>\n",
       "      <td>15.000000</td>\n",
       "      <td>2021.000000</td>\n",
       "      <td>1100.000000</td>\n",
       "      <td>2.021004e+09</td>\n",
       "      <td>2.021004e+09</td>\n",
       "      <td>1.000000</td>\n",
       "      <td>...</td>\n",
       "      <td>1.000000</td>\n",
       "      <td>1.000000</td>\n",
       "      <td>100.000000</td>\n",
       "      <td>167.000000</td>\n",
       "      <td>1.000000</td>\n",
       "      <td>1.000000</td>\n",
       "      <td>1.000000</td>\n",
       "      <td>1.000000</td>\n",
       "      <td>0.000000</td>\n",
       "      <td>0.000000</td>\n",
       "    </tr>\n",
       "    <tr>\n",
       "      <th>75%</th>\n",
       "      <td>41.000000</td>\n",
       "      <td>9.000000</td>\n",
       "      <td>1.003202e+07</td>\n",
       "      <td>10.000000</td>\n",
       "      <td>22.000000</td>\n",
       "      <td>2021.000000</td>\n",
       "      <td>1100.000000</td>\n",
       "      <td>2.021008e+09</td>\n",
       "      <td>2.021008e+09</td>\n",
       "      <td>1.000000</td>\n",
       "      <td>...</td>\n",
       "      <td>1.000000</td>\n",
       "      <td>1.000000</td>\n",
       "      <td>200.000000</td>\n",
       "      <td>229.000000</td>\n",
       "      <td>2.000000</td>\n",
       "      <td>2.000000</td>\n",
       "      <td>1.000000</td>\n",
       "      <td>1.000000</td>\n",
       "      <td>0.000000</td>\n",
       "      <td>0.000000</td>\n",
       "    </tr>\n",
       "    <tr>\n",
       "      <th>max</th>\n",
       "      <td>78.000000</td>\n",
       "      <td>12.000000</td>\n",
       "      <td>1.231202e+07</td>\n",
       "      <td>12.000000</td>\n",
       "      <td>31.000000</td>\n",
       "      <td>2022.000000</td>\n",
       "      <td>1200.000000</td>\n",
       "      <td>2.021039e+09</td>\n",
       "      <td>2.021039e+09</td>\n",
       "      <td>2.000000</td>\n",
       "      <td>...</td>\n",
       "      <td>1.000000</td>\n",
       "      <td>1.000000</td>\n",
       "      <td>19800.000000</td>\n",
       "      <td>39600.000000</td>\n",
       "      <td>9.000000</td>\n",
       "      <td>9.000000</td>\n",
       "      <td>1.000000</td>\n",
       "      <td>1.000000</td>\n",
       "      <td>2.000000</td>\n",
       "      <td>2.000000</td>\n",
       "    </tr>\n",
       "  </tbody>\n",
       "</table>\n",
       "<p>8 rows × 303 columns</p>\n",
       "</div>"
      ],
      "text/plain": [
       "              _STATE         FMONTH         IDATE         IMONTH  \\\n",
       "count  438693.000000  438693.000000  4.386930e+05  438693.000000   \n",
       "mean       30.742155       6.405680  6.688758e+06       6.535354   \n",
       "std        15.334888       3.421731  3.444137e+06       3.443480   \n",
       "min         1.000000       1.000000  1.012022e+06       1.000000   \n",
       "25%        20.000000       3.000000  3.302021e+06       3.000000   \n",
       "50%        31.000000       6.000000  7.032021e+06       7.000000   \n",
       "75%        41.000000       9.000000  1.003202e+07      10.000000   \n",
       "max        78.000000      12.000000  1.231202e+07      12.000000   \n",
       "\n",
       "                IDAY          IYEAR       DISPCODE         SEQNO  \\\n",
       "count  438693.000000  438693.000000  438693.000000  4.386930e+05   \n",
       "mean       15.138261    2021.053586    1118.189030  2.021006e+09   \n",
       "std         8.614820       0.225200      38.575453  6.383751e+03   \n",
       "min         1.000000    2021.000000    1100.000000  2.021000e+09   \n",
       "25%         8.000000    2021.000000    1100.000000  2.021002e+09   \n",
       "50%        15.000000    2021.000000    1100.000000  2.021004e+09   \n",
       "75%        22.000000    2021.000000    1100.000000  2.021008e+09   \n",
       "max        31.000000    2022.000000    1200.000000  2.021039e+09   \n",
       "\n",
       "               _PSU       CTELENM1  ...       _FRTRES1       _VEGRES1  \\\n",
       "count  4.386930e+05  117786.000000  ...  438693.000000  438693.000000   \n",
       "mean   2.021006e+09       1.000017  ...       0.883547       0.862941   \n",
       "std    6.383751e+03       0.004121  ...       0.320767       0.343910   \n",
       "min    2.021000e+09       1.000000  ...       0.000000       0.000000   \n",
       "25%    2.021002e+09       1.000000  ...       1.000000       1.000000   \n",
       "50%    2.021004e+09       1.000000  ...       1.000000       1.000000   \n",
       "75%    2.021008e+09       1.000000  ...       1.000000       1.000000   \n",
       "max    2.021039e+09       2.000000  ...       1.000000       1.000000   \n",
       "\n",
       "            _FRUTSU1       _VEGESU1       _FRTLT1A       _VEGLT1A  \\\n",
       "count  387606.000000  378566.000000  438693.000000  438693.000000   \n",
       "mean      178.342954     271.544175       2.270561       2.257184   \n",
       "std       691.293103    1036.227213       2.485479       2.711460   \n",
       "min         0.000000       0.000000       1.000000       1.000000   \n",
       "25%        57.000000     114.000000       1.000000       1.000000   \n",
       "50%       100.000000     167.000000       1.000000       1.000000   \n",
       "75%       200.000000     229.000000       2.000000       2.000000   \n",
       "max     19800.000000   39600.000000       9.000000       9.000000   \n",
       "\n",
       "             _FRT16A        _VEG23A       _FRUITE1       _VEGETE1  \n",
       "count  438693.000000  438693.000000  438693.000000  438693.000000  \n",
       "mean        0.994967       0.992699       0.126519       0.151662  \n",
       "std         0.070766       0.085135       0.347244       0.378501  \n",
       "min         0.000000       0.000000       0.000000       0.000000  \n",
       "25%         1.000000       1.000000       0.000000       0.000000  \n",
       "50%         1.000000       1.000000       0.000000       0.000000  \n",
       "75%         1.000000       1.000000       0.000000       0.000000  \n",
       "max         1.000000       1.000000       2.000000       2.000000  \n",
       "\n",
       "[8 rows x 303 columns]"
      ]
     },
     "execution_count": 6,
     "metadata": {},
     "output_type": "execute_result"
    }
   ],
   "source": [
    "# Attempt to get some information on the data\n",
    "CDC_Diabetes_DataSet.describe()"
   ]
  },
  {
   "cell_type": "markdown",
   "id": "11281bed-73ba-4715-8c21-75384d0b4617",
   "metadata": {},
   "source": [
    "### 2c.  Reduce the number of factors to study to a reasonable number "
   ]
  },
  {
   "cell_type": "markdown",
   "id": "cd33a837-930e-4a74-961b-6af589ad1e9d",
   "metadata": {},
   "source": [
    "A review of the data above shows the data description and information above are not very helpful as there are too many data points.\n",
    "Rather than studying 303 possible factors, I used established diabetes risk factors to narrow the columns into 16 possible factors.  \n",
    "> https://www.cdc.gov/diabetes/basics/risk-factors.html\n",
    "\n",
    "**POSSIBLE RISK FACTORS**\n",
    "1. Diabetes = DIABETE4\n",
    "2. High Blood Pressure = _RFHYPE6\n",
    "3. High Cholesterol = TOLDHI3\n",
    "4. BMI = _BMI5\n",
    "5.  Overweight = _BMI5CAT\n",
    "6.  Smoke = SMOKE100\n",
    "7.  Stroke = CVDSTRK3\n",
    "8.  Heart Issue = _MICHD\n",
    "9.  Physical Activity = _TOTINDA\n",
    "10.  Fruit = _FRTLT1A\n",
    "11.  Vegetable = _VEGLT1A\n",
    "12.  Alcohol = DRNKANY5\n",
    "13.  HealthPlan = _HLTHPLN\n",
    "14.  Sex = _SEX\n",
    "15.  Age = _AGEG5YR\n",
    "16.  Race = _PRACE1\n"
   ]
  },
  {
   "cell_type": "code",
   "execution_count": 7,
   "id": "aca9ea22-ee64-4a0f-a5fc-32b639442fb9",
   "metadata": {},
   "outputs": [],
   "source": [
    "# Narrow 303 columns to 16 columns that are the most interesting for study\n",
    "CDC_Diabetes_DataFrame_Selection = CDC_Diabetes_DataSet[['DIABETE4', '_RFHYPE6', 'TOLDHI3', '_BMI5', '_BMI5CAT', 'SMOKE100', 'CVDSTRK3', \n",
    "                                                          '_MICHD', '_TOTINDA', '_FRTLT1A', '_VEGLT1A', 'DRNKANY5', '_HLTHPLN', '_SEX',\n",
    "                                                          '_AGEG5YR',  '_PRACE1']]"
   ]
  },
  {
   "cell_type": "code",
   "execution_count": 8,
   "id": "38ed502c-d65b-443a-ac90-23cb638f833e",
   "metadata": {},
   "outputs": [
    {
     "data": {
      "text/plain": [
       "(438693, 16)"
      ]
     },
     "execution_count": 8,
     "metadata": {},
     "output_type": "execute_result"
    }
   ],
   "source": [
    "# View the number of rows and columns in the selected data frame \n",
    "CDC_Diabetes_DataFrame_Selection.shape"
   ]
  },
  {
   "cell_type": "code",
   "execution_count": 9,
   "id": "bef24a49-e7c9-48ee-96a3-26270da8d902",
   "metadata": {},
   "outputs": [
    {
     "data": {
      "text/html": [
       "<div>\n",
       "<style scoped>\n",
       "    .dataframe tbody tr th:only-of-type {\n",
       "        vertical-align: middle;\n",
       "    }\n",
       "\n",
       "    .dataframe tbody tr th {\n",
       "        vertical-align: top;\n",
       "    }\n",
       "\n",
       "    .dataframe thead th {\n",
       "        text-align: right;\n",
       "    }\n",
       "</style>\n",
       "<table border=\"1\" class=\"dataframe\">\n",
       "  <thead>\n",
       "    <tr style=\"text-align: right;\">\n",
       "      <th></th>\n",
       "      <th>DIABETE4</th>\n",
       "      <th>_RFHYPE6</th>\n",
       "      <th>TOLDHI3</th>\n",
       "      <th>_BMI5</th>\n",
       "      <th>_BMI5CAT</th>\n",
       "      <th>SMOKE100</th>\n",
       "      <th>CVDSTRK3</th>\n",
       "      <th>_MICHD</th>\n",
       "      <th>_TOTINDA</th>\n",
       "      <th>_FRTLT1A</th>\n",
       "      <th>_VEGLT1A</th>\n",
       "      <th>DRNKANY5</th>\n",
       "      <th>_HLTHPLN</th>\n",
       "      <th>_SEX</th>\n",
       "      <th>_AGEG5YR</th>\n",
       "      <th>_PRACE1</th>\n",
       "    </tr>\n",
       "  </thead>\n",
       "  <tbody>\n",
       "    <tr>\n",
       "      <th>0</th>\n",
       "      <td>3.0</td>\n",
       "      <td>1</td>\n",
       "      <td>1.0</td>\n",
       "      <td>1454.0</td>\n",
       "      <td>1.0</td>\n",
       "      <td>1.0</td>\n",
       "      <td>2.0</td>\n",
       "      <td>2.0</td>\n",
       "      <td>2</td>\n",
       "      <td>1</td>\n",
       "      <td>1</td>\n",
       "      <td>2</td>\n",
       "      <td>1</td>\n",
       "      <td>2</td>\n",
       "      <td>11</td>\n",
       "      <td>1.0</td>\n",
       "    </tr>\n",
       "    <tr>\n",
       "      <th>1</th>\n",
       "      <td>1.0</td>\n",
       "      <td>2</td>\n",
       "      <td>1.0</td>\n",
       "      <td>NaN</td>\n",
       "      <td>NaN</td>\n",
       "      <td>2.0</td>\n",
       "      <td>2.0</td>\n",
       "      <td>1.0</td>\n",
       "      <td>1</td>\n",
       "      <td>1</td>\n",
       "      <td>1</td>\n",
       "      <td>2</td>\n",
       "      <td>1</td>\n",
       "      <td>2</td>\n",
       "      <td>10</td>\n",
       "      <td>2.0</td>\n",
       "    </tr>\n",
       "    <tr>\n",
       "      <th>2</th>\n",
       "      <td>1.0</td>\n",
       "      <td>2</td>\n",
       "      <td>2.0</td>\n",
       "      <td>2829.0</td>\n",
       "      <td>3.0</td>\n",
       "      <td>2.0</td>\n",
       "      <td>2.0</td>\n",
       "      <td>1.0</td>\n",
       "      <td>2</td>\n",
       "      <td>1</td>\n",
       "      <td>2</td>\n",
       "      <td>2</td>\n",
       "      <td>1</td>\n",
       "      <td>2</td>\n",
       "      <td>11</td>\n",
       "      <td>2.0</td>\n",
       "    </tr>\n",
       "    <tr>\n",
       "      <th>3</th>\n",
       "      <td>1.0</td>\n",
       "      <td>2</td>\n",
       "      <td>1.0</td>\n",
       "      <td>3347.0</td>\n",
       "      <td>4.0</td>\n",
       "      <td>2.0</td>\n",
       "      <td>2.0</td>\n",
       "      <td>2.0</td>\n",
       "      <td>1</td>\n",
       "      <td>1</td>\n",
       "      <td>1</td>\n",
       "      <td>1</td>\n",
       "      <td>1</td>\n",
       "      <td>2</td>\n",
       "      <td>9</td>\n",
       "      <td>1.0</td>\n",
       "    </tr>\n",
       "    <tr>\n",
       "      <th>4</th>\n",
       "      <td>1.0</td>\n",
       "      <td>1</td>\n",
       "      <td>1.0</td>\n",
       "      <td>2873.0</td>\n",
       "      <td>3.0</td>\n",
       "      <td>2.0</td>\n",
       "      <td>1.0</td>\n",
       "      <td>1.0</td>\n",
       "      <td>1</td>\n",
       "      <td>1</td>\n",
       "      <td>1</td>\n",
       "      <td>2</td>\n",
       "      <td>1</td>\n",
       "      <td>1</td>\n",
       "      <td>12</td>\n",
       "      <td>1.0</td>\n",
       "    </tr>\n",
       "  </tbody>\n",
       "</table>\n",
       "</div>"
      ],
      "text/plain": [
       "   DIABETE4  _RFHYPE6  TOLDHI3   _BMI5  _BMI5CAT  SMOKE100  CVDSTRK3  _MICHD  \\\n",
       "0       3.0         1      1.0  1454.0       1.0       1.0       2.0     2.0   \n",
       "1       1.0         2      1.0     NaN       NaN       2.0       2.0     1.0   \n",
       "2       1.0         2      2.0  2829.0       3.0       2.0       2.0     1.0   \n",
       "3       1.0         2      1.0  3347.0       4.0       2.0       2.0     2.0   \n",
       "4       1.0         1      1.0  2873.0       3.0       2.0       1.0     1.0   \n",
       "\n",
       "   _TOTINDA  _FRTLT1A  _VEGLT1A  DRNKANY5  _HLTHPLN  _SEX  _AGEG5YR  _PRACE1  \n",
       "0         2         1         1         2         1     2        11      1.0  \n",
       "1         1         1         1         2         1     2        10      2.0  \n",
       "2         2         1         2         2         1     2        11      2.0  \n",
       "3         1         1         1         1         1     2         9      1.0  \n",
       "4         1         1         1         2         1     1        12      1.0  "
      ]
     },
     "execution_count": 9,
     "metadata": {},
     "output_type": "execute_result"
    }
   ],
   "source": [
    "# View a sample of the selected data frame from the top\n",
    "CDC_Diabetes_DataFrame_Selection.head()"
   ]
  },
  {
   "cell_type": "code",
   "execution_count": 10,
   "id": "794e0d9e-591f-4151-ab92-e36cef4e107d",
   "metadata": {},
   "outputs": [
    {
     "data": {
      "text/html": [
       "<div>\n",
       "<style scoped>\n",
       "    .dataframe tbody tr th:only-of-type {\n",
       "        vertical-align: middle;\n",
       "    }\n",
       "\n",
       "    .dataframe tbody tr th {\n",
       "        vertical-align: top;\n",
       "    }\n",
       "\n",
       "    .dataframe thead th {\n",
       "        text-align: right;\n",
       "    }\n",
       "</style>\n",
       "<table border=\"1\" class=\"dataframe\">\n",
       "  <thead>\n",
       "    <tr style=\"text-align: right;\">\n",
       "      <th></th>\n",
       "      <th>DIABETE4</th>\n",
       "      <th>_RFHYPE6</th>\n",
       "      <th>TOLDHI3</th>\n",
       "      <th>_BMI5</th>\n",
       "      <th>_BMI5CAT</th>\n",
       "      <th>SMOKE100</th>\n",
       "      <th>CVDSTRK3</th>\n",
       "      <th>_MICHD</th>\n",
       "      <th>_TOTINDA</th>\n",
       "      <th>_FRTLT1A</th>\n",
       "      <th>_VEGLT1A</th>\n",
       "      <th>DRNKANY5</th>\n",
       "      <th>_HLTHPLN</th>\n",
       "      <th>_SEX</th>\n",
       "      <th>_AGEG5YR</th>\n",
       "      <th>_PRACE1</th>\n",
       "    </tr>\n",
       "  </thead>\n",
       "  <tbody>\n",
       "    <tr>\n",
       "      <th>438688</th>\n",
       "      <td>2.0</td>\n",
       "      <td>2</td>\n",
       "      <td>2.0</td>\n",
       "      <td>2469.0</td>\n",
       "      <td>2.0</td>\n",
       "      <td>1.0</td>\n",
       "      <td>2.0</td>\n",
       "      <td>2.0</td>\n",
       "      <td>1</td>\n",
       "      <td>1</td>\n",
       "      <td>1</td>\n",
       "      <td>1</td>\n",
       "      <td>2</td>\n",
       "      <td>2</td>\n",
       "      <td>3</td>\n",
       "      <td>99.0</td>\n",
       "    </tr>\n",
       "    <tr>\n",
       "      <th>438689</th>\n",
       "      <td>1.0</td>\n",
       "      <td>2</td>\n",
       "      <td>2.0</td>\n",
       "      <td>NaN</td>\n",
       "      <td>NaN</td>\n",
       "      <td>2.0</td>\n",
       "      <td>2.0</td>\n",
       "      <td>2.0</td>\n",
       "      <td>2</td>\n",
       "      <td>1</td>\n",
       "      <td>1</td>\n",
       "      <td>2</td>\n",
       "      <td>9</td>\n",
       "      <td>1</td>\n",
       "      <td>13</td>\n",
       "      <td>6.0</td>\n",
       "    </tr>\n",
       "    <tr>\n",
       "      <th>438690</th>\n",
       "      <td>3.0</td>\n",
       "      <td>1</td>\n",
       "      <td>1.0</td>\n",
       "      <td>3068.0</td>\n",
       "      <td>4.0</td>\n",
       "      <td>2.0</td>\n",
       "      <td>2.0</td>\n",
       "      <td>2.0</td>\n",
       "      <td>1</td>\n",
       "      <td>1</td>\n",
       "      <td>1</td>\n",
       "      <td>1</td>\n",
       "      <td>1</td>\n",
       "      <td>1</td>\n",
       "      <td>7</td>\n",
       "      <td>2.0</td>\n",
       "    </tr>\n",
       "    <tr>\n",
       "      <th>438691</th>\n",
       "      <td>3.0</td>\n",
       "      <td>2</td>\n",
       "      <td>2.0</td>\n",
       "      <td>2373.0</td>\n",
       "      <td>2.0</td>\n",
       "      <td>2.0</td>\n",
       "      <td>2.0</td>\n",
       "      <td>2.0</td>\n",
       "      <td>1</td>\n",
       "      <td>1</td>\n",
       "      <td>1</td>\n",
       "      <td>1</td>\n",
       "      <td>1</td>\n",
       "      <td>1</td>\n",
       "      <td>10</td>\n",
       "      <td>99.0</td>\n",
       "    </tr>\n",
       "    <tr>\n",
       "      <th>438692</th>\n",
       "      <td>3.0</td>\n",
       "      <td>1</td>\n",
       "      <td>1.0</td>\n",
       "      <td>3171.0</td>\n",
       "      <td>4.0</td>\n",
       "      <td>2.0</td>\n",
       "      <td>2.0</td>\n",
       "      <td>2.0</td>\n",
       "      <td>1</td>\n",
       "      <td>2</td>\n",
       "      <td>2</td>\n",
       "      <td>1</td>\n",
       "      <td>1</td>\n",
       "      <td>2</td>\n",
       "      <td>6</td>\n",
       "      <td>2.0</td>\n",
       "    </tr>\n",
       "  </tbody>\n",
       "</table>\n",
       "</div>"
      ],
      "text/plain": [
       "        DIABETE4  _RFHYPE6  TOLDHI3   _BMI5  _BMI5CAT  SMOKE100  CVDSTRK3  \\\n",
       "438688       2.0         2      2.0  2469.0       2.0       1.0       2.0   \n",
       "438689       1.0         2      2.0     NaN       NaN       2.0       2.0   \n",
       "438690       3.0         1      1.0  3068.0       4.0       2.0       2.0   \n",
       "438691       3.0         2      2.0  2373.0       2.0       2.0       2.0   \n",
       "438692       3.0         1      1.0  3171.0       4.0       2.0       2.0   \n",
       "\n",
       "        _MICHD  _TOTINDA  _FRTLT1A  _VEGLT1A  DRNKANY5  _HLTHPLN  _SEX  \\\n",
       "438688     2.0         1         1         1         1         2     2   \n",
       "438689     2.0         2         1         1         2         9     1   \n",
       "438690     2.0         1         1         1         1         1     1   \n",
       "438691     2.0         1         1         1         1         1     1   \n",
       "438692     2.0         1         2         2         1         1     2   \n",
       "\n",
       "        _AGEG5YR  _PRACE1  \n",
       "438688         3     99.0  \n",
       "438689        13      6.0  \n",
       "438690         7      2.0  \n",
       "438691        10     99.0  \n",
       "438692         6      2.0  "
      ]
     },
     "execution_count": 10,
     "metadata": {},
     "output_type": "execute_result"
    }
   ],
   "source": [
    "# View a sample of the selected data frame from the bottom\n",
    "CDC_Diabetes_DataFrame_Selection.tail()"
   ]
  },
  {
   "cell_type": "markdown",
   "id": "8d7f5f18-f7e5-42bc-8f68-d72e6876519b",
   "metadata": {},
   "source": [
    "## STEP 3:  CLEAN THE DATA SET\n",
    "\n",
    "The next step is to clean the data set to facilitate machine learning. This involves the following: \n",
    "\n",
    "* **3a.** Rename columns to make features more readable\n",
    "* **3b.** Inspect the data for missing values and remove all data with missing values\n",
    "* **3c.** Modify and clean the data to be more suitable to machine learning algorithms\n",
    "* **3d.** Inspect results of the data cleaning process"
   ]
  },
  {
   "cell_type": "markdown",
   "id": "dac03f86-09c8-4b87-a5db-98da58c2a773",
   "metadata": {},
   "source": [
    "### 3a:  Rename columns to make feature names from readable"
   ]
  },
  {
   "cell_type": "code",
   "execution_count": 11,
   "id": "7b8d2396-ee3e-4be0-acb0-2d32b19b4e56",
   "metadata": {},
   "outputs": [],
   "source": [
    "#Rename the columns to make them more readable\n",
    "CDC_Diabetes_DataFrame_Selection = CDC_Diabetes_DataFrame_Selection.rename(columns = {\n",
    "    'DIABETE4':'Diabetes', '_RFHYPE6':'HighBloodPressure', 'TOLDHI3':'HighCholesterol', \n",
    "    '_BMI5':'BMI', '_BMI5CAT':'Overweight', 'SMOKE100':'Smoker', 'CVDSTRK3':'Stroke', '_MICHD':'HeartIssues', \n",
    "    '_TOTINDA':'PhysicalActivity','_FRTLT1A':'Fruits', '_VEGLT1A':\"Vegetables\", 'DRNKANY5':'Alcohol', \n",
    "    '_HLTHPLN':'HealthPlan', '_SEX':'Sex', '_AGEG5YR':'Age', '_PRACE1':'Race'})"
   ]
  },
  {
   "cell_type": "code",
   "execution_count": 12,
   "id": "4d9bd20d-53d4-41cc-832d-3a5f2dd66eaa",
   "metadata": {},
   "outputs": [
    {
     "data": {
      "text/html": [
       "<div>\n",
       "<style scoped>\n",
       "    .dataframe tbody tr th:only-of-type {\n",
       "        vertical-align: middle;\n",
       "    }\n",
       "\n",
       "    .dataframe tbody tr th {\n",
       "        vertical-align: top;\n",
       "    }\n",
       "\n",
       "    .dataframe thead th {\n",
       "        text-align: right;\n",
       "    }\n",
       "</style>\n",
       "<table border=\"1\" class=\"dataframe\">\n",
       "  <thead>\n",
       "    <tr style=\"text-align: right;\">\n",
       "      <th></th>\n",
       "      <th>Diabetes</th>\n",
       "      <th>HighBloodPressure</th>\n",
       "      <th>HighCholesterol</th>\n",
       "      <th>BMI</th>\n",
       "      <th>Overweight</th>\n",
       "      <th>Smoker</th>\n",
       "      <th>Stroke</th>\n",
       "      <th>HeartIssues</th>\n",
       "      <th>PhysicalActivity</th>\n",
       "      <th>Fruits</th>\n",
       "      <th>Vegetables</th>\n",
       "      <th>Alcohol</th>\n",
       "      <th>HealthPlan</th>\n",
       "      <th>Sex</th>\n",
       "      <th>Age</th>\n",
       "      <th>Race</th>\n",
       "    </tr>\n",
       "  </thead>\n",
       "  <tbody>\n",
       "    <tr>\n",
       "      <th>0</th>\n",
       "      <td>3.0</td>\n",
       "      <td>1</td>\n",
       "      <td>1.0</td>\n",
       "      <td>1454.0</td>\n",
       "      <td>1.0</td>\n",
       "      <td>1.0</td>\n",
       "      <td>2.0</td>\n",
       "      <td>2.0</td>\n",
       "      <td>2</td>\n",
       "      <td>1</td>\n",
       "      <td>1</td>\n",
       "      <td>2</td>\n",
       "      <td>1</td>\n",
       "      <td>2</td>\n",
       "      <td>11</td>\n",
       "      <td>1.0</td>\n",
       "    </tr>\n",
       "    <tr>\n",
       "      <th>1</th>\n",
       "      <td>1.0</td>\n",
       "      <td>2</td>\n",
       "      <td>1.0</td>\n",
       "      <td>NaN</td>\n",
       "      <td>NaN</td>\n",
       "      <td>2.0</td>\n",
       "      <td>2.0</td>\n",
       "      <td>1.0</td>\n",
       "      <td>1</td>\n",
       "      <td>1</td>\n",
       "      <td>1</td>\n",
       "      <td>2</td>\n",
       "      <td>1</td>\n",
       "      <td>2</td>\n",
       "      <td>10</td>\n",
       "      <td>2.0</td>\n",
       "    </tr>\n",
       "    <tr>\n",
       "      <th>2</th>\n",
       "      <td>1.0</td>\n",
       "      <td>2</td>\n",
       "      <td>2.0</td>\n",
       "      <td>2829.0</td>\n",
       "      <td>3.0</td>\n",
       "      <td>2.0</td>\n",
       "      <td>2.0</td>\n",
       "      <td>1.0</td>\n",
       "      <td>2</td>\n",
       "      <td>1</td>\n",
       "      <td>2</td>\n",
       "      <td>2</td>\n",
       "      <td>1</td>\n",
       "      <td>2</td>\n",
       "      <td>11</td>\n",
       "      <td>2.0</td>\n",
       "    </tr>\n",
       "    <tr>\n",
       "      <th>3</th>\n",
       "      <td>1.0</td>\n",
       "      <td>2</td>\n",
       "      <td>1.0</td>\n",
       "      <td>3347.0</td>\n",
       "      <td>4.0</td>\n",
       "      <td>2.0</td>\n",
       "      <td>2.0</td>\n",
       "      <td>2.0</td>\n",
       "      <td>1</td>\n",
       "      <td>1</td>\n",
       "      <td>1</td>\n",
       "      <td>1</td>\n",
       "      <td>1</td>\n",
       "      <td>2</td>\n",
       "      <td>9</td>\n",
       "      <td>1.0</td>\n",
       "    </tr>\n",
       "    <tr>\n",
       "      <th>4</th>\n",
       "      <td>1.0</td>\n",
       "      <td>1</td>\n",
       "      <td>1.0</td>\n",
       "      <td>2873.0</td>\n",
       "      <td>3.0</td>\n",
       "      <td>2.0</td>\n",
       "      <td>1.0</td>\n",
       "      <td>1.0</td>\n",
       "      <td>1</td>\n",
       "      <td>1</td>\n",
       "      <td>1</td>\n",
       "      <td>2</td>\n",
       "      <td>1</td>\n",
       "      <td>1</td>\n",
       "      <td>12</td>\n",
       "      <td>1.0</td>\n",
       "    </tr>\n",
       "  </tbody>\n",
       "</table>\n",
       "</div>"
      ],
      "text/plain": [
       "   Diabetes  HighBloodPressure  HighCholesterol     BMI  Overweight  Smoker  \\\n",
       "0       3.0                  1              1.0  1454.0         1.0     1.0   \n",
       "1       1.0                  2              1.0     NaN         NaN     2.0   \n",
       "2       1.0                  2              2.0  2829.0         3.0     2.0   \n",
       "3       1.0                  2              1.0  3347.0         4.0     2.0   \n",
       "4       1.0                  1              1.0  2873.0         3.0     2.0   \n",
       "\n",
       "   Stroke  HeartIssues  PhysicalActivity  Fruits  Vegetables  Alcohol  \\\n",
       "0     2.0          2.0                 2       1           1        2   \n",
       "1     2.0          1.0                 1       1           1        2   \n",
       "2     2.0          1.0                 2       1           2        2   \n",
       "3     2.0          2.0                 1       1           1        1   \n",
       "4     1.0          1.0                 1       1           1        2   \n",
       "\n",
       "   HealthPlan  Sex  Age  Race  \n",
       "0           1    2   11   1.0  \n",
       "1           1    2   10   2.0  \n",
       "2           1    2   11   2.0  \n",
       "3           1    2    9   1.0  \n",
       "4           1    1   12   1.0  "
      ]
     },
     "execution_count": 12,
     "metadata": {},
     "output_type": "execute_result"
    }
   ],
   "source": [
    "# View a sample of the selected data frame with the modified column names\n",
    "CDC_Diabetes_DataFrame_Selection.head()"
   ]
  },
  {
   "cell_type": "markdown",
   "id": "d2014b08-f422-48da-84f0-56dba34d5381",
   "metadata": {},
   "source": [
    "### 3b:  Inspect the data for missing values and remove all data with missing values"
   ]
  },
  {
   "cell_type": "code",
   "execution_count": 13,
   "id": "e441fef0-6a66-4802-bc9f-c32e78416dc1",
   "metadata": {},
   "outputs": [
    {
     "data": {
      "text/plain": [
       "Diabetes                 3\n",
       "HighBloodPressure        0\n",
       "HighCholesterol      60836\n",
       "BMI                  46852\n",
       "Overweight           46852\n",
       "Smoker               21232\n",
       "Stroke                   2\n",
       "HeartIssues           4635\n",
       "PhysicalActivity         0\n",
       "Fruits                   0\n",
       "Vegetables               0\n",
       "Alcohol                  0\n",
       "HealthPlan               0\n",
       "Sex                      0\n",
       "Age                      0\n",
       "Race                     4\n",
       "dtype: int64"
      ]
     },
     "execution_count": 13,
     "metadata": {},
     "output_type": "execute_result"
    }
   ],
   "source": [
    "# Review to see if there are any missing values (i.e. Na)\n",
    "CDC_Diabetes_DataFrame_Selection.isna().sum()"
   ]
  },
  {
   "cell_type": "code",
   "execution_count": 14,
   "id": "d49362bc-abc4-4f82-8386-78d579f668a1",
   "metadata": {},
   "outputs": [],
   "source": [
    "# Drop all missing data points\n",
    "CDC_Diabetes_DataFrame_Selection = CDC_Diabetes_DataFrame_Selection.dropna()"
   ]
  },
  {
   "cell_type": "code",
   "execution_count": 15,
   "id": "e0b94f3a-b20b-4267-8cc6-9a0e24493ef3",
   "metadata": {},
   "outputs": [
    {
     "data": {
      "text/plain": [
       "Diabetes             0\n",
       "HighBloodPressure    0\n",
       "HighCholesterol      0\n",
       "BMI                  0\n",
       "Overweight           0\n",
       "Smoker               0\n",
       "Stroke               0\n",
       "HeartIssues          0\n",
       "PhysicalActivity     0\n",
       "Fruits               0\n",
       "Vegetables           0\n",
       "Alcohol              0\n",
       "HealthPlan           0\n",
       "Sex                  0\n",
       "Age                  0\n",
       "Race                 0\n",
       "dtype: int64"
      ]
     },
     "execution_count": 15,
     "metadata": {},
     "output_type": "execute_result"
    }
   ],
   "source": [
    "# Review to ensure rows with missing values (i.e. NaN) are dropped \n",
    "CDC_Diabetes_DataFrame_Selection.isna().sum()"
   ]
  },
  {
   "cell_type": "code",
   "execution_count": 16,
   "id": "950fdb9e-d959-4993-a240-02a04523f235",
   "metadata": {},
   "outputs": [
    {
     "data": {
      "text/plain": [
       "Diabetes             0\n",
       "HighBloodPressure    0\n",
       "HighCholesterol      0\n",
       "BMI                  0\n",
       "Overweight           0\n",
       "Smoker               0\n",
       "Stroke               0\n",
       "HeartIssues          0\n",
       "PhysicalActivity     0\n",
       "Fruits               0\n",
       "Vegetables           0\n",
       "Alcohol              0\n",
       "HealthPlan           0\n",
       "Sex                  0\n",
       "Age                  0\n",
       "Race                 0\n",
       "dtype: int64"
      ]
     },
     "execution_count": 16,
     "metadata": {},
     "output_type": "execute_result"
    }
   ],
   "source": [
    "# Review to ensure rows with missing values (i.e. Null) are dropped \n",
    "CDC_Diabetes_DataFrame_Selection.isnull().sum()"
   ]
  },
  {
   "cell_type": "code",
   "execution_count": 17,
   "id": "7012bcaa-24b9-4828-a258-0aa313fe3039",
   "metadata": {},
   "outputs": [
    {
     "data": {
      "text/plain": [
       "(330365, 16)"
      ]
     },
     "execution_count": 17,
     "metadata": {},
     "output_type": "execute_result"
    }
   ],
   "source": [
    "# View the number of rows and columns in the remaining selected data frame\n",
    "CDC_Diabetes_DataFrame_Selection.shape"
   ]
  },
  {
   "cell_type": "markdown",
   "id": "ec30e4c8-3f46-4765-938f-5c676dd37e90",
   "metadata": {},
   "source": [
    "### 3c:  Modify and clean the data to be more suitable to machine learning algorithms"
   ]
  },
  {
   "cell_type": "markdown",
   "id": "a5e85f9b-fe09-4472-b4ed-f5fddbf51800",
   "metadata": {},
   "source": [
    "Each variable is described in the codebook with the variables and respondent values. In studying each remaining variable in the codebook, I notived the data set includes responses such as \"don't know\" or \"refused\" so our next step is to remove those responses.  If possible, where there are multiple valid responses, the data set is reduced to binary classifications that will allow for machine learning.  \n",
    "\n",
    "Codebook Link:  \n",
    "> https://www.cdc.gov/brfss/annual_data/2021/pdf/codebook21_llcp-v2-508.pdf\n",
    "\n",
    "Clean Each Variable: \n",
    "1. Diabetes\n",
    "2. High Blood Pressure\n",
    "3. High Cholesterol\n",
    "4. BMI\n",
    "5. Overweight\n",
    "6. Smoker\n",
    "7. Stroke\n",
    "8. HeartIssues\n",
    "9. PhysicalActivity\n",
    "10. Fruits\n",
    "11. Vegetables\n",
    "12. Alcohol\n",
    "13. HealthPlan\n",
    "14. Sex\n",
    "15. Age\n",
    "16. Race"
   ]
  },
  {
   "cell_type": "markdown",
   "id": "47e2262d-4a6a-4ede-9087-cf9b3551708a",
   "metadata": {},
   "source": [
    "##### 1. Variable:  Diabetes"
   ]
  },
  {
   "cell_type": "code",
   "execution_count": 18,
   "id": "533e001d-3332-42cd-a60a-c7004bd6ed88",
   "metadata": {},
   "outputs": [
    {
     "data": {
      "text/plain": [
       "array([0., 1.])"
      ]
     },
     "execution_count": 18,
     "metadata": {},
     "output_type": "execute_result"
    }
   ],
   "source": [
    "# This is what the survey will predict using machine learning\n",
    "# DIABETE4 = Diabetes = Have you ever been told you have diabetes?\n",
    "# Respondent values: 1 = Yes; 2 = Yes when pregnant; 3 = No; 4 = No but has pre-diabetes; 7 = Don't know; 9 = Refused \n",
    "# Revised dataset as follows: \n",
    "    # Modified to binary classification: \n",
    "        # 0 = No Diabetes (includes 2 = Yes when pregnant; and 3 = No) \n",
    "        # 1 = Diabetes (includes 1 = Yes; and 4 = No but has pre-diabetes)\n",
    "    # Removed: 7 = Don't know; and 9 = Refused \n",
    "CDC_Diabetes_DataFrame_Selection['Diabetes'] = CDC_Diabetes_DataFrame_Selection['Diabetes'].replace({1:1, 2:0, 3:0, 4:1})\n",
    "CDC_Diabetes_DataFrame_Selection = CDC_Diabetes_DataFrame_Selection[CDC_Diabetes_DataFrame_Selection.Diabetes != 7]\n",
    "CDC_Diabetes_DataFrame_Selection = CDC_Diabetes_DataFrame_Selection[CDC_Diabetes_DataFrame_Selection.Diabetes != 9]\n",
    "\n",
    "#Display all unique values in Diabetes Column (should be only 0s and 1s)\n",
    "CDC_Diabetes_DataFrame_Selection.Diabetes.unique()"
   ]
  },
  {
   "cell_type": "markdown",
   "id": "2bf63946-ac5f-4e94-bcd4-7d078a1b9ff9",
   "metadata": {},
   "source": [
    "##### 2. Variable:  High Blood Pressure"
   ]
  },
  {
   "cell_type": "code",
   "execution_count": 19,
   "id": "96472362-a96e-4793-ac02-74802953ea31",
   "metadata": {},
   "outputs": [
    {
     "data": {
      "text/plain": [
       "array([0, 1], dtype=int64)"
      ]
     },
     "execution_count": 19,
     "metadata": {},
     "output_type": "execute_result"
    }
   ],
   "source": [
    "# _RFHYPE6 = HighBloodPressure = Have you ever been told you have high blood pressure by a doctor, nurse or other health professional?\n",
    "# Respondent values:  1 = No; 2 = Yes; 9 = All others (Don't know, Refused) \n",
    "# Revised dataset as follows: \n",
    "    # Modified to binary classification: \n",
    "        # 0 = No High Blood Pressure (1 = No)  \n",
    "        # 1 = High Blood Pressure (2 = Yes)\n",
    "    # Removed: 9 = All others (Don't know, Refused) \n",
    "CDC_Diabetes_DataFrame_Selection['HighBloodPressure'] = CDC_Diabetes_DataFrame_Selection['HighBloodPressure'].replace({1:0, 2:1})\n",
    "CDC_Diabetes_DataFrame_Selection = CDC_Diabetes_DataFrame_Selection[CDC_Diabetes_DataFrame_Selection.HighBloodPressure != 9]\n",
    "\n",
    "#Display all unique values in HighBloodPressure Column (should be only 0s and 1s)\n",
    "CDC_Diabetes_DataFrame_Selection.HighBloodPressure.unique()"
   ]
  },
  {
   "cell_type": "markdown",
   "id": "4378466a-585e-47b2-9840-5e3be7e94fcf",
   "metadata": {},
   "source": [
    "##### 3. Variable:  High Cholesterol"
   ]
  },
  {
   "cell_type": "code",
   "execution_count": 20,
   "id": "d7f526b4-e21b-483f-ac61-493768d03a99",
   "metadata": {},
   "outputs": [
    {
     "data": {
      "text/plain": [
       "array([1., 0.])"
      ]
     },
     "execution_count": 20,
     "metadata": {},
     "output_type": "execute_result"
    }
   ],
   "source": [
    "# TOLDHI3 = HighCholesterol = Have you ever been told by a doctor, nurse or other health professional that your cholesterol is high? \n",
    "# Respondent values:  1 = Yes; 2 = No; 7 = Don't know; 9 = Refused \n",
    "# Revised dataset as follows: \n",
    "    # Modified to binary classification: \n",
    "        # 0 = No High Cholesterol (2 = No)  \n",
    "        # 1 = High Cholesterol (1 = Yes)\n",
    "    # Removed: 7 = Don't know; 9 = Refused \n",
    "CDC_Diabetes_DataFrame_Selection['HighCholesterol'] = CDC_Diabetes_DataFrame_Selection['HighCholesterol'].replace({1:1, 2:0})\n",
    "CDC_Diabetes_DataFrame_Selection = CDC_Diabetes_DataFrame_Selection[CDC_Diabetes_DataFrame_Selection.HighCholesterol != 7]\n",
    "CDC_Diabetes_DataFrame_Selection = CDC_Diabetes_DataFrame_Selection[CDC_Diabetes_DataFrame_Selection.HighCholesterol != 9]\n",
    "\n",
    "#Display all unique values in HighCholesterol Column (should be only 0s and 1s)\n",
    "CDC_Diabetes_DataFrame_Selection.HighCholesterol.unique()"
   ]
  },
  {
   "cell_type": "markdown",
   "id": "dfae60db-2991-4a03-b941-dcce93566570",
   "metadata": {},
   "source": [
    "##### 4. Variable: BMI"
   ]
  },
  {
   "cell_type": "code",
   "execution_count": 21,
   "id": "cfb50f9e-4370-48f3-8669-903b70466b43",
   "metadata": {},
   "outputs": [
    {
     "data": {
      "text/plain": [
       "array([15., 28., 33., 29., 24., 46., 23., 40., 27., 35., 18., 30., 25.,\n",
       "       36., 22., 31., 45., 26., 14., 38., 21., 32., 20., 19., 34., 41.,\n",
       "       43., 44., 39., 37., 16., 42., 50., 51., 17., 52., 47., 49., 56.,\n",
       "       57., 48., 58., 61., 53., 63., 64., 54., 68., 55., 62., 13., 59.,\n",
       "       89., 66., 77., 60., 87., 69., 72., 75., 67., 71., 65., 82., 86.,\n",
       "       70., 78., 12., 74., 98., 73., 84., 76., 80., 83., 79., 99., 88.,\n",
       "       81., 90., 92., 91., 95., 85., 94.])"
      ]
     },
     "execution_count": 21,
     "metadata": {},
     "output_type": "execute_result"
    }
   ],
   "source": [
    "# _BMI5 = Body mass index =  Note this is computed from height and weight \n",
    "# BMI are * 100\n",
    "CDC_Diabetes_DataFrame_Selection['BMI'] = CDC_Diabetes_DataFrame_Selection['BMI'].div(100).round(0)\n",
    "CDC_Diabetes_DataFrame_Selection.BMI.unique()"
   ]
  },
  {
   "cell_type": "markdown",
   "id": "3f952728-b5c5-4cbc-bf5e-074542321d9b",
   "metadata": {},
   "source": [
    "##### 5. Variable: Overweight "
   ]
  },
  {
   "cell_type": "code",
   "execution_count": 22,
   "id": "c09c4208-7e96-4b28-8d92-2c30848289f5",
   "metadata": {},
   "outputs": [
    {
     "data": {
      "text/plain": [
       "array([0., 1.])"
      ]
     },
     "execution_count": 22,
     "metadata": {},
     "output_type": "execute_result"
    }
   ],
   "source": [
    "# _BMI5CAT = Overweight = Note this is computed from height and weight \n",
    "# Respondent values: 1 = Underweight; 2 = Normal Weight; 3 = Overweight; 4 = Obese\n",
    "# Revised dataset as follows: \n",
    "    # Modified to binary classification: \n",
    "        # 0 = Not Overweight (1 = Underweight; 2 = Normal Weight;)  \n",
    "        # 1 = Overweight (3 = Overweight; 4 = Obese)\n",
    "CDC_Diabetes_DataFrame_Selection['Overweight'] = CDC_Diabetes_DataFrame_Selection['Overweight'].replace({1:0, 2:0, 3:1, 4:1})\n",
    "\n",
    "#Display all unique values in Overweight Column (should be only 0s and 1s)\n",
    "CDC_Diabetes_DataFrame_Selection.Overweight.unique()"
   ]
  },
  {
   "cell_type": "markdown",
   "id": "a1b7f779-2910-4b7a-b377-5eb4136114e5",
   "metadata": {},
   "source": [
    "##### 6. Variable: Smoker"
   ]
  },
  {
   "cell_type": "code",
   "execution_count": 23,
   "id": "b958a466-8bbd-459e-b73f-75681f2fa5f1",
   "metadata": {},
   "outputs": [
    {
     "data": {
      "text/plain": [
       "array([1., 0.])"
      ]
     },
     "execution_count": 23,
     "metadata": {},
     "output_type": "execute_result"
    }
   ],
   "source": [
    "# SMOKE100  = Smoker = Have you smoked at least 100 cigarettes in your entire life? \n",
    "# Respondent values: 1 = Yes; 2 = No; 7 = Don't know; 9 = Refused \n",
    "# Revised dataset as follows: \n",
    "    # Modified to binary classification: \n",
    "        # 0 = Non-smoker (2 = No)  \n",
    "        # 1 = Smoker (1 = Yes)\n",
    "    # Removed: 7 = Don't know; 9 = Refused \n",
    "CDC_Diabetes_DataFrame_Selection['Smoker'] = CDC_Diabetes_DataFrame_Selection['Smoker'].replace({2:0, 1:1})\n",
    "CDC_Diabetes_DataFrame_Selection = CDC_Diabetes_DataFrame_Selection[CDC_Diabetes_DataFrame_Selection.Smoker != 7]\n",
    "CDC_Diabetes_DataFrame_Selection = CDC_Diabetes_DataFrame_Selection[CDC_Diabetes_DataFrame_Selection.Smoker != 9]\n",
    "\n",
    "#Display all unique values in Smoker Column (should be only 0s and 1s)\n",
    "CDC_Diabetes_DataFrame_Selection.Smoker.unique()"
   ]
  },
  {
   "cell_type": "markdown",
   "id": "9f2f9e5e-fa83-47ed-879f-945e779126f3",
   "metadata": {},
   "source": [
    "##### 7. Variable: Stroke"
   ]
  },
  {
   "cell_type": "code",
   "execution_count": 24,
   "id": "8e6f1e7e-c05e-41d9-85ec-a9a0e1d27d36",
   "metadata": {},
   "outputs": [
    {
     "data": {
      "text/plain": [
       "array([0., 1.])"
      ]
     },
     "execution_count": 24,
     "metadata": {},
     "output_type": "execute_result"
    }
   ],
   "source": [
    "# CVDSTRK3 = Stroke = Have you ever been told you had a stroke?\n",
    "# Respondent values: 1 = Yes; 2 = No; 7 = Don't know; 9 = Refused \n",
    "# Revised dataset as follows: \n",
    "    # Modified to binary classification: \n",
    "        # 0 = No Stroke (2 = No)  \n",
    "        # 1 = Stroke (1 = Yes)\n",
    "    # Removed: 7 = Don't know; 9 = Refused \n",
    "CDC_Diabetes_DataFrame_Selection['Stroke'] = CDC_Diabetes_DataFrame_Selection['Stroke'].replace({2:0, 1:1})\n",
    "CDC_Diabetes_DataFrame_Selection = CDC_Diabetes_DataFrame_Selection[CDC_Diabetes_DataFrame_Selection.Stroke != 7]\n",
    "CDC_Diabetes_DataFrame_Selection = CDC_Diabetes_DataFrame_Selection[CDC_Diabetes_DataFrame_Selection.Stroke != 9]\n",
    "\n",
    "#Display all unique values in Stroke Column (should be only 0s and 1s)\n",
    "CDC_Diabetes_DataFrame_Selection.Stroke.unique()"
   ]
  },
  {
   "cell_type": "markdown",
   "id": "94ac2780-bfd0-4736-bde8-6ba261fa9d54",
   "metadata": {},
   "source": [
    "##### 8. Variable: Heart Issues"
   ]
  },
  {
   "cell_type": "code",
   "execution_count": 25,
   "id": "db31f22f-a8c7-4c0f-a042-78f95453048d",
   "metadata": {},
   "outputs": [
    {
     "data": {
      "text/plain": [
       "array([0., 1.])"
      ]
     },
     "execution_count": 25,
     "metadata": {},
     "output_type": "execute_result"
    }
   ],
   "source": [
    "# _MICHD = HeartIssues = Have you ever been told you have coronary heart disease (CHD) or myocardial infarction (MI)?\n",
    "# Respondent values: 1 = Yes; 2 = No; 7 = Don't know; 9 = Refused \n",
    "# Revised dataset as follows: \n",
    "    # Modified to binary classification: \n",
    "        # 0 = No Heart Issues (2 = No)  \n",
    "        # 1 = Heart Issues (1 = Yes)\n",
    "    # Removed: 7 = Don't know; 9 = Refused \n",
    "CDC_Diabetes_DataFrame_Selection['HeartIssues'] = CDC_Diabetes_DataFrame_Selection['HeartIssues'].replace({2:0, 1:1})\n",
    "CDC_Diabetes_DataFrame_Selection = CDC_Diabetes_DataFrame_Selection[CDC_Diabetes_DataFrame_Selection.HeartIssues != 7]\n",
    "CDC_Diabetes_DataFrame_Selection = CDC_Diabetes_DataFrame_Selection[CDC_Diabetes_DataFrame_Selection.HeartIssues != 9]\n",
    "\n",
    "#Display all unique values in HeartIssues Column (should be only 0s and 1s)\n",
    "CDC_Diabetes_DataFrame_Selection.HeartIssues.unique()"
   ]
  },
  {
   "cell_type": "markdown",
   "id": "c7fb3f33-a535-422f-a1de-7f1473451213",
   "metadata": {},
   "source": [
    "##### 9. Variable: Physical Activity"
   ]
  },
  {
   "cell_type": "code",
   "execution_count": 26,
   "id": "46ef2346-610b-4b9a-8673-6abc99478583",
   "metadata": {},
   "outputs": [
    {
     "data": {
      "text/plain": [
       "array([0, 1], dtype=int64)"
      ]
     },
     "execution_count": 26,
     "metadata": {},
     "output_type": "execute_result"
    }
   ],
   "source": [
    "# _TOTINDA = PhysicalActivity = Have you done any physical activity or exercised during the past 30 days other than for work?\n",
    "# Respondent values: 1 = Yes; 2 = No; 9 = All Others (Don't Know, Refused) \n",
    "# Revised dataset as follows: \n",
    "    # Modified to binary classification: \n",
    "        # 0 = No Physical Activity (2 = No)  \n",
    "        # 1 = Physical Activity (1 = Yes)\n",
    "    # Removed: 9 = All Others (Don't Know, Refused) \n",
    "CDC_Diabetes_DataFrame_Selection['PhysicalActivity'] = CDC_Diabetes_DataFrame_Selection['PhysicalActivity'].replace({2:0, 1:1})\n",
    "CDC_Diabetes_DataFrame_Selection = CDC_Diabetes_DataFrame_Selection[CDC_Diabetes_DataFrame_Selection.PhysicalActivity != 9]\n",
    "\n",
    "#Display all unique values in Physical Activity Column (should be only 0s and 1s)\n",
    "CDC_Diabetes_DataFrame_Selection.PhysicalActivity.unique()"
   ]
  },
  {
   "cell_type": "markdown",
   "id": "d270baf5-74b6-4ac9-9ab1-fa72d231b065",
   "metadata": {},
   "source": [
    "##### 10. Variable: Fruits"
   ]
  },
  {
   "cell_type": "code",
   "execution_count": 27,
   "id": "c418bfcb-b228-4820-abb7-2496aaa24eaa",
   "metadata": {},
   "outputs": [
    {
     "data": {
      "text/plain": [
       "array([1, 0], dtype=int64)"
      ]
     },
     "execution_count": 27,
     "metadata": {},
     "output_type": "execute_result"
    }
   ],
   "source": [
    "# _FRTLT1A = Fruits = Do you eat fruits 1 or more times a day? \n",
    "# Respondent values: 1 = Yes; 2 = No; 9 = All Others (Don't Know, Refused) \n",
    "# Revised dataset as follows: \n",
    "    # Modified to binary classification: \n",
    "        # 0 = Does Not Consume Fruits (2 = No)  \n",
    "        # 1 = Consumes Fruits (1 = Yes)\n",
    "    # Removed: 9 = All Others (Don't Know, Refused) \n",
    "CDC_Diabetes_DataFrame_Selection['Fruits'] = CDC_Diabetes_DataFrame_Selection['Fruits'].replace({2:0, 1:1})\n",
    "CDC_Diabetes_DataFrame_Selection = CDC_Diabetes_DataFrame_Selection[CDC_Diabetes_DataFrame_Selection.Fruits != 9]\n",
    "\n",
    "#Display all unique values in Fruits Column (should be only 0s and 1s)\n",
    "CDC_Diabetes_DataFrame_Selection.Fruits.unique()"
   ]
  },
  {
   "cell_type": "markdown",
   "id": "6af7c40a-ad62-46e9-97f8-224a55300964",
   "metadata": {},
   "source": [
    "##### 11. Variable: Vegetables"
   ]
  },
  {
   "cell_type": "code",
   "execution_count": 28,
   "id": "cc7fc408-729d-4115-bb61-fa7023eb65a7",
   "metadata": {},
   "outputs": [
    {
     "data": {
      "text/plain": [
       "array([1, 0], dtype=int64)"
      ]
     },
     "execution_count": 28,
     "metadata": {},
     "output_type": "execute_result"
    }
   ],
   "source": [
    "# _VEGLT1A = Vegetables = Do you eat vegetables 1 or more times a day? \n",
    "# Respondent values: 1 = Yes; 2 = No; 9 = All Others (Don't Know, Refused) \n",
    "# Revised dataset as follows: \n",
    "    # Modified to binary classification: \n",
    "        # 0 = Does Not Consume Vegetables (2 = No)  \n",
    "        # 1 = Consumes Vegetables (1 = Yes)\n",
    "    # Removed: 9 = All Others (Don't Know, Refused) \n",
    "CDC_Diabetes_DataFrame_Selection['Vegetables'] = CDC_Diabetes_DataFrame_Selection['Vegetables'].replace({2:0, 1:1})\n",
    "CDC_Diabetes_DataFrame_Selection = CDC_Diabetes_DataFrame_Selection[CDC_Diabetes_DataFrame_Selection.Vegetables != 9]\n",
    "\n",
    "#Display all unique values in Vegetables Column (should be only 0s and 1s)\n",
    "CDC_Diabetes_DataFrame_Selection.Vegetables.unique()"
   ]
  },
  {
   "cell_type": "markdown",
   "id": "c66bcc7a-90c6-4243-84d2-6ce36e040b72",
   "metadata": {},
   "source": [
    "##### 12. Variable: Alcohol"
   ]
  },
  {
   "cell_type": "code",
   "execution_count": 29,
   "id": "262b52a9-273d-4d55-8400-5fa09d01b512",
   "metadata": {},
   "outputs": [
    {
     "data": {
      "text/plain": [
       "array([0, 1], dtype=int64)"
      ]
     },
     "execution_count": 29,
     "metadata": {},
     "output_type": "execute_result"
    }
   ],
   "source": [
    "# DRNKANY5 = Alcohol = Have you had alcohol in the past 30 days?  \n",
    "# Respondent values: 1 = Yes; 2 = No; 7 = Don't know; 9 = Refused \n",
    "# Revised dataset as follows: \n",
    "    # Modified to binary classification: \n",
    "        # 0 = Does Not Consume Alcohol (2 = No)  \n",
    "        # 1 = Consumes Alcohol (1 = Yes)\n",
    "    # Removed: 7 = Don't know; 9 = Refused \n",
    "CDC_Diabetes_DataFrame_Selection['Alcohol'] = CDC_Diabetes_DataFrame_Selection['Alcohol'].replace({2:0, 1:1})\n",
    "CDC_Diabetes_DataFrame_Selection = CDC_Diabetes_DataFrame_Selection[CDC_Diabetes_DataFrame_Selection.Alcohol != 7]\n",
    "CDC_Diabetes_DataFrame_Selection = CDC_Diabetes_DataFrame_Selection[CDC_Diabetes_DataFrame_Selection.Alcohol != 9]\n",
    "\n",
    "#Display all unique values in Alcohol Column (should be only 0s and 1s)\n",
    "CDC_Diabetes_DataFrame_Selection.Alcohol.unique()"
   ]
  },
  {
   "cell_type": "markdown",
   "id": "7dd5089c-9e9b-40a6-8047-2726f019ffb7",
   "metadata": {},
   "source": [
    "##### 13. Variable: Health Plan"
   ]
  },
  {
   "cell_type": "code",
   "execution_count": 30,
   "id": "51549795-6b55-47fb-814d-c4a9e4c2e579",
   "metadata": {},
   "outputs": [
    {
     "data": {
      "text/plain": [
       "array([1, 0], dtype=int64)"
      ]
     },
     "execution_count": 30,
     "metadata": {},
     "output_type": "execute_result"
    }
   ],
   "source": [
    "# _HLTHPLN = HealthPlan = Do you have health insurance? \n",
    "# Respondent values: 1 = Yes; 2 = No; 9 = All Others (Don't Know, Refused) \n",
    "# Revised dataset as follows: \n",
    "    # Modified to binary classification: \n",
    "        # 0 = No Health Plan (2 = No)  \n",
    "        # 1 = Has a Health Plan (1 = Yes)\n",
    "    # Removed: 9 = All Others (Don't Know, Refused) \n",
    "CDC_Diabetes_DataFrame_Selection['HealthPlan'] = CDC_Diabetes_DataFrame_Selection['HealthPlan'].replace({2:0, 1:1})\n",
    "CDC_Diabetes_DataFrame_Selection = CDC_Diabetes_DataFrame_Selection[CDC_Diabetes_DataFrame_Selection.HealthPlan != 9]\n",
    "\n",
    "#Display all unique values in HealthPlan Column (should be only 0s and 1s)\n",
    "CDC_Diabetes_DataFrame_Selection.HealthPlan.unique()"
   ]
  },
  {
   "cell_type": "markdown",
   "id": "39332fb4-83e6-4460-b9a2-3ee1c3349dfe",
   "metadata": {},
   "source": [
    "##### 14. Variable: Sex"
   ]
  },
  {
   "cell_type": "code",
   "execution_count": 31,
   "id": "844cc602-a550-4963-be8b-815de808b54c",
   "metadata": {},
   "outputs": [
    {
     "data": {
      "text/plain": [
       "array([0, 1], dtype=int64)"
      ]
     },
     "execution_count": 31,
     "metadata": {},
     "output_type": "execute_result"
    }
   ],
   "source": [
    "# _SEX = Sex = Are you male or female? \n",
    "# Respondent values: 1 = Male; 2 = Female\n",
    "# Revised dataset as follows: \n",
    "    # Modified to binary classification: \n",
    "        # 0 = Female (2 = Female)  \n",
    "        # 1 = Male (1 = Male)\n",
    "CDC_Diabetes_DataFrame_Selection['Sex'] = CDC_Diabetes_DataFrame_Selection['Sex'].replace({2:0})\n",
    "\n",
    "#Display all unique values in Sex Column (should be only 0s and 1s)\n",
    "CDC_Diabetes_DataFrame_Selection.Sex.unique()"
   ]
  },
  {
   "cell_type": "markdown",
   "id": "949408bb-106c-41f2-90de-e217de7a799d",
   "metadata": {},
   "source": [
    "##### 15. Variable: Age"
   ]
  },
  {
   "cell_type": "code",
   "execution_count": 32,
   "id": "274d7dac-d8e4-4595-979f-74f44cc3fdc9",
   "metadata": {},
   "outputs": [
    {
     "data": {
      "text/plain": [
       "array([11,  9, 12, 13, 10,  7,  6,  8,  4,  3,  5,  2,  1], dtype=int64)"
      ]
     },
     "execution_count": 32,
     "metadata": {},
     "output_type": "execute_result"
    }
   ],
   "source": [
    "# _AGEG5YR = Age = How old are you?  \n",
    "# Respondent values: 1-13 = Age is reported in 5 year increments; 14 = Don't know, refused, missing\n",
    "# Revised dataset as follows:\n",
    "    # Removed: 14 = Don't know, refused, missing\n",
    "CDC_Diabetes_DataFrame_Selection = CDC_Diabetes_DataFrame_Selection[CDC_Diabetes_DataFrame_Selection.Age != 14]\n",
    "\n",
    "#Display all unique values in Age Column (should be only 1-13)\n",
    "CDC_Diabetes_DataFrame_Selection.Age.unique()"
   ]
  },
  {
   "cell_type": "markdown",
   "id": "a1d08281-9c1d-4052-b238-f79f40ddf886",
   "metadata": {},
   "source": [
    "##### 16. Variable: Race"
   ]
  },
  {
   "cell_type": "code",
   "execution_count": 33,
   "id": "038bd2a2-862e-4e77-ba39-587bd3f5a276",
   "metadata": {},
   "outputs": [
    {
     "data": {
      "text/plain": [
       "array([1., 2., 0., 3., 4., 5.])"
      ]
     },
     "execution_count": 33,
     "metadata": {},
     "output_type": "execute_result"
    }
   ],
   "source": [
    "# _PRACE1 = PreferredRace = What is your preferred Race category?\n",
    "# Respondent values: \n",
    "# 1-5 = Single Race denomination; 6 = Other Race; 7 = No Preferred race; 8 = Multiracial but not answered; 77 = Don't know; 99 = Refused \n",
    "# Revised dataset as follows:\n",
    "    # Modified to classifications as follows:\n",
    "        # 0 = Race not used as a factor for the following:\n",
    "            # 6 = Other Race; 7 = No Preferred race; 8 = Multiracial but not answered; 77 = Don't know; 99 = Refused\n",
    "CDC_Diabetes_DataFrame_Selection['Race'] = CDC_Diabetes_DataFrame_Selection['Race'].replace({6:0, 7:0, 8:0, 77:0, 99:0})\n",
    "\n",
    "#Display all unique values in RaceColumn (should be only 0-5)\n",
    "CDC_Diabetes_DataFrame_Selection.Race.unique()"
   ]
  },
  {
   "cell_type": "markdown",
   "id": "43cb3d7e-2093-4502-b409-5d53275e3a67",
   "metadata": {},
   "source": [
    "### 3d. Inspect results of the data cleaning process"
   ]
  },
  {
   "cell_type": "code",
   "execution_count": 34,
   "id": "70b1cd97-675d-4011-9c09-3fb0dc745ff5",
   "metadata": {},
   "outputs": [
    {
     "data": {
      "text/plain": [
       "(281928, 16)"
      ]
     },
     "execution_count": 34,
     "metadata": {},
     "output_type": "execute_result"
    }
   ],
   "source": [
    "# Determine how many rows and columns are remaining\n",
    "CDC_Diabetes_DataFrame_Selection.shape"
   ]
  },
  {
   "cell_type": "code",
   "execution_count": 35,
   "id": "e870e881-f853-41c6-a0c3-d08623922f01",
   "metadata": {},
   "outputs": [
    {
     "data": {
      "text/plain": [
       "Diabetes\n",
       "0.0    234606\n",
       "1.0     47322\n",
       "dtype: int64"
      ]
     },
     "execution_count": 35,
     "metadata": {},
     "output_type": "execute_result"
    }
   ],
   "source": [
    "# Check that the above resulted in a balanced set of data. The number of diabetes data points should equal the number of non-diabetes data points.  \n",
    "CDC_Diabetes_DataFrame_Selection.groupby(['Diabetes']).size()"
   ]
  },
  {
   "cell_type": "code",
   "execution_count": 36,
   "id": "903c67b8-2032-4a77-b11d-c993846c3cf8",
   "metadata": {},
   "outputs": [
    {
     "name": "stdout",
     "output_type": "stream",
     "text": [
      "<class 'pandas.core.frame.DataFrame'>\n",
      "Index: 281928 entries, 0 to 438692\n",
      "Data columns (total 16 columns):\n",
      " #   Column             Non-Null Count   Dtype  \n",
      "---  ------             --------------   -----  \n",
      " 0   Diabetes           281928 non-null  float64\n",
      " 1   HighBloodPressure  281928 non-null  int64  \n",
      " 2   HighCholesterol    281928 non-null  float64\n",
      " 3   BMI                281928 non-null  float64\n",
      " 4   Overweight         281928 non-null  float64\n",
      " 5   Smoker             281928 non-null  float64\n",
      " 6   Stroke             281928 non-null  float64\n",
      " 7   HeartIssues        281928 non-null  float64\n",
      " 8   PhysicalActivity   281928 non-null  int64  \n",
      " 9   Fruits             281928 non-null  int64  \n",
      " 10  Vegetables         281928 non-null  int64  \n",
      " 11  Alcohol            281928 non-null  int64  \n",
      " 12  HealthPlan         281928 non-null  int64  \n",
      " 13  Sex                281928 non-null  int64  \n",
      " 14  Age                281928 non-null  int64  \n",
      " 15  Race               281928 non-null  float64\n",
      "dtypes: float64(8), int64(8)\n",
      "memory usage: 36.6 MB\n"
     ]
    }
   ],
   "source": [
    "# View the variable types of remaining columns\n",
    "CDC_Diabetes_DataFrame_Selection.info()"
   ]
  },
  {
   "cell_type": "code",
   "execution_count": 37,
   "id": "055b30fa-c39d-4127-8b1e-c8179566cd0b",
   "metadata": {},
   "outputs": [
    {
     "data": {
      "text/html": [
       "<div>\n",
       "<style scoped>\n",
       "    .dataframe tbody tr th:only-of-type {\n",
       "        vertical-align: middle;\n",
       "    }\n",
       "\n",
       "    .dataframe tbody tr th {\n",
       "        vertical-align: top;\n",
       "    }\n",
       "\n",
       "    .dataframe thead th {\n",
       "        text-align: right;\n",
       "    }\n",
       "</style>\n",
       "<table border=\"1\" class=\"dataframe\">\n",
       "  <thead>\n",
       "    <tr style=\"text-align: right;\">\n",
       "      <th></th>\n",
       "      <th>Diabetes</th>\n",
       "      <th>HighBloodPressure</th>\n",
       "      <th>HighCholesterol</th>\n",
       "      <th>BMI</th>\n",
       "      <th>Overweight</th>\n",
       "      <th>Smoker</th>\n",
       "      <th>Stroke</th>\n",
       "      <th>HeartIssues</th>\n",
       "      <th>PhysicalActivity</th>\n",
       "      <th>Fruits</th>\n",
       "      <th>Vegetables</th>\n",
       "      <th>Alcohol</th>\n",
       "      <th>HealthPlan</th>\n",
       "      <th>Sex</th>\n",
       "      <th>Age</th>\n",
       "      <th>Race</th>\n",
       "    </tr>\n",
       "  </thead>\n",
       "  <tbody>\n",
       "    <tr>\n",
       "      <th>count</th>\n",
       "      <td>281928.000000</td>\n",
       "      <td>281928.000000</td>\n",
       "      <td>281928.000000</td>\n",
       "      <td>281928.000000</td>\n",
       "      <td>281928.000000</td>\n",
       "      <td>281928.000000</td>\n",
       "      <td>281928.000000</td>\n",
       "      <td>281928.000000</td>\n",
       "      <td>281928.000000</td>\n",
       "      <td>281928.000000</td>\n",
       "      <td>281928.000000</td>\n",
       "      <td>281928.000000</td>\n",
       "      <td>281928.000000</td>\n",
       "      <td>281928.000000</td>\n",
       "      <td>281928.00000</td>\n",
       "      <td>281928.000000</td>\n",
       "    </tr>\n",
       "    <tr>\n",
       "      <th>mean</th>\n",
       "      <td>0.167851</td>\n",
       "      <td>0.424328</td>\n",
       "      <td>0.405731</td>\n",
       "      <td>28.825963</td>\n",
       "      <td>0.710501</td>\n",
       "      <td>0.410860</td>\n",
       "      <td>0.040674</td>\n",
       "      <td>0.089558</td>\n",
       "      <td>0.772541</td>\n",
       "      <td>0.624078</td>\n",
       "      <td>0.825094</td>\n",
       "      <td>0.537985</td>\n",
       "      <td>0.961749</td>\n",
       "      <td>0.468414</td>\n",
       "      <td>8.00586</td>\n",
       "      <td>1.175428</td>\n",
       "    </tr>\n",
       "    <tr>\n",
       "      <th>std</th>\n",
       "      <td>0.373735</td>\n",
       "      <td>0.494241</td>\n",
       "      <td>0.491034</td>\n",
       "      <td>6.540397</td>\n",
       "      <td>0.453531</td>\n",
       "      <td>0.491991</td>\n",
       "      <td>0.197533</td>\n",
       "      <td>0.285548</td>\n",
       "      <td>0.419192</td>\n",
       "      <td>0.484361</td>\n",
       "      <td>0.379888</td>\n",
       "      <td>0.498556</td>\n",
       "      <td>0.191802</td>\n",
       "      <td>0.499002</td>\n",
       "      <td>3.28095</td>\n",
       "      <td>0.725855</td>\n",
       "    </tr>\n",
       "    <tr>\n",
       "      <th>min</th>\n",
       "      <td>0.000000</td>\n",
       "      <td>0.000000</td>\n",
       "      <td>0.000000</td>\n",
       "      <td>12.000000</td>\n",
       "      <td>0.000000</td>\n",
       "      <td>0.000000</td>\n",
       "      <td>0.000000</td>\n",
       "      <td>0.000000</td>\n",
       "      <td>0.000000</td>\n",
       "      <td>0.000000</td>\n",
       "      <td>0.000000</td>\n",
       "      <td>0.000000</td>\n",
       "      <td>0.000000</td>\n",
       "      <td>0.000000</td>\n",
       "      <td>1.00000</td>\n",
       "      <td>0.000000</td>\n",
       "    </tr>\n",
       "    <tr>\n",
       "      <th>25%</th>\n",
       "      <td>0.000000</td>\n",
       "      <td>0.000000</td>\n",
       "      <td>0.000000</td>\n",
       "      <td>24.000000</td>\n",
       "      <td>0.000000</td>\n",
       "      <td>0.000000</td>\n",
       "      <td>0.000000</td>\n",
       "      <td>0.000000</td>\n",
       "      <td>1.000000</td>\n",
       "      <td>0.000000</td>\n",
       "      <td>1.000000</td>\n",
       "      <td>0.000000</td>\n",
       "      <td>1.000000</td>\n",
       "      <td>0.000000</td>\n",
       "      <td>6.00000</td>\n",
       "      <td>1.000000</td>\n",
       "    </tr>\n",
       "    <tr>\n",
       "      <th>50%</th>\n",
       "      <td>0.000000</td>\n",
       "      <td>0.000000</td>\n",
       "      <td>0.000000</td>\n",
       "      <td>28.000000</td>\n",
       "      <td>1.000000</td>\n",
       "      <td>0.000000</td>\n",
       "      <td>0.000000</td>\n",
       "      <td>0.000000</td>\n",
       "      <td>1.000000</td>\n",
       "      <td>1.000000</td>\n",
       "      <td>1.000000</td>\n",
       "      <td>1.000000</td>\n",
       "      <td>1.000000</td>\n",
       "      <td>0.000000</td>\n",
       "      <td>8.00000</td>\n",
       "      <td>1.000000</td>\n",
       "    </tr>\n",
       "    <tr>\n",
       "      <th>75%</th>\n",
       "      <td>0.000000</td>\n",
       "      <td>1.000000</td>\n",
       "      <td>1.000000</td>\n",
       "      <td>32.000000</td>\n",
       "      <td>1.000000</td>\n",
       "      <td>1.000000</td>\n",
       "      <td>0.000000</td>\n",
       "      <td>0.000000</td>\n",
       "      <td>1.000000</td>\n",
       "      <td>1.000000</td>\n",
       "      <td>1.000000</td>\n",
       "      <td>1.000000</td>\n",
       "      <td>1.000000</td>\n",
       "      <td>1.000000</td>\n",
       "      <td>11.00000</td>\n",
       "      <td>1.000000</td>\n",
       "    </tr>\n",
       "    <tr>\n",
       "      <th>max</th>\n",
       "      <td>1.000000</td>\n",
       "      <td>1.000000</td>\n",
       "      <td>1.000000</td>\n",
       "      <td>99.000000</td>\n",
       "      <td>1.000000</td>\n",
       "      <td>1.000000</td>\n",
       "      <td>1.000000</td>\n",
       "      <td>1.000000</td>\n",
       "      <td>1.000000</td>\n",
       "      <td>1.000000</td>\n",
       "      <td>1.000000</td>\n",
       "      <td>1.000000</td>\n",
       "      <td>1.000000</td>\n",
       "      <td>1.000000</td>\n",
       "      <td>13.00000</td>\n",
       "      <td>5.000000</td>\n",
       "    </tr>\n",
       "  </tbody>\n",
       "</table>\n",
       "</div>"
      ],
      "text/plain": [
       "            Diabetes  HighBloodPressure  HighCholesterol            BMI  \\\n",
       "count  281928.000000      281928.000000    281928.000000  281928.000000   \n",
       "mean        0.167851           0.424328         0.405731      28.825963   \n",
       "std         0.373735           0.494241         0.491034       6.540397   \n",
       "min         0.000000           0.000000         0.000000      12.000000   \n",
       "25%         0.000000           0.000000         0.000000      24.000000   \n",
       "50%         0.000000           0.000000         0.000000      28.000000   \n",
       "75%         0.000000           1.000000         1.000000      32.000000   \n",
       "max         1.000000           1.000000         1.000000      99.000000   \n",
       "\n",
       "          Overweight         Smoker         Stroke    HeartIssues  \\\n",
       "count  281928.000000  281928.000000  281928.000000  281928.000000   \n",
       "mean        0.710501       0.410860       0.040674       0.089558   \n",
       "std         0.453531       0.491991       0.197533       0.285548   \n",
       "min         0.000000       0.000000       0.000000       0.000000   \n",
       "25%         0.000000       0.000000       0.000000       0.000000   \n",
       "50%         1.000000       0.000000       0.000000       0.000000   \n",
       "75%         1.000000       1.000000       0.000000       0.000000   \n",
       "max         1.000000       1.000000       1.000000       1.000000   \n",
       "\n",
       "       PhysicalActivity         Fruits     Vegetables        Alcohol  \\\n",
       "count     281928.000000  281928.000000  281928.000000  281928.000000   \n",
       "mean           0.772541       0.624078       0.825094       0.537985   \n",
       "std            0.419192       0.484361       0.379888       0.498556   \n",
       "min            0.000000       0.000000       0.000000       0.000000   \n",
       "25%            1.000000       0.000000       1.000000       0.000000   \n",
       "50%            1.000000       1.000000       1.000000       1.000000   \n",
       "75%            1.000000       1.000000       1.000000       1.000000   \n",
       "max            1.000000       1.000000       1.000000       1.000000   \n",
       "\n",
       "          HealthPlan            Sex           Age           Race  \n",
       "count  281928.000000  281928.000000  281928.00000  281928.000000  \n",
       "mean        0.961749       0.468414       8.00586       1.175428  \n",
       "std         0.191802       0.499002       3.28095       0.725855  \n",
       "min         0.000000       0.000000       1.00000       0.000000  \n",
       "25%         1.000000       0.000000       6.00000       1.000000  \n",
       "50%         1.000000       0.000000       8.00000       1.000000  \n",
       "75%         1.000000       1.000000      11.00000       1.000000  \n",
       "max         1.000000       1.000000      13.00000       5.000000  "
      ]
     },
     "execution_count": 37,
     "metadata": {},
     "output_type": "execute_result"
    }
   ],
   "source": [
    "# Get the description of the data set remaining\n",
    "CDC_Diabetes_DataFrame_Selection.describe()"
   ]
  },
  {
   "cell_type": "markdown",
   "id": "d643ba2b-4c66-4d1b-9bf1-d951a982fb47",
   "metadata": {},
   "source": []
  },
  {
   "cell_type": "markdown",
   "id": "3b8b0488-12c8-4342-8aff-a5c74dae05e9",
   "metadata": {},
   "source": [
    "## STEP 4: VISUALIZE THE DATA SET\n",
    "\n",
    "The next step is to visualize the cleaned data set. We will do so as follows: \n",
    "* **4a.** Compare Diabetes frequency to Being Overweight \n",
    "* **4b.** View the distribution of the age column with a histogram in the data set\n",
    "* **4c.** View the distribution of the race in the dataset\n",
    "* **4d.** View the correlation matrix "
   ]
  },
  {
   "cell_type": "markdown",
   "id": "0df0f339-3aaf-47ef-a9ba-76db3c2fc01a",
   "metadata": {},
   "source": [
    "### 4a. Compare Diabetes frequency to Being Overweight "
   ]
  },
  {
   "cell_type": "code",
   "execution_count": 38,
   "id": "8319d20d-d1b3-43dd-9597-b7b45610dffe",
   "metadata": {},
   "outputs": [
    {
     "data": {
      "text/html": [
       "<div>\n",
       "<style scoped>\n",
       "    .dataframe tbody tr th:only-of-type {\n",
       "        vertical-align: middle;\n",
       "    }\n",
       "\n",
       "    .dataframe tbody tr th {\n",
       "        vertical-align: top;\n",
       "    }\n",
       "\n",
       "    .dataframe thead th {\n",
       "        text-align: right;\n",
       "    }\n",
       "</style>\n",
       "<table border=\"1\" class=\"dataframe\">\n",
       "  <thead>\n",
       "    <tr style=\"text-align: right;\">\n",
       "      <th>Overweight</th>\n",
       "      <th>0.0</th>\n",
       "      <th>1.0</th>\n",
       "    </tr>\n",
       "    <tr>\n",
       "      <th>Diabetes</th>\n",
       "      <th></th>\n",
       "      <th></th>\n",
       "    </tr>\n",
       "  </thead>\n",
       "  <tbody>\n",
       "    <tr>\n",
       "      <th>0.0</th>\n",
       "      <td>74956</td>\n",
       "      <td>159650</td>\n",
       "    </tr>\n",
       "    <tr>\n",
       "      <th>1.0</th>\n",
       "      <td>6662</td>\n",
       "      <td>40660</td>\n",
       "    </tr>\n",
       "  </tbody>\n",
       "</table>\n",
       "</div>"
      ],
      "text/plain": [
       "Overweight    0.0     1.0\n",
       "Diabetes                 \n",
       "0.0         74956  159650\n",
       "1.0          6662   40660"
      ]
     },
     "execution_count": 38,
     "metadata": {},
     "output_type": "execute_result"
    }
   ],
   "source": [
    "# Compare target column with sex column\n",
    "pd.crosstab(CDC_Diabetes_DataFrame_Selection.Diabetes, CDC_Diabetes_DataFrame_Selection.Overweight)"
   ]
  },
  {
   "cell_type": "code",
   "execution_count": 39,
   "id": "5f93df70-a328-4dbc-b302-04b342a96890",
   "metadata": {},
   "outputs": [
    {
     "data": {
      "image/png": "[encoded data removed]",
      "text/plain": [
       "<Figure size 1000x600 with 1 Axes>"
      ]
     },
     "metadata": {},
     "output_type": "display_data"
    }
   ],
   "source": [
    "# Create a plot of crosstab\n",
    "pd.crosstab(CDC_Diabetes_DataFrame_Selection.Diabetes, \n",
    "            CDC_Diabetes_DataFrame_Selection.Overweight).plot(kind = \"bar\",\n",
    "                                                             figsize=(10, 6),\n",
    "                                                             color=[\"lightgreen\",\"salmon\"])\n",
    "plt.title(\"Diabetes versus Being Overweight\")\n",
    "plt.xlabel(\"0.0 = No Diabetes, 1.0 = Diabetes\")\n",
    "plt.ylabel(\"Number\")\n",
    "plt.legend([\"Not Overweight\", \"Overweight\"]);\n",
    "plt.xticks(rotation=0);"
   ]
  },
  {
   "cell_type": "markdown",
   "id": "c18ba2fe-010c-4c3a-a2c3-3c386b0b19ab",
   "metadata": {},
   "source": [
    "**COMMENT**\n",
    "\n",
    "> Note the imbalance of data with no diabetes versus diabetes"
   ]
  },
  {
   "cell_type": "markdown",
   "id": "56a26279-3c99-49ee-9c57-ab765096cb01",
   "metadata": {},
   "source": [
    "### 4b. View the distribution of the age column with a histogram in the data set"
   ]
  },
  {
   "cell_type": "code",
   "execution_count": 40,
   "id": "b40f74a3-bfea-497d-bc23-0b8875499a14",
   "metadata": {},
   "outputs": [
    {
     "data": {
      "image/png": "[encoded data removed]",
      "text/plain": [
       "<Figure size 640x480 with 1 Axes>"
      ]
     },
     "metadata": {},
     "output_type": "display_data"
    }
   ],
   "source": [
    "CDC_Diabetes_DataFrame_Selection.Age.plot.hist()\n",
    "labels= ['18', '25', '30', '35', '40', '45', '50', '55', '60', '65', '70', '75', '80']\n",
    "plt.xticks(np.arange(13), labels);"
   ]
  },
  {
   "cell_type": "markdown",
   "id": "59ceb0fb-5f2d-4426-ba18-b0af58ec0a5a",
   "metadata": {},
   "source": [
    "**COMMENT**\n",
    "\n",
    "> Note that survey responders tend to be 55 and older."
   ]
  },
  {
   "cell_type": "markdown",
   "id": "5577eaa6-c2f7-4c3f-ac28-9152921fe7dc",
   "metadata": {},
   "source": [
    "### 4c. View the distribution of the race in the dataset"
   ]
  },
  {
   "cell_type": "code",
   "execution_count": 41,
   "id": "48d1bef3-2d58-444e-92bb-5b829ddc4686",
   "metadata": {},
   "outputs": [
    {
     "data": {
      "image/png": "[encoded data removed]",
      "text/plain": [
       "<Figure size 640x480 with 1 Axes>"
      ]
     },
     "metadata": {},
     "output_type": "display_data"
    }
   ],
   "source": [
    "CDC_Diabetes_DataFrame_Selection.Race.plot.hist(orientation=\"horizontal\")\n",
    "labels=['Race not specified', 'White', 'Black or African American', 'American Indian or Alaskan', 'Asian', 'Native Hawaiian or other Pacific Islander']\n",
    "plt.yticks(np.arange(6), labels);"
   ]
  },
  {
   "cell_type": "markdown",
   "id": "ed8af900-807e-4716-bb7c-b02a345b744e",
   "metadata": {},
   "source": [
    "**COMMENT**\n",
    "\n",
    "> Note that survey responders tend to be disproportionately white."
   ]
  },
  {
   "cell_type": "markdown",
   "id": "518b3ef2-48e4-4122-a697-a08dc3df1fc5",
   "metadata": {},
   "source": [
    "### 4d. View the correlation matrix "
   ]
  },
  {
   "cell_type": "code",
   "execution_count": 42,
   "id": "486c4fc9-cda3-4505-b932-5ab239e349ec",
   "metadata": {},
   "outputs": [
    {
     "data": {
      "image/png": "[encoded data removed]",
      "text/plain": [
       "<Figure size 1500x1000 with 2 Axes>"
      ]
     },
     "metadata": {},
     "output_type": "display_data"
    }
   ],
   "source": [
    "corr_matrix =  CDC_Diabetes_DataFrame_Selection.corr()\n",
    "fig, ax = plt.subplots(figsize = (15, 10))\n",
    "ax = sns.heatmap(corr_matrix, linewidths = 0.5, fmt=\".2f\", cmap=\"YlOrRd\");"
   ]
  },
  {
   "cell_type": "markdown",
   "id": "48480f3e-168f-4b3b-8d07-2e11218ad2ee",
   "metadata": {},
   "source": [
    "**COMMENT**\n",
    "\n",
    "> The correlation matrix is a good way to identify impactful features.  The darker the colour, the more likely there is a correlation.  \n",
    "> Since we are trying to reduce the number of questions in the tool, this is another way to reduce the number of features we need to study."
   ]
  },
  {
   "attachments": {},
   "cell_type": "markdown",
   "id": "c3b40b18-ee05-49ca-a8b4-e617a9059498",
   "metadata": {},
   "source": [
    "## STEP 5:  REDUCE AND BALANCE THE DATA SET \n",
    "\n",
    "The next step is to reduce and balance the dataset to ensure computing resources are not strained while maintaining precision and accuracy. \r\n",
    "\r\n",
    "* **5a.** Selecting a data count to reduce strain on resources\r\n",
    "* **5b.** Determine if the data is balanced\r\n",
    "* **5c.** Balance and reduce the data setatrix"
   ]
  },
  {
   "cell_type": "markdown",
   "id": "a6cbda82-a0b3-4060-b2bb-4df73fe75bd3",
   "metadata": {},
   "source": [
    "### 5a: Selecting a data count to reduce strain on resources"
   ]
  },
  {
   "cell_type": "code",
   "execution_count": 43,
   "id": "6bb2adf8-2cb5-486b-a6d7-879612dd0ece",
   "metadata": {},
   "outputs": [
    {
     "data": {
      "text/plain": [
       "(281928, 16)"
      ]
     },
     "execution_count": 43,
     "metadata": {},
     "output_type": "execute_result"
    }
   ],
   "source": [
    "# Determine the size of data\n",
    "CDC_Diabetes_DataFrame_Selection.shape"
   ]
  },
  {
   "cell_type": "markdown",
   "id": "88504378-a772-4ae8-bf1f-3bc9a1a05808",
   "metadata": {},
   "source": [
    "**COMMENT**\n",
    "\n",
    "> The current data set contains 281,928 rows of data.  A smaller sample size is required to reduce the strain on computing resources and limit computing time.  "
   ]
  },
  {
   "cell_type": "markdown",
   "id": "1ad59b16-0fba-46ef-87be-830b9800ed72",
   "metadata": {},
   "source": [
    "To make efficient use of resources, the model uses 6,000 diabetic and non-diabetic datapoints each for a total of 12,000. I have found this produces the optimum accuracy based on trial iterations.  More data points do not necessarily translate to a more accurate model and use excessive time to build the model and calculate the model's precision."
   ]
  },
  {
   "cell_type": "code",
   "execution_count": 44,
   "id": "f1255fc2-4897-425a-90ba-fb9aa056b5a2",
   "metadata": {},
   "outputs": [],
   "source": [
    "# Set the Maximum Length for the diabetic and non-diabetic dataset is selected for the purpose of this demonstration\n",
    "MaxLength = 6000"
   ]
  },
  {
   "cell_type": "markdown",
   "id": "aeb7f313-eb82-4df9-a1d8-7158bafcdc89",
   "metadata": {},
   "source": [
    "### 5b: Determine if the data is balanced"
   ]
  },
  {
   "cell_type": "markdown",
   "id": "2fb16e61-f7db-4ce8-a6b6-9ca9bed664de",
   "metadata": {},
   "source": [
    "A balanced data set facilitates the training of a machine-learning model so that the model is not biased towards one class.  "
   ]
  },
  {
   "cell_type": "code",
   "execution_count": 45,
   "id": "0c41ac2c-bb6f-47ef-bffb-d2c389af84d7",
   "metadata": {},
   "outputs": [
    {
     "data": {
      "text/plain": [
       "Diabetes\n",
       "0.0    234606\n",
       "1.0     47322\n",
       "dtype: int64"
      ]
     },
     "execution_count": 45,
     "metadata": {},
     "output_type": "execute_result"
    }
   ],
   "source": [
    "# Find the number of people with Diabetes and people without Diabetes in the data set.  \n",
    "CDC_Diabetes_DataFrame_Selection.groupby(['Diabetes']).size()"
   ]
  },
  {
   "cell_type": "markdown",
   "id": "42eb203e-1592-431c-b8ab-7fa27605dde7",
   "metadata": {},
   "source": [
    "**COMMENT:**  \n",
    "> Note that the remaining dataframe selection is imbalanced.  There are significantly more datapoints for people without Diabetes than with Diabetes."
   ]
  },
  {
   "cell_type": "markdown",
   "id": "2ad34dee-0e76-4304-b9b0-179990c9bddc",
   "metadata": {},
   "source": [
    "### 5c: Balance the data set and reducing the dataset"
   ]
  },
  {
   "cell_type": "code",
   "execution_count": 46,
   "id": "818ad2b5-8e51-4c50-b9db-faa25b33832c",
   "metadata": {},
   "outputs": [],
   "source": [
    "# Separate the sets into 0s for No Diabetes and 1s for Pre-diabetes and Diabetes\n",
    "# Get the data for those who have Diabetes\n",
    "Have_Diabetes = CDC_Diabetes_DataFrame_Selection['Diabetes'] == 1\n",
    "Have_Diabetes_Data = CDC_Diabetes_DataFrame_Selection[Have_Diabetes]\n",
    "\n",
    "# Get the data for those who do not have Diabetes\n",
    "Does_Not_Have_Diabetes = CDC_Diabetes_DataFrame_Selection['Diabetes'] == 0\n",
    "Does_Not_Have_Diabetes_Data = CDC_Diabetes_DataFrame_Selection[Does_Not_Have_Diabetes] "
   ]
  },
  {
   "cell_type": "code",
   "execution_count": 47,
   "id": "540def2c-2397-45e4-85ef-9aa7438700a2",
   "metadata": {},
   "outputs": [],
   "source": [
    "# Select random data limited to the maximum number specified from each set  \n",
    "Random_Does_Not_Have_Diabetes_Subset = Does_Not_Have_Diabetes_Data.take(np.random.permutation(len(Does_Not_Have_Diabetes_Data))[:MaxLength])\n",
    "Random_Have_Diabetes_Subset = Have_Diabetes_Data.take(np.random.permutation(len(Have_Diabetes_Data))[:MaxLength])\n",
    "\n",
    "# Join both sets with people with Diabetes and people without Diabetes. \n",
    "CDC_Diabetes_DataFrame_Balanced  = Random_Does_Not_Have_Diabetes_Subset._append(Random_Have_Diabetes_Subset, ignore_index = True)"
   ]
  },
  {
   "cell_type": "code",
   "execution_count": 48,
   "id": "59adf776-f320-4bd5-9ea2-c31358bd0e65",
   "metadata": {},
   "outputs": [
    {
     "data": {
      "text/plain": [
       "Diabetes\n",
       "0.0    6000\n",
       "1.0    6000\n",
       "dtype: int64"
      ]
     },
     "execution_count": 48,
     "metadata": {},
     "output_type": "execute_result"
    }
   ],
   "source": [
    "# Check that the above resulted in a balanced set of data. The number of diabetes data points should equal the number of non-diabetes data points.  \n",
    "CDC_Diabetes_DataFrame_Balanced.groupby(['Diabetes']).size()"
   ]
  },
  {
   "cell_type": "code",
   "execution_count": 49,
   "id": "64d7099d-5033-403d-a92c-dc8691f18088",
   "metadata": {},
   "outputs": [
    {
     "data": {
      "text/html": [
       "<div>\n",
       "<style scoped>\n",
       "    .dataframe tbody tr th:only-of-type {\n",
       "        vertical-align: middle;\n",
       "    }\n",
       "\n",
       "    .dataframe tbody tr th {\n",
       "        vertical-align: top;\n",
       "    }\n",
       "\n",
       "    .dataframe thead th {\n",
       "        text-align: right;\n",
       "    }\n",
       "</style>\n",
       "<table border=\"1\" class=\"dataframe\">\n",
       "  <thead>\n",
       "    <tr style=\"text-align: right;\">\n",
       "      <th></th>\n",
       "      <th>Diabetes</th>\n",
       "      <th>HighBloodPressure</th>\n",
       "      <th>HighCholesterol</th>\n",
       "      <th>BMI</th>\n",
       "      <th>Overweight</th>\n",
       "      <th>Smoker</th>\n",
       "      <th>Stroke</th>\n",
       "      <th>HeartIssues</th>\n",
       "      <th>PhysicalActivity</th>\n",
       "      <th>Fruits</th>\n",
       "      <th>Vegetables</th>\n",
       "      <th>Alcohol</th>\n",
       "      <th>HealthPlan</th>\n",
       "      <th>Sex</th>\n",
       "      <th>Age</th>\n",
       "      <th>Race</th>\n",
       "    </tr>\n",
       "  </thead>\n",
       "  <tbody>\n",
       "    <tr>\n",
       "      <th>count</th>\n",
       "      <td>12000.000000</td>\n",
       "      <td>12000.00000</td>\n",
       "      <td>12000.000000</td>\n",
       "      <td>12000.000000</td>\n",
       "      <td>12000.000000</td>\n",
       "      <td>12000.000000</td>\n",
       "      <td>12000.000000</td>\n",
       "      <td>12000.000000</td>\n",
       "      <td>12000.000000</td>\n",
       "      <td>12000.000000</td>\n",
       "      <td>12000.000000</td>\n",
       "      <td>12000.000000</td>\n",
       "      <td>12000.000000</td>\n",
       "      <td>12000.000000</td>\n",
       "      <td>12000.000000</td>\n",
       "      <td>12000.000000</td>\n",
       "    </tr>\n",
       "    <tr>\n",
       "      <th>mean</th>\n",
       "      <td>0.500000</td>\n",
       "      <td>0.53700</td>\n",
       "      <td>0.492500</td>\n",
       "      <td>30.034500</td>\n",
       "      <td>0.769833</td>\n",
       "      <td>0.438000</td>\n",
       "      <td>0.053917</td>\n",
       "      <td>0.129417</td>\n",
       "      <td>0.718917</td>\n",
       "      <td>0.602167</td>\n",
       "      <td>0.807667</td>\n",
       "      <td>0.485167</td>\n",
       "      <td>0.966167</td>\n",
       "      <td>0.483167</td>\n",
       "      <td>8.540250</td>\n",
       "      <td>1.194167</td>\n",
       "    </tr>\n",
       "    <tr>\n",
       "      <th>std</th>\n",
       "      <td>0.500021</td>\n",
       "      <td>0.49865</td>\n",
       "      <td>0.499965</td>\n",
       "      <td>7.050883</td>\n",
       "      <td>0.420957</td>\n",
       "      <td>0.496162</td>\n",
       "      <td>0.225863</td>\n",
       "      <td>0.335675</td>\n",
       "      <td>0.449547</td>\n",
       "      <td>0.489471</td>\n",
       "      <td>0.394150</td>\n",
       "      <td>0.499801</td>\n",
       "      <td>0.180808</td>\n",
       "      <td>0.499737</td>\n",
       "      <td>3.098389</td>\n",
       "      <td>0.750564</td>\n",
       "    </tr>\n",
       "    <tr>\n",
       "      <th>min</th>\n",
       "      <td>0.000000</td>\n",
       "      <td>0.00000</td>\n",
       "      <td>0.000000</td>\n",
       "      <td>13.000000</td>\n",
       "      <td>0.000000</td>\n",
       "      <td>0.000000</td>\n",
       "      <td>0.000000</td>\n",
       "      <td>0.000000</td>\n",
       "      <td>0.000000</td>\n",
       "      <td>0.000000</td>\n",
       "      <td>0.000000</td>\n",
       "      <td>0.000000</td>\n",
       "      <td>0.000000</td>\n",
       "      <td>0.000000</td>\n",
       "      <td>1.000000</td>\n",
       "      <td>0.000000</td>\n",
       "    </tr>\n",
       "    <tr>\n",
       "      <th>25%</th>\n",
       "      <td>0.000000</td>\n",
       "      <td>0.00000</td>\n",
       "      <td>0.000000</td>\n",
       "      <td>25.000000</td>\n",
       "      <td>1.000000</td>\n",
       "      <td>0.000000</td>\n",
       "      <td>0.000000</td>\n",
       "      <td>0.000000</td>\n",
       "      <td>0.000000</td>\n",
       "      <td>0.000000</td>\n",
       "      <td>1.000000</td>\n",
       "      <td>0.000000</td>\n",
       "      <td>1.000000</td>\n",
       "      <td>0.000000</td>\n",
       "      <td>6.000000</td>\n",
       "      <td>1.000000</td>\n",
       "    </tr>\n",
       "    <tr>\n",
       "      <th>50%</th>\n",
       "      <td>0.500000</td>\n",
       "      <td>1.00000</td>\n",
       "      <td>0.000000</td>\n",
       "      <td>29.000000</td>\n",
       "      <td>1.000000</td>\n",
       "      <td>0.000000</td>\n",
       "      <td>0.000000</td>\n",
       "      <td>0.000000</td>\n",
       "      <td>1.000000</td>\n",
       "      <td>1.000000</td>\n",
       "      <td>1.000000</td>\n",
       "      <td>0.000000</td>\n",
       "      <td>1.000000</td>\n",
       "      <td>0.000000</td>\n",
       "      <td>9.000000</td>\n",
       "      <td>1.000000</td>\n",
       "    </tr>\n",
       "    <tr>\n",
       "      <th>75%</th>\n",
       "      <td>1.000000</td>\n",
       "      <td>1.00000</td>\n",
       "      <td>1.000000</td>\n",
       "      <td>33.000000</td>\n",
       "      <td>1.000000</td>\n",
       "      <td>1.000000</td>\n",
       "      <td>0.000000</td>\n",
       "      <td>0.000000</td>\n",
       "      <td>1.000000</td>\n",
       "      <td>1.000000</td>\n",
       "      <td>1.000000</td>\n",
       "      <td>1.000000</td>\n",
       "      <td>1.000000</td>\n",
       "      <td>1.000000</td>\n",
       "      <td>11.000000</td>\n",
       "      <td>1.000000</td>\n",
       "    </tr>\n",
       "    <tr>\n",
       "      <th>max</th>\n",
       "      <td>1.000000</td>\n",
       "      <td>1.00000</td>\n",
       "      <td>1.000000</td>\n",
       "      <td>92.000000</td>\n",
       "      <td>1.000000</td>\n",
       "      <td>1.000000</td>\n",
       "      <td>1.000000</td>\n",
       "      <td>1.000000</td>\n",
       "      <td>1.000000</td>\n",
       "      <td>1.000000</td>\n",
       "      <td>1.000000</td>\n",
       "      <td>1.000000</td>\n",
       "      <td>1.000000</td>\n",
       "      <td>1.000000</td>\n",
       "      <td>13.000000</td>\n",
       "      <td>5.000000</td>\n",
       "    </tr>\n",
       "  </tbody>\n",
       "</table>\n",
       "</div>"
      ],
      "text/plain": [
       "           Diabetes  HighBloodPressure  HighCholesterol           BMI  \\\n",
       "count  12000.000000        12000.00000     12000.000000  12000.000000   \n",
       "mean       0.500000            0.53700         0.492500     30.034500   \n",
       "std        0.500021            0.49865         0.499965      7.050883   \n",
       "min        0.000000            0.00000         0.000000     13.000000   \n",
       "25%        0.000000            0.00000         0.000000     25.000000   \n",
       "50%        0.500000            1.00000         0.000000     29.000000   \n",
       "75%        1.000000            1.00000         1.000000     33.000000   \n",
       "max        1.000000            1.00000         1.000000     92.000000   \n",
       "\n",
       "         Overweight        Smoker        Stroke   HeartIssues  \\\n",
       "count  12000.000000  12000.000000  12000.000000  12000.000000   \n",
       "mean       0.769833      0.438000      0.053917      0.129417   \n",
       "std        0.420957      0.496162      0.225863      0.335675   \n",
       "min        0.000000      0.000000      0.000000      0.000000   \n",
       "25%        1.000000      0.000000      0.000000      0.000000   \n",
       "50%        1.000000      0.000000      0.000000      0.000000   \n",
       "75%        1.000000      1.000000      0.000000      0.000000   \n",
       "max        1.000000      1.000000      1.000000      1.000000   \n",
       "\n",
       "       PhysicalActivity        Fruits    Vegetables       Alcohol  \\\n",
       "count      12000.000000  12000.000000  12000.000000  12000.000000   \n",
       "mean           0.718917      0.602167      0.807667      0.485167   \n",
       "std            0.449547      0.489471      0.394150      0.499801   \n",
       "min            0.000000      0.000000      0.000000      0.000000   \n",
       "25%            0.000000      0.000000      1.000000      0.000000   \n",
       "50%            1.000000      1.000000      1.000000      0.000000   \n",
       "75%            1.000000      1.000000      1.000000      1.000000   \n",
       "max            1.000000      1.000000      1.000000      1.000000   \n",
       "\n",
       "         HealthPlan           Sex           Age          Race  \n",
       "count  12000.000000  12000.000000  12000.000000  12000.000000  \n",
       "mean       0.966167      0.483167      8.540250      1.194167  \n",
       "std        0.180808      0.499737      3.098389      0.750564  \n",
       "min        0.000000      0.000000      1.000000      0.000000  \n",
       "25%        1.000000      0.000000      6.000000      1.000000  \n",
       "50%        1.000000      0.000000      9.000000      1.000000  \n",
       "75%        1.000000      1.000000     11.000000      1.000000  \n",
       "max        1.000000      1.000000     13.000000      5.000000  "
      ]
     },
     "execution_count": 49,
     "metadata": {},
     "output_type": "execute_result"
    }
   ],
   "source": [
    "CDC_Diabetes_DataFrame_Balanced.describe()"
   ]
  },
  {
   "cell_type": "markdown",
   "id": "863ffb62-9dd9-44e8-a4c4-d3cdcd91b1bf",
   "metadata": {},
   "source": [
    "## STEP 6:  CREATE TRAINING AND TESTING DATA SETS"
   ]
  },
  {
   "cell_type": "code",
   "execution_count": 50,
   "id": "9d7a6477-336a-4cdf-8cb6-fca3b8d4108f",
   "metadata": {},
   "outputs": [],
   "source": [
    "# Split data into X which reflects the matrix of independent variables and y is the set of target values to be predicted\n",
    "# X includes the data from columns other than diabetes\n",
    "X = CDC_Diabetes_DataFrame_Balanced.drop(\"Diabetes\", axis = 1)\n",
    "\n",
    "# y includes the data from the diabetes column \n",
    "y = CDC_Diabetes_DataFrame_Balanced[\"Diabetes\"]"
   ]
  },
  {
   "cell_type": "code",
   "execution_count": 51,
   "id": "68446f64-1c1c-41dd-b87e-6f0db05d0a98",
   "metadata": {},
   "outputs": [
    {
     "data": {
      "text/html": [
       "<div>\n",
       "<style scoped>\n",
       "    .dataframe tbody tr th:only-of-type {\n",
       "        vertical-align: middle;\n",
       "    }\n",
       "\n",
       "    .dataframe tbody tr th {\n",
       "        vertical-align: top;\n",
       "    }\n",
       "\n",
       "    .dataframe thead th {\n",
       "        text-align: right;\n",
       "    }\n",
       "</style>\n",
       "<table border=\"1\" class=\"dataframe\">\n",
       "  <thead>\n",
       "    <tr style=\"text-align: right;\">\n",
       "      <th></th>\n",
       "      <th>HighBloodPressure</th>\n",
       "      <th>HighCholesterol</th>\n",
       "      <th>BMI</th>\n",
       "      <th>Overweight</th>\n",
       "      <th>Smoker</th>\n",
       "      <th>Stroke</th>\n",
       "      <th>HeartIssues</th>\n",
       "      <th>PhysicalActivity</th>\n",
       "      <th>Fruits</th>\n",
       "      <th>Vegetables</th>\n",
       "      <th>Alcohol</th>\n",
       "      <th>HealthPlan</th>\n",
       "      <th>Sex</th>\n",
       "      <th>Age</th>\n",
       "      <th>Race</th>\n",
       "    </tr>\n",
       "  </thead>\n",
       "  <tbody>\n",
       "    <tr>\n",
       "      <th>0</th>\n",
       "      <td>1</td>\n",
       "      <td>1.0</td>\n",
       "      <td>26.0</td>\n",
       "      <td>1.0</td>\n",
       "      <td>1.0</td>\n",
       "      <td>0.0</td>\n",
       "      <td>0.0</td>\n",
       "      <td>1</td>\n",
       "      <td>1</td>\n",
       "      <td>1</td>\n",
       "      <td>1</td>\n",
       "      <td>1</td>\n",
       "      <td>1</td>\n",
       "      <td>13</td>\n",
       "      <td>1.0</td>\n",
       "    </tr>\n",
       "    <tr>\n",
       "      <th>1</th>\n",
       "      <td>1</td>\n",
       "      <td>0.0</td>\n",
       "      <td>30.0</td>\n",
       "      <td>1.0</td>\n",
       "      <td>0.0</td>\n",
       "      <td>0.0</td>\n",
       "      <td>0.0</td>\n",
       "      <td>1</td>\n",
       "      <td>0</td>\n",
       "      <td>1</td>\n",
       "      <td>1</td>\n",
       "      <td>1</td>\n",
       "      <td>0</td>\n",
       "      <td>13</td>\n",
       "      <td>1.0</td>\n",
       "    </tr>\n",
       "    <tr>\n",
       "      <th>2</th>\n",
       "      <td>0</td>\n",
       "      <td>1.0</td>\n",
       "      <td>28.0</td>\n",
       "      <td>1.0</td>\n",
       "      <td>0.0</td>\n",
       "      <td>0.0</td>\n",
       "      <td>0.0</td>\n",
       "      <td>1</td>\n",
       "      <td>1</td>\n",
       "      <td>1</td>\n",
       "      <td>1</td>\n",
       "      <td>1</td>\n",
       "      <td>1</td>\n",
       "      <td>5</td>\n",
       "      <td>1.0</td>\n",
       "    </tr>\n",
       "    <tr>\n",
       "      <th>3</th>\n",
       "      <td>1</td>\n",
       "      <td>0.0</td>\n",
       "      <td>23.0</td>\n",
       "      <td>0.0</td>\n",
       "      <td>1.0</td>\n",
       "      <td>0.0</td>\n",
       "      <td>0.0</td>\n",
       "      <td>1</td>\n",
       "      <td>1</td>\n",
       "      <td>1</td>\n",
       "      <td>1</td>\n",
       "      <td>1</td>\n",
       "      <td>0</td>\n",
       "      <td>12</td>\n",
       "      <td>1.0</td>\n",
       "    </tr>\n",
       "    <tr>\n",
       "      <th>4</th>\n",
       "      <td>1</td>\n",
       "      <td>0.0</td>\n",
       "      <td>23.0</td>\n",
       "      <td>0.0</td>\n",
       "      <td>1.0</td>\n",
       "      <td>0.0</td>\n",
       "      <td>0.0</td>\n",
       "      <td>0</td>\n",
       "      <td>0</td>\n",
       "      <td>0</td>\n",
       "      <td>0</td>\n",
       "      <td>1</td>\n",
       "      <td>1</td>\n",
       "      <td>9</td>\n",
       "      <td>2.0</td>\n",
       "    </tr>\n",
       "    <tr>\n",
       "      <th>...</th>\n",
       "      <td>...</td>\n",
       "      <td>...</td>\n",
       "      <td>...</td>\n",
       "      <td>...</td>\n",
       "      <td>...</td>\n",
       "      <td>...</td>\n",
       "      <td>...</td>\n",
       "      <td>...</td>\n",
       "      <td>...</td>\n",
       "      <td>...</td>\n",
       "      <td>...</td>\n",
       "      <td>...</td>\n",
       "      <td>...</td>\n",
       "      <td>...</td>\n",
       "      <td>...</td>\n",
       "    </tr>\n",
       "    <tr>\n",
       "      <th>11995</th>\n",
       "      <td>1</td>\n",
       "      <td>1.0</td>\n",
       "      <td>33.0</td>\n",
       "      <td>1.0</td>\n",
       "      <td>0.0</td>\n",
       "      <td>0.0</td>\n",
       "      <td>0.0</td>\n",
       "      <td>1</td>\n",
       "      <td>0</td>\n",
       "      <td>1</td>\n",
       "      <td>1</td>\n",
       "      <td>1</td>\n",
       "      <td>1</td>\n",
       "      <td>9</td>\n",
       "      <td>1.0</td>\n",
       "    </tr>\n",
       "    <tr>\n",
       "      <th>11996</th>\n",
       "      <td>1</td>\n",
       "      <td>0.0</td>\n",
       "      <td>35.0</td>\n",
       "      <td>1.0</td>\n",
       "      <td>1.0</td>\n",
       "      <td>0.0</td>\n",
       "      <td>0.0</td>\n",
       "      <td>1</td>\n",
       "      <td>1</td>\n",
       "      <td>1</td>\n",
       "      <td>0</td>\n",
       "      <td>1</td>\n",
       "      <td>0</td>\n",
       "      <td>2</td>\n",
       "      <td>1.0</td>\n",
       "    </tr>\n",
       "    <tr>\n",
       "      <th>11997</th>\n",
       "      <td>1</td>\n",
       "      <td>0.0</td>\n",
       "      <td>34.0</td>\n",
       "      <td>1.0</td>\n",
       "      <td>0.0</td>\n",
       "      <td>0.0</td>\n",
       "      <td>0.0</td>\n",
       "      <td>1</td>\n",
       "      <td>1</td>\n",
       "      <td>1</td>\n",
       "      <td>0</td>\n",
       "      <td>1</td>\n",
       "      <td>0</td>\n",
       "      <td>7</td>\n",
       "      <td>1.0</td>\n",
       "    </tr>\n",
       "    <tr>\n",
       "      <th>11998</th>\n",
       "      <td>1</td>\n",
       "      <td>0.0</td>\n",
       "      <td>34.0</td>\n",
       "      <td>1.0</td>\n",
       "      <td>0.0</td>\n",
       "      <td>0.0</td>\n",
       "      <td>0.0</td>\n",
       "      <td>0</td>\n",
       "      <td>0</td>\n",
       "      <td>1</td>\n",
       "      <td>1</td>\n",
       "      <td>1</td>\n",
       "      <td>0</td>\n",
       "      <td>12</td>\n",
       "      <td>1.0</td>\n",
       "    </tr>\n",
       "    <tr>\n",
       "      <th>11999</th>\n",
       "      <td>0</td>\n",
       "      <td>0.0</td>\n",
       "      <td>42.0</td>\n",
       "      <td>1.0</td>\n",
       "      <td>0.0</td>\n",
       "      <td>0.0</td>\n",
       "      <td>0.0</td>\n",
       "      <td>0</td>\n",
       "      <td>1</td>\n",
       "      <td>1</td>\n",
       "      <td>0</td>\n",
       "      <td>1</td>\n",
       "      <td>0</td>\n",
       "      <td>9</td>\n",
       "      <td>1.0</td>\n",
       "    </tr>\n",
       "  </tbody>\n",
       "</table>\n",
       "<p>12000 rows × 15 columns</p>\n",
       "</div>"
      ],
      "text/plain": [
       "       HighBloodPressure  HighCholesterol   BMI  Overweight  Smoker  Stroke  \\\n",
       "0                      1              1.0  26.0         1.0     1.0     0.0   \n",
       "1                      1              0.0  30.0         1.0     0.0     0.0   \n",
       "2                      0              1.0  28.0         1.0     0.0     0.0   \n",
       "3                      1              0.0  23.0         0.0     1.0     0.0   \n",
       "4                      1              0.0  23.0         0.0     1.0     0.0   \n",
       "...                  ...              ...   ...         ...     ...     ...   \n",
       "11995                  1              1.0  33.0         1.0     0.0     0.0   \n",
       "11996                  1              0.0  35.0         1.0     1.0     0.0   \n",
       "11997                  1              0.0  34.0         1.0     0.0     0.0   \n",
       "11998                  1              0.0  34.0         1.0     0.0     0.0   \n",
       "11999                  0              0.0  42.0         1.0     0.0     0.0   \n",
       "\n",
       "       HeartIssues  PhysicalActivity  Fruits  Vegetables  Alcohol  HealthPlan  \\\n",
       "0              0.0                 1       1           1        1           1   \n",
       "1              0.0                 1       0           1        1           1   \n",
       "2              0.0                 1       1           1        1           1   \n",
       "3              0.0                 1       1           1        1           1   \n",
       "4              0.0                 0       0           0        0           1   \n",
       "...            ...               ...     ...         ...      ...         ...   \n",
       "11995          0.0                 1       0           1        1           1   \n",
       "11996          0.0                 1       1           1        0           1   \n",
       "11997          0.0                 1       1           1        0           1   \n",
       "11998          0.0                 0       0           1        1           1   \n",
       "11999          0.0                 0       1           1        0           1   \n",
       "\n",
       "       Sex  Age  Race  \n",
       "0        1   13   1.0  \n",
       "1        0   13   1.0  \n",
       "2        1    5   1.0  \n",
       "3        0   12   1.0  \n",
       "4        1    9   2.0  \n",
       "...    ...  ...   ...  \n",
       "11995    1    9   1.0  \n",
       "11996    0    2   1.0  \n",
       "11997    0    7   1.0  \n",
       "11998    0   12   1.0  \n",
       "11999    0    9   1.0  \n",
       "\n",
       "[12000 rows x 15 columns]"
      ]
     },
     "execution_count": 51,
     "metadata": {},
     "output_type": "execute_result"
    }
   ],
   "source": [
    "#Visualize X (Should reflect all columns except Diabetes column) \n",
    "X"
   ]
  },
  {
   "cell_type": "code",
   "execution_count": 52,
   "id": "264dc2a6-5cbb-4eb7-970b-030164b869fd",
   "metadata": {},
   "outputs": [
    {
     "data": {
      "text/plain": [
       "0        0.0\n",
       "1        0.0\n",
       "2        0.0\n",
       "3        0.0\n",
       "4        0.0\n",
       "        ... \n",
       "11995    1.0\n",
       "11996    1.0\n",
       "11997    1.0\n",
       "11998    1.0\n",
       "11999    1.0\n",
       "Name: Diabetes, Length: 12000, dtype: float64"
      ]
     },
     "execution_count": 52,
     "metadata": {},
     "output_type": "execute_result"
    }
   ],
   "source": [
    "# Visualize y (Should just be the Diabetes column indicating whether someone has Diabetes(1) or not(0))\n",
    "y"
   ]
  },
  {
   "cell_type": "code",
   "execution_count": 53,
   "id": "e49119a4-94aa-46e6-8fd2-43abfb45aecb",
   "metadata": {},
   "outputs": [],
   "source": [
    "# Split data into training and testing sets; I will use a 80/20 split where 80% is used for training and 20% is used to testing\n",
    "X_train, X_test, y_train, y_test = train_test_split(X, y, stratify = y, test_size = 0.2)"
   ]
  },
  {
   "cell_type": "code",
   "execution_count": 54,
   "id": "9d8aaa45-5681-49bd-96ac-26bcdb5a5242",
   "metadata": {},
   "outputs": [
    {
     "data": {
      "text/plain": [
       "(12000, 9600, 2400)"
      ]
     },
     "execution_count": 54,
     "metadata": {},
     "output_type": "execute_result"
    }
   ],
   "source": [
    "# Determine size of X, X_train and X_test.  X_train + X_test should equal the original data set X. \n",
    "len(X), len(X_train), len(X_test)"
   ]
  },
  {
   "cell_type": "code",
   "execution_count": 55,
   "id": "d7fa613c-3246-4027-9900-c475a675124c",
   "metadata": {},
   "outputs": [
    {
     "data": {
      "text/plain": [
       "(12000, 9600, 2400)"
      ]
     },
     "execution_count": 55,
     "metadata": {},
     "output_type": "execute_result"
    }
   ],
   "source": [
    "# Determine size of y, y_train and y_test.  y_train + y_test should equal the original data set y. \n",
    "len(y), len(y_train), len(y_test)"
   ]
  },
  {
   "cell_type": "markdown",
   "id": "a51a976f-f863-414c-9c98-c6277cf96ea2",
   "metadata": {},
   "source": [
    "## STEP 7:  SELECT, TRAIN AND EVALUATE MODELS\n",
    "\n",
    "The next step is to select, train and evaluate various models for a best-fit model.  \n",
    "\n",
    "* **7a.** Create a list of models to test\n",
    "* **7b.** Train and Test the selected models\n",
    "* **7c.** Evaluate the models"
   ]
  },
  {
   "cell_type": "markdown",
   "id": "93b7850f-4d9e-4388-97ab-f77c519df36a",
   "metadata": {},
   "source": [
    "### 7a:  Create a list of models to test"
   ]
  },
  {
   "cell_type": "markdown",
   "id": "8e2a8f40-65a2-484f-98c1-4e96f9874454",
   "metadata": {},
   "source": [
    "Machine learning models for Type 2 Diabetes were selected based on models suggested by Scikit-Learn for use with supervised learning on classification problems:  \n",
    "> https://scikit-learn.org/stable/supervised_learning.html#supervised-learning\n",
    "\n",
    "The list of models was then cross-referenced with the 18 models studied in the article \"Machine Learning and Deeper Learning Predictive Models for Type 2 Diabetes: A Systematic Review\" located at the following site: \n",
    "> https://dmsjournal.biomedcentral.com/articles/10.1186/s13098-021-00767-9"
   ]
  },
  {
   "cell_type": "markdown",
   "id": "3c20f2cc-c5bd-4e53-bba2-9be96d6310e2",
   "metadata": {},
   "source": [
    "The following classification algorithms were selected for evaluation based on size of data set and resources to run the data:\n",
    "1. K-Nearest Neighbors (KNN)\n",
    "2. Support Vector Machines (SVC)\n",
    "3. Decision Trees (DT)\n",
    "4. Gaussian Naive Bayes (GBN)\n",
    "5. Random Forest Classifier (RF)\n",
    "6. Gradient Boosting Classifier (GB)"
   ]
  },
  {
   "cell_type": "code",
   "execution_count": 56,
   "id": "f4192149-4da0-434c-aa93-331a039cd342",
   "metadata": {},
   "outputs": [],
   "source": [
    "# Create a list of models to test\n",
    "Models = []\n",
    "Models.append(('KNN', KNeighborsClassifier()))\n",
    "Models.append(('SVC', SVC()))\n",
    "Models.append(('DT', DecisionTreeClassifier()))\n",
    "Models.append(('GNB', GaussianNB()))\n",
    "Models.append(('RF', RandomForestClassifier()))\n",
    "Models.append(('GB', GradientBoostingClassifier()))"
   ]
  },
  {
   "cell_type": "markdown",
   "id": "bdb2013c-06ff-4521-876e-02bf500c643a",
   "metadata": {},
   "source": [
    "### 7b: Train and Test the selected models\n",
    "\n",
    "The classification model is evaluated as follows: \n",
    "* Accuracy score reflects how often the classification machine learning model is correct in predicting diabetes or no diabetes overall.\n",
    "  > Accuracy = (True Positives + True Negatives)/Total\n",
    "* Precision score refers to how often the classification machine learning model is correct when predicting the target class of diabetes.\n",
    "  > Precision = True Positives/(True Positives + False Positives)\n",
    "\n",
    "Note:  This next cell will take a moment to run but, please be patient."
   ]
  },
  {
   "cell_type": "code",
   "execution_count": 57,
   "id": "3b4a1360-446b-4725-a3a5-9ffe8014e50f",
   "metadata": {},
   "outputs": [
    {
     "name": "stdout",
     "output_type": "stream",
     "text": [
      "  Model  Accuracy_Score  Precision_Score\n",
      "0   KNN       67.583333        68.508772\n",
      "1   SVC       71.708333        70.053888\n",
      "2    DT       64.375000        65.039233\n",
      "3   GNB       69.458333        71.560480\n",
      "4    RF       67.791667        66.931007\n",
      "5    GB       72.166667        71.144674\n"
     ]
    }
   ],
   "source": [
    "# Train and Test the selected models\n",
    "Names = []\n",
    "Precision_Scores = []\n",
    "Accuracy_Scores = []\n",
    "for name, model in Models:\n",
    "    model.fit(X_train, y_train)\n",
    "    Accuracy_Scores.append(model.score(X_test, y_test)*100)\n",
    "    Precision_Scores.append((precision_score(y_test, model.predict(X_test)))*100)\n",
    "    Names.append(name)\n",
    "ModelsWithScores = pd.DataFrame({'Model': Names, 'Accuracy_Score': Accuracy_Scores, 'Precision_Score': Precision_Scores})\n",
    "print(ModelsWithScores)"
   ]
  },
  {
   "cell_type": "markdown",
   "id": "cc8b60ba-d385-4bd2-acac-52dbcf531be6",
   "metadata": {},
   "source": [
    "**COMMENT**  \n",
    "\n",
    "> The above accuracy scores and precision scores are on a scale of 1 to 100, with the higher number being better.  \n",
    "\n",
    "FOR REFERENCE: \n",
    "1. KNN = K-Nearest Neighbors \n",
    "2. SVC = Support Vector Machines \n",
    "3. DT = Decision Trees \n",
    "4. GNB = Gaussian Naive Bayes\n",
    "5. RF = Random Forest Classifier \n",
    "6. GB = Gradient Boosting Classifier "
   ]
  },
  {
   "cell_type": "markdown",
   "id": "38c1c561-25b2-4c4d-af11-456516262a20",
   "metadata": {},
   "source": [
    "### 7c: Evaluate the models"
   ]
  },
  {
   "cell_type": "code",
   "execution_count": 58,
   "id": "a3b31b12-2db3-4e81-a748-6afa6f391d7d",
   "metadata": {},
   "outputs": [
    {
     "data": {
      "image/png": "[encoded data removed]",
      "text/plain": [
       "<Figure size 640x480 with 1 Axes>"
      ]
     },
     "metadata": {},
     "output_type": "display_data"
    }
   ],
   "source": [
    "# Plot the accuracy for each model\n",
    "sns.set(font_scale=1.0) \n",
    "axis = sns.barplot(x='Model', y='Accuracy_Score', data=ModelsWithScores)\n",
    "axis.set(xlabel='Model', ylabel='Accuracy', title='The Models By Accuracy Scores')\n",
    "for p in axis.patches:\n",
    "    height = p.get_height()\n",
    "    axis.text(p.get_x() + p.get_width()/2, height + 0.005, '{:1.3f}'.format(height), ha=\"center\")\n",
    "plt.ylim(0,100)\n",
    "plt.show()"
   ]
  },
  {
   "cell_type": "markdown",
   "id": "9f9c328f-78d0-4afa-a976-a03e48b06422",
   "metadata": {},
   "source": [
    "**COMMENTS** \n",
    "\n",
    "> While Support Vector Machines (SVC)and Gradient Boosting Classifier (GB) perform reasonably well on accuracy, I am interested in higher precision.\n",
    "> Higher precision means fewer false positives. \n",
    "\n",
    "FOR REFERENCE: \n",
    "1. KNN = K-Nearest Neighbors \n",
    "2. SVC = Support Vector Machines \n",
    "3. DT = Decision Trees \n",
    "4. GNB = Gaussian Naive Bayes\n",
    "5. RF = Random Forest Classifier \n",
    "6. GB = Gradient Boosting Classifier "
   ]
  },
  {
   "cell_type": "code",
   "execution_count": 59,
   "id": "b832f5f1-dd00-4bd0-8884-401eafc50f6d",
   "metadata": {},
   "outputs": [
    {
     "data": {
      "image/png": "[encoded data removed]",
      "text/plain": [
       "<Figure size 640x480 with 1 Axes>"
      ]
     },
     "metadata": {},
     "output_type": "display_data"
    }
   ],
   "source": [
    "# Plot the precision for each model\n",
    "sns.set(font_scale=1.0) \n",
    "axis = sns.barplot(x='Model', y='Precision_Score', data=ModelsWithScores)\n",
    "axis.set(xlabel='Model', ylabel='Precision', title='The Models By Precision Scores')\n",
    "for p in axis.patches:\n",
    "    height = p.get_height()\n",
    "    axis.text(p.get_x() + p.get_width()/2, height + 0.005, '{:1.3f}'.format(height), ha=\"center\")\n",
    "plt.ylim(0,100)\n",
    "plt.annotate('Most Precise Model', xy = (3, 80), fontsize = 12, xytext = (3, 90), arrowprops = dict(facecolor = 'red'), color = 'g')\n",
    "plt.show()"
   ]
  },
  {
   "cell_type": "markdown",
   "id": "41fd4c6a-2f39-45a6-8938-c48a33778f1d",
   "metadata": {},
   "source": [
    "**COMMENTS** \n",
    "\n",
    "> Therefore, I selected Gaussian Naive Bayes (GBN) as the preferred model for the survey tool.\n",
    "\n",
    "FOR REFERENCE: \n",
    "1. KNN = K-Nearest Neighbors \n",
    "2. SVC = Support Vector Machines \n",
    "3. DT = Decision Trees \n",
    "4. GNB = Gaussian Naive Bayes\n",
    "5. RF = Random Forest Classifier \n",
    "6. GB = Gradient Boosting Classifier "
   ]
  },
  {
   "cell_type": "markdown",
   "id": "6c083ec4-aded-4d93-8adf-75c32859e451",
   "metadata": {},
   "source": [
    "## STEP 8: SELECT THE MOST PRECISE MODEL AND FINE TUNE IT"
   ]
  },
  {
   "cell_type": "markdown",
   "id": "acd9e3cb-e3d5-4253-b52b-859a28087b65",
   "metadata": {},
   "source": [
    "### 8a:  Select the most precise model\n",
    "\n",
    "The Gaussian Naive Bayes Model consistently returns the highest precision score, so I will use this model as the basis of the diabetes prediction tool and finetune the features for accuracy.  "
   ]
  },
  {
   "cell_type": "code",
   "execution_count": 64,
   "id": "c6312f09-4825-491b-8d88-cf1d5d82e784",
   "metadata": {},
   "outputs": [],
   "source": [
    "# Select the model\n",
    "Selected_Model_Before_Finetuning = GaussianNB()"
   ]
  },
  {
   "cell_type": "code",
   "execution_count": 65,
   "id": "01a5c69d-ec3a-4442-af00-09a061b33a2a",
   "metadata": {},
   "outputs": [],
   "source": [
    "# Train the model\n",
    "Selected_Model_Before_Finetuning.fit(X_train, y_train);"
   ]
  },
  {
   "cell_type": "code",
   "execution_count": 66,
   "id": "2975bc48-ab41-491b-92e6-ebdb652c1f87",
   "metadata": {},
   "outputs": [
    {
     "name": "stdout",
     "output_type": "stream",
     "text": [
      "Current accuracy score: 69.4583\n"
     ]
    }
   ],
   "source": [
    "# Test the model for accuracy\n",
    "print(\"Current accuracy score:\", round(Selected_Model_Before_Finetuning.score(X_test, y_test)*100, 4))"
   ]
  },
  {
   "cell_type": "code",
   "execution_count": 67,
   "id": "e6f2e2a3-1d46-48d7-84ff-034da51a02a6",
   "metadata": {},
   "outputs": [
    {
     "name": "stdout",
     "output_type": "stream",
     "text": [
      "Current precision score: 71.5605\n"
     ]
    }
   ],
   "source": [
    "# Test the model for precision\n",
    "print(\"Current precision score:\", round(precision_score(y_test, Selected_Model_Before_Finetuning.predict(X_test))*100, 4))"
   ]
  },
  {
   "cell_type": "markdown",
   "id": "01c86697-9df6-44d8-9fa0-fc05073911b8",
   "metadata": {},
   "source": [
    "### 8b: Identify features to remove by determining feature importance\n",
    "\n",
    "To reduce the time for the prediction model to run and to ensure we make efficient use of questions we need to ask, we must identify the features that contribute the most to the accuracy of the Gaussian Naive Bayes model.  \n"
   ]
  },
  {
   "cell_type": "code",
   "execution_count": 68,
   "id": "81f013d7-6ac0-496a-a3b3-240706026f8a",
   "metadata": {},
   "outputs": [
    {
     "data": {
      "text/plain": [
       "['HighBloodPressure',\n",
       " 'HighCholesterol',\n",
       " 'BMI',\n",
       " 'Overweight',\n",
       " 'Smoker',\n",
       " 'Stroke',\n",
       " 'HeartIssues',\n",
       " 'PhysicalActivity',\n",
       " 'Fruits',\n",
       " 'Vegetables',\n",
       " 'Alcohol',\n",
       " 'HealthPlan',\n",
       " 'Sex',\n",
       " 'Age',\n",
       " 'Race']"
      ]
     },
     "execution_count": 68,
     "metadata": {},
     "output_type": "execute_result"
    }
   ],
   "source": [
    "# Get all feature names\n",
    "Feature_Names = X.columns.values.tolist()\n",
    "Feature_Names"
   ]
  },
  {
   "cell_type": "code",
   "execution_count": 69,
   "id": "0cf004f3-0fd8-418e-8afb-dc80322eb7f7",
   "metadata": {},
   "outputs": [
    {
     "name": "stdout",
     "output_type": "stream",
     "text": [
      "              Feature  Feature Rating\n",
      "0   HighBloodPressure        0.017833\n",
      "1     HighCholesterol        0.007750\n",
      "2                 BMI        0.010583\n",
      "3          Overweight        0.015167\n",
      "4              Smoker       -0.004667\n",
      "5              Stroke        0.014083\n",
      "6         HeartIssues        0.021583\n",
      "7    PhysicalActivity       -0.001583\n",
      "8              Fruits       -0.003083\n",
      "9          Vegetables       -0.000417\n",
      "10            Alcohol        0.000167\n",
      "11         HealthPlan        0.000750\n",
      "12                Sex       -0.001083\n",
      "13                Age        0.000667\n",
      "14               Race       -0.001333\n"
     ]
    }
   ],
   "source": [
    "# Rate the features in contribution to model \n",
    "imps = permutation_importance(Selected_Model_Before_Finetuning, X_test, y_test)\n",
    "Feature_Rating = []\n",
    "for i in range(len(Feature_Names)):\n",
    "    Feature_Rating.append((imps.importances_mean[i]))\n",
    "Features_With_Rating = pd.DataFrame({'Feature': Feature_Names, 'Feature Rating': Feature_Rating})\n",
    "print(Features_With_Rating)"
   ]
  },
  {
   "cell_type": "code",
   "execution_count": 70,
   "id": "2f60e24b-f63b-445c-8301-e0c8f586d704",
   "metadata": {},
   "outputs": [
    {
     "data": {
      "image/png": "[encoded data removed]",
      "text/plain": [
       "<Figure size 1500x700 with 1 Axes>"
      ]
     },
     "metadata": {},
     "output_type": "display_data"
    }
   ],
   "source": [
    "# Plot the features with their rating\n",
    "f, ax = plt.subplots(figsize=(15,7))\n",
    "axis = sns.barplot(y = 'Feature', x = 'Feature Rating', data = Features_With_Rating)\n",
    "axis.set(xlabel='Features', ylabel='Feature Rating')\n",
    "for p in axis.patches:\n",
    "    height = p.get_height() \n",
    "plt.show()"
   ]
  },
  {
   "cell_type": "markdown",
   "id": "1fb0e4b5-d829-4ebb-91d9-dfc6b866f2ca",
   "metadata": {},
   "source": [
    "### 8c: Removed features in the interest of efficiency and keeping the questions at 10"
   ]
  },
  {
   "cell_type": "code",
   "execution_count": 71,
   "id": "b8f3f2c4-4b8a-46c7-b8bb-6b3802767b16",
   "metadata": {},
   "outputs": [],
   "source": [
    "# Create new set Diabetes Predictor DataSet and drop columns with lower impacts to reduce questions to ask on survey \n",
    "Diabetes_Predictor_DataSet = CDC_Diabetes_DataFrame_Balanced.drop(columns=['Smoker','Fruits','Vegetables','Sex','HealthPlan'])"
   ]
  },
  {
   "cell_type": "markdown",
   "id": "0e8d6954-27d9-49ea-83bc-b00f42f8b969",
   "metadata": {},
   "source": [
    "### 8d: Retrain the model using the remaining features"
   ]
  },
  {
   "cell_type": "code",
   "execution_count": 72,
   "id": "50e649c0-1232-4285-b3f6-55fc6e3bb5fa",
   "metadata": {},
   "outputs": [],
   "source": [
    "Selected_Model_Final = GaussianNB()"
   ]
  },
  {
   "cell_type": "code",
   "execution_count": 73,
   "id": "ce45fd63-3c93-44c6-95d4-4f8bc2927c25",
   "metadata": {},
   "outputs": [],
   "source": [
    "# Split data into X which reflects the matrix of independent variables and y is the set of target values to be predicted\n",
    "# X includes the data from columns other than diabetes\n",
    "X = Diabetes_Predictor_DataSet.drop(\"Diabetes\", axis = 1)\n",
    "\n",
    "# y includes the data from the diabetes column \n",
    "y = Diabetes_Predictor_DataSet[\"Diabetes\"]"
   ]
  },
  {
   "cell_type": "code",
   "execution_count": 74,
   "id": "dd320fed-43ed-4995-8644-85ecb6427216",
   "metadata": {},
   "outputs": [],
   "source": [
    "# Split data into train and test sets\n",
    "X_train, X_test, y_train, y_test = train_test_split(X, y, stratify = y, test_size = 0.2)"
   ]
  },
  {
   "cell_type": "code",
   "execution_count": 75,
   "id": "0d6a73a3-f387-4bc6-b445-47729198d413",
   "metadata": {},
   "outputs": [],
   "source": [
    "# Train the model \n",
    "Selected_Model_Final.fit(X_train, y_train);"
   ]
  },
  {
   "cell_type": "code",
   "execution_count": 76,
   "id": "3f3a5d8b-cfc8-4a7e-96db-d865b6c60e18",
   "metadata": {},
   "outputs": [
    {
     "name": "stdout",
     "output_type": "stream",
     "text": [
      "Current accuracy score: 71.0417\n"
     ]
    }
   ],
   "source": [
    "# Test the model for accuracy\n",
    "print(\"Current accuracy score:\", round(Selected_Model_Final.score(X_test, y_test)*100,4))"
   ]
  },
  {
   "cell_type": "code",
   "execution_count": 77,
   "id": "ea97208f-f82d-44b7-bb8f-2fd1ee6d95ca",
   "metadata": {},
   "outputs": [
    {
     "name": "stdout",
     "output_type": "stream",
     "text": [
      "Current precision score: 75.0745\n"
     ]
    }
   ],
   "source": [
    "# Test the model for precision\n",
    "print(\"Current precision score:\", round(precision_score(y_test, Selected_Model_Final.predict(X_test))*100,4))"
   ]
  },
  {
   "cell_type": "markdown",
   "id": "a99fa6a3-32db-49f7-b4de-199fbdb87343",
   "metadata": {},
   "source": [
    "**COMMENTS:**\n",
    "\n",
    "> Precision and accuracy are still effective and over 65% which is our benchmark."
   ]
  },
  {
   "cell_type": "markdown",
   "id": "a3807315-7f9f-486f-8a40-28091beaa3d7",
   "metadata": {},
   "source": [
    "### 8e: Review the confusion matrix "
   ]
  },
  {
   "cell_type": "code",
   "execution_count": 78,
   "id": "98a8e1df-efd0-4581-ba14-ae340d0ea7e1",
   "metadata": {},
   "outputs": [
    {
     "data": {
      "image/png": "[encoded data removed]",
      "text/plain": [
       "<Figure size 640x480 with 2 Axes>"
      ]
     },
     "metadata": {},
     "output_type": "display_data"
    }
   ],
   "source": [
    "# Display Confusion Matrix\n",
    "actual = y_test\n",
    "predicted = Selected_Model_Final.predict(X_test)\n",
    "confusion_matrix = metrics.confusion_matrix(actual, predicted)\n",
    "cm_display = metrics.ConfusionMatrixDisplay(confusion_matrix = confusion_matrix/np.sum(confusion_matrix), display_labels = [\"No Diabetes\", \"Diabetes\"])\n",
    "cm_display.plot(values_format = '.2%', cmap='Blues')\n",
    "plt.title('Confusion Matrix for Diabetes in Percentages')\n",
    "plt.show()\n",
    "cf_matrix = confusion_matrix "
   ]
  },
  {
   "cell_type": "markdown",
   "id": "ca1eb750-be52-4706-a447-7b0fad2731e1",
   "metadata": {},
   "source": [
    "# B. APPLICATION DEMONSTRATING THE DIABETES PREDICTOR TOOL"
   ]
  },
  {
   "cell_type": "markdown",
   "id": "0f224851-d301-4fbc-bde5-3316e6edcde9",
   "metadata": {},
   "source": [
    "## STEP 1: IMPORT RELEVANT LIBRARIES FOR USER INTERACTION AND DISPLAY"
   ]
  },
  {
   "cell_type": "code",
   "execution_count": 79,
   "id": "22a846e8-9310-412a-9779-2e46a9b13be2",
   "metadata": {},
   "outputs": [],
   "source": [
    "import ipywidgets as widgets\n",
    "from ipywidgets import HBox, VBox\n",
    "from IPython.display import display\n",
    "%matplotlib inline"
   ]
  },
  {
   "cell_type": "markdown",
   "id": "34a965a1-fa25-4097-ab99-f601957b4a3e",
   "metadata": {},
   "source": [
    "## STEP 2:  DISPLAY FUNCTIONING TOOL AND ALLOW USER INTERACTION "
   ]
  },
  {
   "cell_type": "code",
   "execution_count": 92,
   "id": "d319bb20-a29e-4c72-a407-49a288063481",
   "metadata": {},
   "outputs": [
    {
     "data": {
      "application/vnd.jupyter.widget-view+json": {
       "model_id": "5660bf07665043b2839a838f7b215e62",
       "version_major": 2,
       "version_minor": 0
      },
      "text/plain": [
       "VBox(children=(HTML(value='<b>DIABETES SURVEY TOOL</b>'), HTML(value='1.  How old are you?'), FloatSlider(valu…"
      ]
     },
     "execution_count": 92,
     "metadata": {},
     "output_type": "execute_result"
    }
   ],
   "source": [
    "Title = widgets.HTML(\n",
    "    value='<b>DIABETES SURVEY TOOL</b>',\n",
    "    description=''\n",
    ")\n",
    "\n",
    "Survey_Question = ['1.  How old are you?',\n",
    "                   '2.  What is your preferred race category?',\n",
    "                   '3.  Have you ever been told you have high blood pressure by a doctor, nurse or other health professional?',\n",
    "                   '4.  Have you ever been told by a doctor, nurse or other health professional that your cholesterol is high?', \n",
    "                   '5.  Have you ever been told you had a stroke?',\n",
    "                   '6.  Have you ever been told you have coronary heart disease (CHD) or myocardial infarction (MI)?',\n",
    "                   '7.  Have you had alcohol in the past 30 days?',\n",
    "                   '8.  Have you done any physical activity or exercised during the past 30 days other than for work?',\n",
    "                   '9.  About how tall are you without shoes in feet and inches?',\n",
    "                   '10. About how much do you weigh without shoes?']\n",
    "\n",
    "Age_Response= widgets.FloatSlider(\n",
    "    value=5.,\n",
    "    min=18,\n",
    "    max=99,\n",
    "    step=1,\n",
    "    description='Age:',\n",
    "    readout_format='.1f',\n",
    ")\n",
    "\n",
    "Race_Response = widgets.Dropdown(\n",
    "    values= 0,\n",
    "    options=[('Not Specified',0), ('White',1), ('Black or African American',2), \n",
    "             ('American Indian or Alaskan Native',3), ('Asian',4), \n",
    "             ('Native Hawaiian or other Pacific Islander',5)], \n",
    "    description='Race'\n",
    ")\n",
    "\n",
    "High_Blood_Pressure_Response = widgets.Dropdown(\n",
    "    value='no', \n",
    "    options=['no', 'yes'], \n",
    "    description='High BP'\n",
    ")\n",
    " \n",
    " \n",
    "High_Cholesterol_Response = widgets.Dropdown(\n",
    "    value='no', \n",
    "    options=['no', 'yes'], \n",
    "    description='High Chol'\n",
    ")\n",
    " \n",
    "Stroke_Response = widgets.Dropdown(\n",
    "    value='no', \n",
    "    options=['no', 'yes'], \n",
    "    description='Stroke'\n",
    ")\n",
    "\n",
    "Heart_Issues_Response = widgets.Dropdown(\n",
    "    value='no', \n",
    "    options=['no', 'yes'], \n",
    "    description='Heart Issues'\n",
    ")\n",
    " \n",
    "Alcohol_Response = widgets.Dropdown(\n",
    "    value='no', \n",
    "    options=['no', 'yes'], \n",
    "    description='Alcohol'\n",
    ")\n",
    "\n",
    "Physical_Activity_Response = widgets.Dropdown(\n",
    "    value='no', \n",
    "    options=['no', 'yes'], \n",
    "    description='Activity'\n",
    ")\n",
    "\n",
    "Weight_Response= widgets.FloatSlider(\n",
    "    value=90,\n",
    "    min=90,\n",
    "    max=500,\n",
    "    step=1,\n",
    "    description='Weight:',\n",
    "    readout_format='.01f',\n",
    ")\n",
    "\n",
    "Height_Inches_Response= widgets.FloatSlider(\n",
    "    value=0,\n",
    "    min=0,\n",
    "    max=11,\n",
    "    step=1,\n",
    "    description='Inches:',\n",
    "    readout_format='.1f',\n",
    ")\n",
    "\n",
    "Height_Feet_Response= widgets.FloatSlider(\n",
    "    value=4,\n",
    "    min=3,\n",
    "    max=8,\n",
    "    step=1,\n",
    "    description='Feet:',\n",
    "    readout_format='.1f',\n",
    ")\n",
    "\n",
    "def Convert_YN_Response(value):\n",
    "    if value =='no':\n",
    "        changed_value = 0\n",
    "    else:\n",
    "        changed_value = 1\n",
    "    return changed_value\n",
    "\n",
    "def Convert_Age_Response(value):\n",
    "    if value < 25: \n",
    "        changed_age_data = 0\n",
    "    elif value < 30:\n",
    "        changed_age_data = 1\n",
    "    elif value < 35:\n",
    "        changed_age_data = 2\n",
    "    elif value < 40:\n",
    "        changed_age_data = 3\n",
    "    elif value < 45:\n",
    "        changed_age_data = 4\n",
    "    elif value < 50:\n",
    "        changed_age_data = 5\n",
    "    elif value < 55:\n",
    "        changed_age_data = 6\n",
    "    elif value < 60:\n",
    "        changed_age_data = 7\n",
    "    elif value < 65:\n",
    "        changed_age_data = 8\n",
    "    elif value < 70:\n",
    "        changed_age_data = 9\n",
    "    elif value < 75:\n",
    "        changed_age_data = 10\n",
    "    elif value < 80:\n",
    "        changed_age_data = 11\n",
    "    else: \n",
    "        changed_age_data = 12\n",
    "    return changed_age_data\n",
    "\n",
    "def Calculate_BMI(feet, inches, weight):\n",
    "    weight_kilograms = weight/2.2046\n",
    "    total_inches = 12*feet+inches\n",
    "    height_meters = total_inches*0.0254\n",
    "    BMI_Unrevised = weight_kilograms/(height_meters*height_meters)\n",
    "    return BMI_Unrevised\n",
    "\n",
    "def Get_BMI(BMI_Unrevised):\n",
    "    BMI = round(BMI_Unrevised,0)\n",
    "    return BMI    \n",
    "\n",
    "def Get_Overweight(BMI_Unrevised):\n",
    "    if BMI_Unrevised < 25.00:\n",
    "        Overweight = 0\n",
    "    else:  \n",
    "        Overweight = 1\n",
    "    return Overweight\n",
    "\n",
    "def Make_Prediction(test_values_DF):\n",
    "    ModelPrediction = Selected_Model_Final.predict(test_values_DF)\n",
    "    if ModelPrediction == 1:\n",
    "        prediction_message = 'PREDICTION RESPONSE:  You may be at risk for Diabetes and should contact your doctor for additional testing'\n",
    "    else:\n",
    "        prediction_message = 'PREDICTION RESPONSE:  You are not at risk for Diabetes but you should contact your doctor if you have any questions'\n",
    "    return prediction_message\n",
    "\n",
    "def Diabetes_Prediction(button):\n",
    "    BMI_Unrevised = Calculate_BMI(Height_Feet_Response.value, Height_Inches_Response.value, Weight_Response.value)\n",
    "    test_values = [[Convert_YN_Response(High_Blood_Pressure_Response.value), \n",
    "        Convert_YN_Response(High_Cholesterol_Response.value),\n",
    "        Get_BMI(BMI_Unrevised),\n",
    "        Get_Overweight(BMI_Unrevised),            \n",
    "        Convert_YN_Response(Stroke_Response.value), \n",
    "        Convert_YN_Response(Heart_Issues_Response.value),\n",
    "        Convert_YN_Response(Physical_Activity_Response.value),            \n",
    "        Convert_YN_Response(Alcohol_Response.value),\n",
    "        Convert_Age_Response(Age_Response.value),\n",
    "        Race_Response.value]]\n",
    "    test_columns = Diabetes_Predictor_DataSet.columns.values.tolist()\n",
    "    test_columns.remove(\"Diabetes\")\n",
    "    test_values_DF = pd.DataFrame(test_values, columns=test_columns) \n",
    "    message = Make_Prediction(test_values_DF)\n",
    "    out.clear_output()\n",
    "    with out:\n",
    "        display(message)\n",
    "\n",
    "# Predict button\n",
    "Instruction_Message = '<b>Click the predict button once responses are complete'\n",
    "Predict_Button = widgets.Button(description='Predict')\n",
    "Predict_Button.on_click(Diabetes_Prediction)\n",
    "out = widgets.Output(layout={'border': '3px solid green'})\n",
    "\n",
    "# a VBox container to pack widgets vertically\n",
    "widgets.VBox(\n",
    "    [  Title, \n",
    "        widgets.HTML(Survey_Question[0]),\n",
    "        Age_Response, \n",
    "        widgets.HTML(Survey_Question[1]),\n",
    "        Race_Response, \n",
    "        widgets.HTML(Survey_Question[2]),\n",
    "        High_Blood_Pressure_Response, \n",
    "        widgets.HTML(Survey_Question[3]),\n",
    "        High_Cholesterol_Response, \n",
    "        widgets.HTML(Survey_Question[4]),\n",
    "        Stroke_Response, \n",
    "        widgets.HTML(Survey_Question[5]),\n",
    "        Heart_Issues_Response,\n",
    "        widgets.HTML(Survey_Question[6]),\n",
    "        Alcohol_Response,\n",
    "        widgets.HTML(Survey_Question[7]),\n",
    "        Physical_Activity_Response, \n",
    "        widgets.HTML(Survey_Question[8]),\n",
    "        Height_Feet_Response, \n",
    "        Height_Inches_Response, \n",
    "        widgets.HTML(Survey_Question[9]),\n",
    "        Weight_Response, \n",
    "        widgets.HTML(Instruction_Message),\n",
    "        Predict_Button,\n",
    "        out,\n",
    "    ]\n",
    ")\n"
   ]
  },
  {
   "cell_type": "markdown",
   "id": "a5e0688f-90fa-40f2-91b0-0085ed7ac32c",
   "metadata": {},
   "source": [
    "# RESOURCES USED\n",
    "\n",
    "In the interest of transparency, the following course provided valuable insight into the machine learning methodology herein. \n",
    "\n",
    "> https://www.udemy.com/course/complete-machine-learning-and-data-science-zero-to-mastery/learn/lecture/16451328#overview"
   ]
  }
 ],
 "metadata": {
  "kernelspec": {
   "display_name": "Python 3 (ipykernel)",
   "language": "python",
   "name": "python3"
  },
  "language_info": {
   "codemirror_mode": {
    "name": "ipython",
    "version": 3
   },
   "file_extension": ".py",
   "mimetype": "text/x-python",
   "name": "python",
   "nbconvert_exporter": "python",
   "pygments_lexer": "ipython3",
   "version": "3.10.13"
  }
 },
 "nbformat": 4,
 "nbformat_minor": 5
}
