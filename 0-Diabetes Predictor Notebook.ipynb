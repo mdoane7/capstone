{
 "cells": [
  {
   "cell_type": "markdown",
   "id": "7638854d-235e-43b9-b6e4-436038458dd4",
   "metadata": {},
   "source": [
    "# DIABETES PREDICTOR TOOL PROJECT "
   ]
  },
  {
   "cell_type": "markdown",
   "id": "92153734-f734-4c2d-b2ee-85a726b24aac",
   "metadata": {},
   "source": [
    "#### By Mona Doane, BMath, BSCS"
   ]
  },
  {
   "cell_type": "markdown",
   "id": "19c265ad-6226-4f02-b00d-d1250689dc99",
   "metadata": {},
   "source": [
    "## PROBLEM DEFINITION:  \n",
    "The problem of diabetes requires early detection and this project aims to create a machine-learning tool that provides First-Class Health Care Systems with a solution.  The question that the machine-learning tool expects to answer is \"Given certain parameters about a person, can one predict whether the person has diabetes?\""
   ]
  },
  {
   "cell_type": "markdown",
   "id": "50f127c4-5731-4da5-8bd6-e7960862db36",
   "metadata": {},
   "source": [
    "## SOLUTION OVERVIEW\n",
    "\n",
    "This notebook provides the methodology used to create a machine-learning-based diabetes predictor tool using the data available and includes a demonstration of the **Diabetes Predictor Tool** for use by First-Class Health Care Systems."
   ]
  },
  {
   "cell_type": "markdown",
   "id": "6e5dd083-f4f9-4a73-834d-aea2e1493f18",
   "metadata": {},
   "source": [
    "## CONTENTS\n",
    "\n",
    "The notebook is separated into two sections: \n",
    "- **A.**   Methodology for developing the Diabetes Predictor Tool\n",
    "- **B.**   Application demonstrating the Diabetes Predictor Tool"
   ]
  },
  {
   "cell_type": "markdown",
   "id": "a5e0688f-90fa-40f2-91b0-0085ed7ac32c",
   "metadata": {},
   "source": [
    "# RESOURCES USED\n",
    "\n",
    "Jupyter Notebook and Machine Learning: \n",
    "> https://www.udemy.com/course/complete-machine-learning-and-data-science-zero-to-mastery/learn/lecture/16451328#overview\n",
    "\n",
    "Data for Methodology:\n",
    "> https://www.kaggle.com/datasets/dariushbahrami/cdc-brfss-survey-2021\n",
    "\n",
    "Explanation of Data and Column Headers:\n",
    "> https://www.cdc.gov/brfss/annual_data/2021/pdf/codebook21_llcp-v2-508.pdf"
   ]
  }
 ],
 "metadata": {
  "kernelspec": {
   "display_name": "Python 3 (ipykernel)",
   "language": "python",
   "name": "python3"
  },
  "language_info": {
   "codemirror_mode": {
    "name": "ipython",
    "version": 3
   },
   "file_extension": ".py",
   "mimetype": "text/x-python",
   "name": "python",
   "nbconvert_exporter": "python",
   "pygments_lexer": "ipython3",
   "version": "3.10.13"
  }
 },
 "nbformat": 4,
 "nbformat_minor": 5
}
